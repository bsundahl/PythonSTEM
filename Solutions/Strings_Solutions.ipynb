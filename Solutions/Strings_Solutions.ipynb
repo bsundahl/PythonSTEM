{
 "cells": [
  {
   "cell_type": "markdown",
   "metadata": {
    "collapsed": true
   },
   "source": [
    "# Strings "
   ]
  },
  {
   "cell_type": "markdown",
   "metadata": {},
   "source": [
    "## Basics "
   ]
  },
  {
   "cell_type": "markdown",
   "metadata": {},
   "source": [
    "We have seen strings before (when we learned about all the different data types.) Now we're going to take a more in-depth look at strings. String manipulation is one of Python's greatest strengths, and many people that program in Python use it explicitly for this strength.\n",
    "  \n",
    "We know that strings are what we would think of as words in English. Examples are \"cat\", \"dog\", and \"squirrel\". In Python we declare them with quotation marks."
   ]
  },
  {
   "cell_type": "code",
   "execution_count": 1,
   "metadata": {
    "collapsed": true
   },
   "outputs": [],
   "source": [
    "a = \"Cat\"\n",
    "b = \"Dog\"\n",
    "c = \"Squirrel\""
   ]
  },
  {
   "cell_type": "markdown",
   "metadata": {},
   "source": [
    "Without quotation marks we would get an error (Python assumes that something without quotation marks is a variable)."
   ]
  },
  {
   "cell_type": "code",
   "execution_count": 2,
   "metadata": {
    "collapsed": false
   },
   "outputs": [
    {
     "ename": "NameError",
     "evalue": "name 'Cat' is not defined",
     "output_type": "error",
     "traceback": [
      "\u001b[0;31m---------------------------------------------------------------------------\u001b[0m",
      "\u001b[0;31mNameError\u001b[0m                                 Traceback (most recent call last)",
      "\u001b[0;32m<ipython-input-2-db9271bbfc7d>\u001b[0m in \u001b[0;36m<module>\u001b[0;34m()\u001b[0m\n\u001b[0;32m----> 1\u001b[0;31m \u001b[0ma\u001b[0m \u001b[0;34m=\u001b[0m \u001b[0mCat\u001b[0m\u001b[0;34m\u001b[0m\u001b[0m\n\u001b[0m",
      "\u001b[0;31mNameError\u001b[0m: name 'Cat' is not defined"
     ]
    }
   ],
   "source": [
    "a = Cat"
   ]
  },
  {
   "cell_type": "markdown",
   "metadata": {},
   "source": [
    "We can print the contents of a string in a simple and straightforward manner:"
   ]
  },
  {
   "cell_type": "code",
   "execution_count": 3,
   "metadata": {
    "collapsed": false
   },
   "outputs": [
    {
     "name": "stdout",
     "output_type": "stream",
     "text": [
      "Cat\n"
     ]
    }
   ],
   "source": [
    "print a"
   ]
  },
  {
   "cell_type": "markdown",
   "metadata": {},
   "source": [
    "We can add two strings together (this process is commonly called concatenation)."
   ]
  },
  {
   "cell_type": "code",
   "execution_count": 4,
   "metadata": {
    "collapsed": false
   },
   "outputs": [
    {
     "name": "stdout",
     "output_type": "stream",
     "text": [
      "CatDog\n"
     ]
    }
   ],
   "source": [
    "print a + b"
   ]
  },
  {
   "cell_type": "markdown",
   "metadata": {},
   "source": [
    "Notice no space was put between the two concatenated strings. We can also do this with literal strings (literal strings are the actual strings inside the double quotation marks). "
   ]
  },
  {
   "cell_type": "code",
   "execution_count": 5,
   "metadata": {
    "collapsed": false
   },
   "outputs": [
    {
     "data": {
      "text/plain": [
       "'CatDog'"
      ]
     },
     "execution_count": 5,
     "metadata": {},
     "output_type": "execute_result"
    }
   ],
   "source": [
    "\"Cat\" + \"Dog\""
   ]
  },
  {
   "cell_type": "markdown",
   "metadata": {},
   "source": [
    "Multiplication of a string by an integer simply replicates the string multiple times."
   ]
  },
  {
   "cell_type": "code",
   "execution_count": 6,
   "metadata": {
    "collapsed": false,
    "scrolled": true
   },
   "outputs": [
    {
     "data": {
      "text/plain": [
       "'CatCatCatCatCat'"
      ]
     },
     "execution_count": 6,
     "metadata": {},
     "output_type": "execute_result"
    }
   ],
   "source": [
    "a*5"
   ]
  },
  {
   "cell_type": "markdown",
   "metadata": {},
   "source": [
    "Subtraction and division don't make sense in terms of strings. "
   ]
  },
  {
   "cell_type": "code",
   "execution_count": 7,
   "metadata": {
    "collapsed": false
   },
   "outputs": [
    {
     "ename": "TypeError",
     "evalue": "unsupported operand type(s) for -: 'str' and 'str'",
     "output_type": "error",
     "traceback": [
      "\u001b[0;31m---------------------------------------------------------------------------\u001b[0m",
      "\u001b[0;31mTypeError\u001b[0m                                 Traceback (most recent call last)",
      "\u001b[0;32m<ipython-input-7-a5f966a4b1f4>\u001b[0m in \u001b[0;36m<module>\u001b[0;34m()\u001b[0m\n\u001b[0;32m----> 1\u001b[0;31m \u001b[0ma\u001b[0m \u001b[0;34m-\u001b[0m \u001b[0mb\u001b[0m\u001b[0;34m\u001b[0m\u001b[0m\n\u001b[0m",
      "\u001b[0;31mTypeError\u001b[0m: unsupported operand type(s) for -: 'str' and 'str'"
     ]
    }
   ],
   "source": [
    "a - b"
   ]
  },
  {
   "cell_type": "code",
   "execution_count": 8,
   "metadata": {
    "collapsed": false
   },
   "outputs": [
    {
     "ename": "TypeError",
     "evalue": "unsupported operand type(s) for /: 'str' and 'str'",
     "output_type": "error",
     "traceback": [
      "\u001b[0;31m---------------------------------------------------------------------------\u001b[0m",
      "\u001b[0;31mTypeError\u001b[0m                                 Traceback (most recent call last)",
      "\u001b[0;32m<ipython-input-8-e2849c5acc5e>\u001b[0m in \u001b[0;36m<module>\u001b[0;34m()\u001b[0m\n\u001b[0;32m----> 1\u001b[0;31m \u001b[0ma\u001b[0m \u001b[0;34m/\u001b[0m \u001b[0mb\u001b[0m\u001b[0;34m\u001b[0m\u001b[0m\n\u001b[0m",
      "\u001b[0;31mTypeError\u001b[0m: unsupported operand type(s) for /: 'str' and 'str'"
     ]
    }
   ],
   "source": [
    "a / b"
   ]
  },
  {
   "cell_type": "markdown",
   "metadata": {},
   "source": [
    "In Python, strings are stored as a list of characters (or chars). Therefore we can access specific elements of a string using the square bracket [ ] notation. Once again, remember that Python's first index in a list is the zero index."
   ]
  },
  {
   "cell_type": "code",
   "execution_count": 9,
   "metadata": {
    "collapsed": false
   },
   "outputs": [
    {
     "data": {
      "text/plain": [
       "'S'"
      ]
     },
     "execution_count": 9,
     "metadata": {},
     "output_type": "execute_result"
    }
   ],
   "source": [
    "c[0]"
   ]
  },
  {
   "cell_type": "code",
   "execution_count": 10,
   "metadata": {
    "collapsed": false
   },
   "outputs": [
    {
     "data": {
      "text/plain": [
       "'q'"
      ]
     },
     "execution_count": 10,
     "metadata": {},
     "output_type": "execute_result"
    }
   ],
   "source": [
    "c[1]"
   ]
  },
  {
   "cell_type": "code",
   "execution_count": 11,
   "metadata": {
    "collapsed": false
   },
   "outputs": [
    {
     "data": {
      "text/plain": [
       "'u'"
      ]
     },
     "execution_count": 11,
     "metadata": {},
     "output_type": "execute_result"
    }
   ],
   "source": [
    "c[2]"
   ]
  },
  {
   "cell_type": "markdown",
   "metadata": {},
   "source": [
    "We can go too far though, and we'll get an error when we do."
   ]
  },
  {
   "cell_type": "code",
   "execution_count": 12,
   "metadata": {
    "collapsed": false
   },
   "outputs": [
    {
     "ename": "IndexError",
     "evalue": "string index out of range",
     "output_type": "error",
     "traceback": [
      "\u001b[0;31m---------------------------------------------------------------------------\u001b[0m",
      "\u001b[0;31mIndexError\u001b[0m                                Traceback (most recent call last)",
      "\u001b[0;32m<ipython-input-12-53737266c3d2>\u001b[0m in \u001b[0;36m<module>\u001b[0;34m()\u001b[0m\n\u001b[0;32m----> 1\u001b[0;31m \u001b[0mc\u001b[0m\u001b[0;34m[\u001b[0m\u001b[0;36m10\u001b[0m\u001b[0;34m]\u001b[0m\u001b[0;34m\u001b[0m\u001b[0m\n\u001b[0m",
      "\u001b[0;31mIndexError\u001b[0m: string index out of range"
     ]
    }
   ],
   "source": [
    "c[10]"
   ]
  },
  {
   "cell_type": "markdown",
   "metadata": {},
   "source": [
    "Just like in normal lists in Python, we also use negative indices."
   ]
  },
  {
   "cell_type": "code",
   "execution_count": 13,
   "metadata": {
    "collapsed": false
   },
   "outputs": [
    {
     "data": {
      "text/plain": [
       "'l'"
      ]
     },
     "execution_count": 13,
     "metadata": {},
     "output_type": "execute_result"
    }
   ],
   "source": [
    "'Squirrel'[-1]"
   ]
  },
  {
   "cell_type": "markdown",
   "metadata": {},
   "source": [
    "And once again, we can go too far backwards."
   ]
  },
  {
   "cell_type": "code",
   "execution_count": 14,
   "metadata": {
    "collapsed": false
   },
   "outputs": [
    {
     "ename": "IndexError",
     "evalue": "string index out of range",
     "output_type": "error",
     "traceback": [
      "\u001b[0;31m---------------------------------------------------------------------------\u001b[0m",
      "\u001b[0;31mIndexError\u001b[0m                                Traceback (most recent call last)",
      "\u001b[0;32m<ipython-input-14-5fa783df08fd>\u001b[0m in \u001b[0;36m<module>\u001b[0;34m()\u001b[0m\n\u001b[0;32m----> 1\u001b[0;31m \u001b[0;34m'Squirrel'\u001b[0m\u001b[0;34m[\u001b[0m\u001b[0;34m-\u001b[0m\u001b[0;36m10\u001b[0m\u001b[0;34m]\u001b[0m\u001b[0;34m\u001b[0m\u001b[0m\n\u001b[0m",
      "\u001b[0;31mIndexError\u001b[0m: string index out of range"
     ]
    }
   ],
   "source": [
    "'Squirrel'[-10]"
   ]
  },
  {
   "cell_type": "markdown",
   "metadata": {},
   "source": [
    "Just like we did with lists, we can use a colon (:) to slice a string."
   ]
  },
  {
   "cell_type": "code",
   "execution_count": 15,
   "metadata": {
    "collapsed": false
   },
   "outputs": [
    {
     "data": {
      "text/plain": [
       "'Squ'"
      ]
     },
     "execution_count": 15,
     "metadata": {},
     "output_type": "execute_result"
    }
   ],
   "source": [
    "c[:3]"
   ]
  },
  {
   "cell_type": "code",
   "execution_count": 16,
   "metadata": {
    "collapsed": false
   },
   "outputs": [
    {
     "data": {
      "text/plain": [
       "'irrel'"
      ]
     },
     "execution_count": 16,
     "metadata": {},
     "output_type": "execute_result"
    }
   ],
   "source": [
    "c[3:]"
   ]
  },
  {
   "cell_type": "code",
   "execution_count": 17,
   "metadata": {
    "collapsed": false
   },
   "outputs": [
    {
     "data": {
      "text/plain": [
       "'quirr'"
      ]
     },
     "execution_count": 17,
     "metadata": {},
     "output_type": "execute_result"
    }
   ],
   "source": [
    "c[1:-2]"
   ]
  },
  {
   "cell_type": "markdown",
   "metadata": {},
   "source": [
    "We can have strings with special characters if we use the escape character \\. For example, you would need this if you wanted your string to include a quotation mark."
   ]
  },
  {
   "cell_type": "code",
   "execution_count": 18,
   "metadata": {
    "collapsed": false
   },
   "outputs": [
    {
     "name": "stdout",
     "output_type": "stream",
     "text": [
      "I put a quotation mark \" in this string\n"
     ]
    }
   ],
   "source": [
    "newstring = \"I put a quotation mark \\\" in this string\"  #use \\\" to put a quotation mark inside a string\n",
    "print newstring"
   ]
  },
  {
   "cell_type": "code",
   "execution_count": 19,
   "metadata": {
    "collapsed": false
   },
   "outputs": [
    {
     "name": "stdout",
     "output_type": "stream",
     "text": [
      "Here is\n",
      "a new line\n"
     ]
    }
   ],
   "source": [
    "newstring2 = \"Here is\\na new line\" #use \\n to insert a new line into a string\n",
    "print newstring2"
   ]
  },
  {
   "cell_type": "code",
   "execution_count": 20,
   "metadata": {
    "collapsed": false
   },
   "outputs": [
    {
     "name": "stdout",
     "output_type": "stream",
     "text": [
      "Here is a\ttab\n"
     ]
    }
   ],
   "source": [
    "newstring3 = \"Here is a\\ttab\" #use \\t to insert a tab into a string\n",
    "print newstring3"
   ]
  },
  {
   "cell_type": "code",
   "execution_count": 21,
   "metadata": {
    "collapsed": false
   },
   "outputs": [
    {
     "name": "stdout",
     "output_type": "stream",
     "text": [
      "And I put a backslash \\ into this string.\n"
     ]
    }
   ],
   "source": [
    "newstring4 = \"And I put a backslash \\\\ into this string.\" #use \\\\ to put a backslash into a string\n",
    "print newstring4"
   ]
  },
  {
   "cell_type": "markdown",
   "metadata": {},
   "source": [
    "## Important Functions "
   ]
  },
  {
   "cell_type": "markdown",
   "metadata": {},
   "source": [
    "So what are some built-in things we can do with strings? Just like with lists, we can use the len( ) function to give the length of the string."
   ]
  },
  {
   "cell_type": "code",
   "execution_count": 22,
   "metadata": {
    "collapsed": false
   },
   "outputs": [
    {
     "data": {
      "text/plain": [
       "3"
      ]
     },
     "execution_count": 22,
     "metadata": {},
     "output_type": "execute_result"
    }
   ],
   "source": [
    "len(a)"
   ]
  },
  {
   "cell_type": "code",
   "execution_count": 23,
   "metadata": {
    "collapsed": false
   },
   "outputs": [
    {
     "data": {
      "text/plain": [
       "8"
      ]
     },
     "execution_count": 23,
     "metadata": {},
     "output_type": "execute_result"
    }
   ],
   "source": [
    "len(c)"
   ]
  },
  {
   "cell_type": "markdown",
   "metadata": {},
   "source": [
    "We can cast to uppercase or lower case as well. Notice that punctuation and white space aren't affected."
   ]
  },
  {
   "cell_type": "code",
   "execution_count": 24,
   "metadata": {
    "collapsed": false
   },
   "outputs": [
    {
     "data": {
      "text/plain": [
       "'CAT'"
      ]
     },
     "execution_count": 24,
     "metadata": {},
     "output_type": "execute_result"
    }
   ],
   "source": [
    "a.upper()"
   ]
  },
  {
   "cell_type": "code",
   "execution_count": 25,
   "metadata": {
    "collapsed": false,
    "scrolled": true
   },
   "outputs": [
    {
     "data": {
      "text/plain": [
       "'hello!'"
      ]
     },
     "execution_count": 25,
     "metadata": {},
     "output_type": "execute_result"
    }
   ],
   "source": [
    "'HELLO!'.lower()"
   ]
  },
  {
   "cell_type": "markdown",
   "metadata": {},
   "source": [
    "We can use the \"in\" command to find out if our string contains something. Order is important here, as it will search the string input on the right-hand side for the string on the left-hand side."
   ]
  },
  {
   "cell_type": "code",
   "execution_count": 26,
   "metadata": {
    "collapsed": false
   },
   "outputs": [
    {
     "data": {
      "text/plain": [
       "True"
      ]
     },
     "execution_count": 26,
     "metadata": {},
     "output_type": "execute_result"
    }
   ],
   "source": [
    "'a' in a"
   ]
  },
  {
   "cell_type": "code",
   "execution_count": 27,
   "metadata": {
    "collapsed": false
   },
   "outputs": [
    {
     "data": {
      "text/plain": [
       "False"
      ]
     },
     "execution_count": 27,
     "metadata": {},
     "output_type": "execute_result"
    }
   ],
   "source": [
    "a in 'a'"
   ]
  },
  {
   "cell_type": "markdown",
   "metadata": {},
   "source": [
    "We can also search for strings in strings."
   ]
  },
  {
   "cell_type": "code",
   "execution_count": 28,
   "metadata": {
    "collapsed": false
   },
   "outputs": [
    {
     "data": {
      "text/plain": [
       "True"
      ]
     },
     "execution_count": 28,
     "metadata": {},
     "output_type": "execute_result"
    }
   ],
   "source": [
    "'hello' in 'hello world'"
   ]
  },
  {
   "cell_type": "markdown",
   "metadata": {},
   "source": [
    "We can also check if a string starts with or ends with a specific character or string. Note that they are case sensitive."
   ]
  },
  {
   "cell_type": "code",
   "execution_count": 29,
   "metadata": {
    "collapsed": false
   },
   "outputs": [
    {
     "data": {
      "text/plain": [
       "True"
      ]
     },
     "execution_count": 29,
     "metadata": {},
     "output_type": "execute_result"
    }
   ],
   "source": [
    "'hello'.startswith('h')"
   ]
  },
  {
   "cell_type": "code",
   "execution_count": 30,
   "metadata": {
    "collapsed": false
   },
   "outputs": [
    {
     "data": {
      "text/plain": [
       "False"
      ]
     },
     "execution_count": 30,
     "metadata": {},
     "output_type": "execute_result"
    }
   ],
   "source": [
    "'hello'.startswith('o')"
   ]
  },
  {
   "cell_type": "code",
   "execution_count": 31,
   "metadata": {
    "collapsed": false
   },
   "outputs": [
    {
     "data": {
      "text/plain": [
       "True"
      ]
     },
     "execution_count": 31,
     "metadata": {},
     "output_type": "execute_result"
    }
   ],
   "source": [
    "'The quick brown fox jumped over the lazy dog\\'s back.'.startswith(\"The\")"
   ]
  },
  {
   "cell_type": "code",
   "execution_count": 32,
   "metadata": {
    "collapsed": false
   },
   "outputs": [
    {
     "data": {
      "text/plain": [
       "True"
      ]
     },
     "execution_count": 32,
     "metadata": {},
     "output_type": "execute_result"
    }
   ],
   "source": [
    "'hello'.endswith('o')"
   ]
  },
  {
   "cell_type": "code",
   "execution_count": 33,
   "metadata": {
    "collapsed": false
   },
   "outputs": [
    {
     "data": {
      "text/plain": [
       "True"
      ]
     },
     "execution_count": 33,
     "metadata": {},
     "output_type": "execute_result"
    }
   ],
   "source": [
    "'The quick brown fox jumped over the lazy dog\\'s back.'.endswith(\"back.\")"
   ]
  },
  {
   "cell_type": "markdown",
   "metadata": {},
   "source": [
    "We can also get rid of all the white space in a string and save each word into a seperate index in a list."
   ]
  },
  {
   "cell_type": "code",
   "execution_count": 34,
   "metadata": {
    "collapsed": false
   },
   "outputs": [
    {
     "name": "stdout",
     "output_type": "stream",
     "text": [
      "Lots\n",
      "of\n",
      "spaces\n",
      "everywhere!\n"
     ]
    }
   ],
   "source": [
    "line = \"Lots     of    spaces               everywhere!\"\n",
    "new_list = line.split()\n",
    "print new_list[0]\n",
    "print new_list[1]\n",
    "print new_list[2]\n",
    "print new_list[3]"
   ]
  },
  {
   "cell_type": "markdown",
   "metadata": {},
   "source": [
    "## Practice Problems "
   ]
  },
  {
   "cell_type": "markdown",
   "metadata": {},
   "source": [
    "Create a list containing some strings. Then add all of the strings together and print the result."
   ]
  },
  {
   "cell_type": "code",
   "execution_count": 35,
   "metadata": {
    "collapsed": false
   },
   "outputs": [
    {
     "name": "stdout",
     "output_type": "stream",
     "text": [
      "catdogfoxpig\n"
     ]
    }
   ],
   "source": [
    "# Creating the list\n",
    "my_list = [\"cat\", \"dog\", \"fox\", \"pig\"]\n",
    "\n",
    "# Empty string to contain the result of adding\n",
    "# all the strings together\n",
    "my_string = \"\"\n",
    "\n",
    "# Using a for loop to iterate through the list and\n",
    "# add each element to a new string\n",
    "for word in my_list:\n",
    "    \n",
    "    # Each time through the loop, the variable \"word\"\n",
    "    # will contain the next element of the list\n",
    "    my_string = my_string + word\n",
    "    \n",
    "# Print the answer\n",
    "print my_string"
   ]
  },
  {
   "cell_type": "markdown",
   "metadata": {},
   "source": [
    "Write a cell that determines how many words are in a string. (Assume that the string is a sentence where words are all seperated by a space.)"
   ]
  },
  {
   "cell_type": "code",
   "execution_count": 36,
   "metadata": {
    "collapsed": false
   },
   "outputs": [
    {
     "name": "stdout",
     "output_type": "stream",
     "text": [
      "There are 10 words in \"the_string\" variable.\n"
     ]
    }
   ],
   "source": [
    "# My test string\n",
    "the_string = \"The quick brown fox jumped over the lazy dog's back.\"\n",
    "\n",
    "# Using the .split() function to split the sentence up every time\n",
    "# whitespace (ex: an empty space) is found. Then the number of words\n",
    "# will simply be the length of counter.\n",
    "counter = the_string.split()\n",
    "\n",
    "# Print the answer\n",
    "print \"There are\", len(counter), \"words in \\\"the_string\\\" variable.\""
   ]
  },
  {
   "cell_type": "markdown",
   "metadata": {},
   "source": [
    "Write a cell that doubles every letter. For example, \"Steve\" would become \"SStteevvee\"."
   ]
  },
  {
   "cell_type": "code",
   "execution_count": 37,
   "metadata": {
    "collapsed": false
   },
   "outputs": [
    {
     "name": "stdout",
     "output_type": "stream",
     "text": [
      "BBrryyaann\n"
     ]
    }
   ],
   "source": [
    "# My test string\n",
    "my_string = \"Bryan\"\n",
    "\n",
    "# Creating an empty string to add to inside a loop\n",
    "my_answer = \"\"\n",
    "\n",
    "# Loop over every character in the string\n",
    "for char in my_string:\n",
    "    \n",
    "    # Each time through the loop, \"char\" is the next character\n",
    "    # in my_string. The *2 will add two characters to \"my_answer\"\n",
    "    my_answer = my_answer + char*2\n",
    "    \n",
    "# Print the result\n",
    "print my_answer"
   ]
  },
  {
   "cell_type": "markdown",
   "metadata": {},
   "source": [
    "Write a cell that takes a string as input and prints the string, written in reverse. For example, if given the string \"coconut\" the cell would print \"tunococ\"."
   ]
  },
  {
   "cell_type": "code",
   "execution_count": 38,
   "metadata": {
    "collapsed": false
   },
   "outputs": [
    {
     "name": "stdout",
     "output_type": "stream",
     "text": [
      "tunococ\n"
     ]
    }
   ],
   "source": [
    "# My test string\n",
    "my_string = \"coconut\"\n",
    "\n",
    "# Creating an empty string to add to inside a loop\n",
    "my_answer = \"\"\n",
    "\n",
    "# Loop over every character in the string\n",
    "for char in my_string:\n",
    "    \n",
    "    # Just add the old string to char every time through the loop to reverse it\n",
    "    # String addition is not commutative in Python! ( A + B != B + A)\n",
    "    my_answer = char + my_answer\n",
    "    \n",
    "# Print the answer\n",
    "print my_answer"
   ]
  },
  {
   "cell_type": "markdown",
   "metadata": {},
   "source": [
    "Write a cell that inserts the string \"c\" at a given location inside another string. For example, create an integer and initialize it to 3. Then insert \"c\" after the 3rd position of the string \"She sells seashells\".\n",
    "\n",
    "Your cell should produce the string \"Shec sells seashells\"."
   ]
  },
  {
   "cell_type": "code",
   "execution_count": 39,
   "metadata": {
    "collapsed": true
   },
   "outputs": [],
   "source": [
    "character = \"c\"\n",
    "location = 3                            #change this to have some fun\n",
    "test_string = \"She sells seashells\"     #or change this for some more fun\n",
    "\n",
    "#your code goes here"
   ]
  },
  {
   "cell_type": "code",
   "execution_count": 40,
   "metadata": {
    "collapsed": false
   },
   "outputs": [
    {
     "name": "stdout",
     "output_type": "stream",
     "text": [
      "Shec sells seashells\n"
     ]
    }
   ],
   "source": [
    "# Keeping the same definitions\n",
    "character = \"c\"\n",
    "location = 3                            #change this to have some fun\n",
    "test_string = \"She sells seashells\"     #or change this for some more fun\n",
    "\n",
    "# Just use slicing\n",
    "# First slice takes up to \"location\"\n",
    "# Second slice takes everything after \"location\"\n",
    "test_string = test_string[:location] + character + test_string[location:]\n",
    "\n",
    "# And print our answer\n",
    "print test_string"
   ]
  },
  {
   "cell_type": "markdown",
   "metadata": {
    "collapsed": true
   },
   "source": [
    "## Advanced Problems"
   ]
  },
  {
   "cell_type": "markdown",
   "metadata": {},
   "source": [
    "*Numbers*: Write a cell that determines if a string contains any number (any of the following: 0, 1, 2, 3, 4, 5, 6, 7, 8, or 9)."
   ]
  },
  {
   "cell_type": "code",
   "execution_count": 41,
   "metadata": {
    "collapsed": false
   },
   "outputs": [
    {
     "name": "stdout",
     "output_type": "stream",
     "text": [
      "Does the string contain a number?  True\n"
     ]
    }
   ],
   "source": [
    "# The test string\n",
    "the_string = \"The address is 584 West Street.\"\n",
    "\n",
    "# Create a string containing all the digits\n",
    "numbers = \"0123456789\"\n",
    "\n",
    "# Boolean variable to tell if a number was found\n",
    "answer = False\n",
    "\n",
    "# Loop\n",
    "for char in the_string:\n",
    "    \n",
    "    # Check if the variable 'char' is in the string \"numbers\"\n",
    "    if char in numbers:\n",
    "        \n",
    "        # Char is a number, therefor \"the_string\" contains a number\n",
    "        # Change answer to True\n",
    "        answer = True\n",
    "        \n",
    "# Print the answer\n",
    "print \"Does the string contain a number? \", answer"
   ]
  },
  {
   "cell_type": "markdown",
   "metadata": {},
   "source": [
    "*Vowels*: Write a cell that determines the index in a string of all the vowels. Do not consider \"y\" as a vowel for this."
   ]
  },
  {
   "cell_type": "code",
   "execution_count": 42,
   "metadata": {
    "collapsed": false
   },
   "outputs": [
    {
     "name": "stdout",
     "output_type": "stream",
     "text": [
      "The vowels in \" Onomatopoeia is a thing. \" are located at\n",
      "[0, 2, 4, 6, 8, 9, 10, 11, 13, 16, 20]\n"
     ]
    }
   ],
   "source": [
    "# The test string\n",
    "the_string = \"Onomatopoeia is a thing.\"\n",
    "\n",
    "# Create a string containing all the vowels\n",
    "vowels = \"aeiouAEIOU\"\n",
    "\n",
    "# Variable to hold indexes of all vowels\n",
    "answer = []\n",
    "\n",
    "# Loop\n",
    "# range(n) creates a list of integers from 0\n",
    "# to the n, where n is the first number \n",
    "# excluded.\n",
    "for i in range(len(the_string)):\n",
    "    \n",
    "    # Check if the variable 'char' is in the string \"vowels\"\n",
    "    if the_string[i] in vowels:\n",
    "        \n",
    "        # Char is a number, therefor \"the_string\" contains a number\n",
    "        # Append the index to our answer\n",
    "        answer.append(i)\n",
    "        \n",
    "# Print the answer\n",
    "print \"The vowels in \\\"\", the_string, \"\\\" are located at\\n\", answer"
   ]
  },
  {
   "cell_type": "markdown",
   "metadata": {},
   "source": [
    "*Palindrome*:  \n",
    "From Wikipedia (https://en.wikipedia.org/wiki/Palindrome):  \n",
    "A palindrome is a word, phrase, number, or other sequence of characters which reads the same backward or forward. Allowances may be made for adjustments to capital letters, punctuation, and word dividers. Examples in English include \"A man, a plan, a canal, Panama!\", \"Amor, Roma\", \"race car\", \"stack cats\", \"step on no pets\", \"taco cat\", \"put it up\", \"Was it a car or a cat I saw?\" and \"No 'x' in Nixon\".\n",
    "  \n",
    "Write a cell that determines if a string is a palindrome. Make it case insensitive. Deal with punctuation as you choose (or not at all)."
   ]
  },
  {
   "cell_type": "code",
   "execution_count": 43,
   "metadata": {
    "collapsed": false
   },
   "outputs": [
    {
     "name": "stdout",
     "output_type": "stream",
     "text": [
      "Is ' no x in nixon ' a palindrome? True\n"
     ]
    }
   ],
   "source": [
    "# I'm going to handle spaces\n",
    "\n",
    "# Note: This code IS case sensitive.\n",
    "\n",
    "# My test string\n",
    "my_string = \"no x in nixon\"\n",
    "\n",
    "# Saving the length of the string\n",
    "length = len(my_string)\n",
    "\n",
    "# Boolean variable to tell if the string\n",
    "# is a palindrome\n",
    "palindrome = True\n",
    "\n",
    "# Going to loop with 2 indices, so need 2 dummy variables\n",
    "i = 0                  # Starting one at zero (the left end)\n",
    "j = len(my_string)-1   # Starting at the end of the word (the right end)\n",
    "\n",
    "# Lets loop\n",
    "while i < length:\n",
    "\n",
    "    # Check if my_string[i] should be ignored\n",
    "    if my_string[i] == \" \":\n",
    "        \n",
    "        # Increment i to skip the thing we want to ignore\n",
    "        i = i + 1\n",
    "        \n",
    "    # Check if my_string[j] should be ignored\n",
    "    if my_string[j] == \" \":\n",
    "        \n",
    "        # Decrement j to skip the thing we want to ignore\n",
    "        j = j - 1\n",
    "\n",
    "    # Check if my_string[i] == my_string[j]\n",
    "    if my_string[i] == my_string[j]:\n",
    "        \n",
    "        # They are the same, so keep going by\n",
    "        # incrementing i and decrementing j\n",
    "        i = i + 1\n",
    "        j = j - 1\n",
    "    \n",
    "    else:\n",
    "        \n",
    "        # my_string[i] and my_string[j] are different\n",
    "        # So we don't have a palindrome. Set palindrome \n",
    "        # to False and break out of while loop\n",
    "        palindrome = False\n",
    "        break\n",
    "        \n",
    "# Print our answer\n",
    "print \"Is \\'\", my_string, \"\\' a palindrome?\", palindrome"
   ]
  }
 ],
 "metadata": {
  "kernelspec": {
   "display_name": "Python 2",
   "language": "python",
   "name": "python2"
  },
  "language_info": {
   "codemirror_mode": {
    "name": "ipython",
    "version": 2
   },
   "file_extension": ".py",
   "mimetype": "text/x-python",
   "name": "python",
   "nbconvert_exporter": "python",
   "pygments_lexer": "ipython2",
   "version": "2.7.11"
  }
 },
 "nbformat": 4,
 "nbformat_minor": 0
}
