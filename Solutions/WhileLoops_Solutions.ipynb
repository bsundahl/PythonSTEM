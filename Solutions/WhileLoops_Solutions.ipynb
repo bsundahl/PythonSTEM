{
 "cells": [
  {
   "cell_type": "markdown",
   "metadata": {
    "collapsed": true
   },
   "source": [
    "# While Loops"
   ]
  },
  {
   "cell_type": "markdown",
   "metadata": {},
   "source": [
    "In programming and computing (maybe even life in general), there are times where we need to do the same thing multiple times sequentially. For example, lets say we needed to know the first 10 perfect square numbers. How would we do that? There's always the brute force method:"
   ]
  },
  {
   "cell_type": "code",
   "execution_count": 1,
   "metadata": {
    "collapsed": false
   },
   "outputs": [
    {
     "data": {
      "text/plain": [
       "1"
      ]
     },
     "execution_count": 1,
     "metadata": {},
     "output_type": "execute_result"
    }
   ],
   "source": [
    "1**2"
   ]
  },
  {
   "cell_type": "code",
   "execution_count": 2,
   "metadata": {
    "collapsed": false
   },
   "outputs": [
    {
     "data": {
      "text/plain": [
       "4"
      ]
     },
     "execution_count": 2,
     "metadata": {},
     "output_type": "execute_result"
    }
   ],
   "source": [
    "2**2"
   ]
  },
  {
   "cell_type": "code",
   "execution_count": 3,
   "metadata": {
    "collapsed": false
   },
   "outputs": [
    {
     "data": {
      "text/plain": [
       "9"
      ]
     },
     "execution_count": 3,
     "metadata": {},
     "output_type": "execute_result"
    }
   ],
   "source": [
    "3**2"
   ]
  },
  {
   "cell_type": "code",
   "execution_count": 4,
   "metadata": {
    "collapsed": false
   },
   "outputs": [
    {
     "data": {
      "text/plain": [
       "16"
      ]
     },
     "execution_count": 4,
     "metadata": {},
     "output_type": "execute_result"
    }
   ],
   "source": [
    "4**2"
   ]
  },
  {
   "cell_type": "code",
   "execution_count": 5,
   "metadata": {
    "collapsed": false
   },
   "outputs": [
    {
     "data": {
      "text/plain": [
       "25"
      ]
     },
     "execution_count": 5,
     "metadata": {},
     "output_type": "execute_result"
    }
   ],
   "source": [
    "5**2"
   ]
  },
  {
   "cell_type": "code",
   "execution_count": 6,
   "metadata": {
    "collapsed": false
   },
   "outputs": [
    {
     "data": {
      "text/plain": [
       "36"
      ]
     },
     "execution_count": 6,
     "metadata": {},
     "output_type": "execute_result"
    }
   ],
   "source": [
    "6**2"
   ]
  },
  {
   "cell_type": "code",
   "execution_count": 7,
   "metadata": {
    "collapsed": false
   },
   "outputs": [
    {
     "data": {
      "text/plain": [
       "49"
      ]
     },
     "execution_count": 7,
     "metadata": {},
     "output_type": "execute_result"
    }
   ],
   "source": [
    "7**2"
   ]
  },
  {
   "cell_type": "code",
   "execution_count": 8,
   "metadata": {
    "collapsed": false
   },
   "outputs": [
    {
     "data": {
      "text/plain": [
       "64"
      ]
     },
     "execution_count": 8,
     "metadata": {},
     "output_type": "execute_result"
    }
   ],
   "source": [
    "8**2"
   ]
  },
  {
   "cell_type": "code",
   "execution_count": 9,
   "metadata": {
    "collapsed": false
   },
   "outputs": [
    {
     "data": {
      "text/plain": [
       "81"
      ]
     },
     "execution_count": 9,
     "metadata": {},
     "output_type": "execute_result"
    }
   ],
   "source": [
    "9**2"
   ]
  },
  {
   "cell_type": "code",
   "execution_count": 10,
   "metadata": {
    "collapsed": false
   },
   "outputs": [
    {
     "data": {
      "text/plain": [
       "100"
      ]
     },
     "execution_count": 10,
     "metadata": {},
     "output_type": "execute_result"
    }
   ],
   "source": [
    "10**2"
   ]
  },
  {
   "cell_type": "markdown",
   "metadata": {},
   "source": [
    "Very cumbersome, is it not? Surely there's a better way to do this! Maybe we use a variable?"
   ]
  },
  {
   "cell_type": "code",
   "execution_count": 11,
   "metadata": {
    "collapsed": false
   },
   "outputs": [
    {
     "name": "stdout",
     "output_type": "stream",
     "text": [
      "1\n",
      "4\n",
      "9\n",
      "16\n",
      "25\n",
      "36\n",
      "49\n",
      "64\n",
      "81\n",
      "100\n"
     ]
    }
   ],
   "source": [
    "a = 1       #Start our variable at 1\n",
    "print a**2  #print the square of our variable\n",
    "a = a + 1   #add 1 to our variable and store the change\n",
    "print a**2  #print the square of our variable again, and so on...\n",
    "a = a + 1\n",
    "print a**2\n",
    "a = a + 1\n",
    "print a**2\n",
    "a = a + 1\n",
    "print a**2\n",
    "a = a + 1\n",
    "print a**2\n",
    "a = a + 1\n",
    "print a**2\n",
    "a = a + 1\n",
    "print a**2\n",
    "a = a + 1\n",
    "print a**2\n",
    "a = a + 1\n",
    "print a**2"
   ]
  },
  {
   "cell_type": "markdown",
   "metadata": {},
   "source": [
    "That was actually worse. But looking at what we just did, we did the same thing 10 seperate times. We started with variable a, assigned to it the value 1, then simply printed a squared and then added 1 to it and repeated. Once we wrote the first 3 lines of code, we could have used our computer's copy-and-paste feature to write this quickly. But there's an even better way to do this. This repitition can be handled by Python and most other programming languages easily. To do this we must introduce the concept of a loop."
   ]
  },
  {
   "cell_type": "markdown",
   "metadata": {},
   "source": [
    "What is a loop? A loop is simply code that will be executed multiple times, assuming the correct conditions have been met. There are two main categories of loops: \"For\" loops and \"While\" loops. Anything you can do with a For loop, you can do with a While loop. And anything you can do with a While loop, you can do with a For loop. They are simply two different ways to go about implementing an idea. We are going to focus on While loops to start."
   ]
  },
  {
   "cell_type": "markdown",
   "metadata": {},
   "source": [
    "Loops in python have a very specific structure. They have a header that includes the condition for continuation followed by a colon, and then an indented body that includes what should be done each time through the loop. Each line in the body must be indented under the header (this indentation is how Python knows what is inside the loop and what isn't). As an example, lets reprint the first 10 perfect squares using a While loop:"
   ]
  },
  {
   "cell_type": "code",
   "execution_count": 12,
   "metadata": {
    "collapsed": false
   },
   "outputs": [
    {
     "name": "stdout",
     "output_type": "stream",
     "text": [
      "1\n",
      "4\n",
      "9\n",
      "16\n",
      "25\n",
      "36\n",
      "49\n",
      "64\n",
      "81\n",
      "100\n"
     ]
    }
   ],
   "source": [
    "a = 1\n",
    "while a < 11:\n",
    "    print a**2\n",
    "    a = a + 1"
   ]
  },
  {
   "cell_type": "markdown",
   "metadata": {},
   "source": [
    "Notice that we just did, in 4 lines of code, what we did in 20 lines of code above. Neat, right? Loops are an essential part of nearly any program. What else can we do?\n",
    "\n",
    "*__IMPORTANT: DO NOT__* actually run the next line of code. We have run it for you, and the output should already be displayed below. Read the cell, and the given output. Then keep reading the text below."
   ]
  },
  {
   "cell_type": "code",
   "execution_count": 13,
   "metadata": {
    "collapsed": false,
    "scrolled": true
   },
   "outputs": [
    {
     "name": "stdout",
     "output_type": "stream",
     "text": [
      "1\n",
      "1\n",
      "1\n",
      "1\n",
      "1\n",
      "1\n",
      "1\n",
      "1\n",
      "1\n",
      "1\n",
      "1\n",
      "1\n",
      "1\n",
      "1\n",
      "1\n",
      "1\n",
      "1\n",
      "1\n",
      "1\n",
      "1\n",
      "1\n",
      "1\n",
      "1\n",
      "1\n",
      "1\n",
      "1\n",
      "1\n",
      "1\n",
      "1\n",
      "1\n",
      "1\n",
      "1\n",
      "1\n",
      "1\n",
      "1\n",
      "1\n",
      "1\n",
      "1"
     ]
    },
    {
     "ename": "ValueError",
     "evalue": "I/O operation on closed file",
     "output_type": "error",
     "traceback": [
      "\u001b[0;31m---------------------------------------------------------------------------\u001b[0m",
      "\u001b[0;31mValueError\u001b[0m                                Traceback (most recent call last)",
      "\u001b[0;32m<ipython-input-13-65e284cb9752>\u001b[0m in \u001b[0;36m<module>\u001b[0;34m()\u001b[0m\n\u001b[1;32m      1\u001b[0m \u001b[0mi\u001b[0m \u001b[0;34m=\u001b[0m \u001b[0;36m1\u001b[0m\u001b[0;34m\u001b[0m\u001b[0m\n\u001b[1;32m      2\u001b[0m \u001b[0;32mwhile\u001b[0m \u001b[0mi\u001b[0m \u001b[0;34m<\u001b[0m \u001b[0;36m10\u001b[0m\u001b[0;34m:\u001b[0m\u001b[0;34m\u001b[0m\u001b[0m\n\u001b[0;32m----> 3\u001b[0;31m     \u001b[0;32mprint\u001b[0m \u001b[0mi\u001b[0m\u001b[0;34m\u001b[0m\u001b[0m\n\u001b[0m",
      "\u001b[0;32m/Users/bryansundahl/anaconda/lib/python2.7/site-packages/ipykernel/iostream.pyc\u001b[0m in \u001b[0;36mwrite\u001b[0;34m(self, string)\u001b[0m\n\u001b[1;32m    315\u001b[0m \u001b[0;34m\u001b[0m\u001b[0m\n\u001b[1;32m    316\u001b[0m             \u001b[0mis_child\u001b[0m \u001b[0;34m=\u001b[0m \u001b[0;34m(\u001b[0m\u001b[0;32mnot\u001b[0m \u001b[0mself\u001b[0m\u001b[0;34m.\u001b[0m\u001b[0m_is_master_process\u001b[0m\u001b[0;34m(\u001b[0m\u001b[0;34m)\u001b[0m\u001b[0;34m)\u001b[0m\u001b[0;34m\u001b[0m\u001b[0m\n\u001b[0;32m--> 317\u001b[0;31m             \u001b[0mself\u001b[0m\u001b[0;34m.\u001b[0m\u001b[0m_buffer\u001b[0m\u001b[0;34m.\u001b[0m\u001b[0mwrite\u001b[0m\u001b[0;34m(\u001b[0m\u001b[0mstring\u001b[0m\u001b[0;34m)\u001b[0m\u001b[0;34m\u001b[0m\u001b[0m\n\u001b[0m\u001b[1;32m    318\u001b[0m             \u001b[0;32mif\u001b[0m \u001b[0mis_child\u001b[0m\u001b[0;34m:\u001b[0m\u001b[0;34m\u001b[0m\u001b[0m\n\u001b[1;32m    319\u001b[0m                 \u001b[0;31m# newlines imply flush in subprocesses\u001b[0m\u001b[0;34m\u001b[0m\u001b[0;34m\u001b[0m\u001b[0m\n",
      "\u001b[0;31mValueError\u001b[0m: I/O operation on closed file"
     ]
    }
   ],
   "source": [
    "i = 1\n",
    "while i < 10:\n",
    "    print i"
   ]
  },
  {
   "cell_type": "markdown",
   "metadata": {},
   "source": [
    "What we created here is called an \"infinite loop.\" This ia a loop that will keep running forever (it will never terminate). Everyone at some point in their coding education, will create and run an infinite loop. Personally, it happens to me every week.\n",
    "\n",
    "An infinite loop will cause your computer to drastically slow down and maybe even become unresponsive. If you get caught in an infinite loop, we can hit the button with the square icon located at the top of this window, directly beneath the \"Cell\" menu to force the computer to stop. If this doesn't work, try going to the \"Kernel\" menu at the top of the notebook and selecting \"Interrupt\".\n",
    "\n",
    "What happened here? We have something that keeps repeating because the end condition is never met. We created a variable named i and assigned it to 1. Then we told the computer to keep printing i as long as i is less than 10. However, over the course of the loop, we never changed the value of i. Therefore i was *always* 1, and therefore i was *always* less than 10. Without interrupting, this program would run forever (or until your computer crashed)."
   ]
  },
  {
   "cell_type": "markdown",
   "metadata": {},
   "source": [
    "What can we do to make it work? We can remember to increment i, as in the cell below."
   ]
  },
  {
   "cell_type": "code",
   "execution_count": 14,
   "metadata": {
    "collapsed": false
   },
   "outputs": [
    {
     "name": "stdout",
     "output_type": "stream",
     "text": [
      " 1\n",
      "2\n",
      "3\n",
      "4\n",
      "5\n",
      "6\n",
      "7\n",
      "8\n",
      "9\n"
     ]
    }
   ],
   "source": [
    "i = 1\n",
    "while i < 10:\n",
    "    print i\n",
    "    i = i + 1"
   ]
  },
  {
   "cell_type": "markdown",
   "metadata": {},
   "source": [
    "Do note that the last line printed was a 9, and not a 10. That is because the conditional in the header of the while loop must be true for the body to be executed. This code requires that \"i < 10\" for the body to be executed, so we will never print the number 10 since 10 is not less than 10. Thus when \"i\" equals 10, the conditional on the loop is false and the print statement inside the body of the loop will not be executed."
   ]
  },
  {
   "cell_type": "markdown",
   "metadata": {},
   "source": [
    "## Practice Problems "
   ]
  },
  {
   "cell_type": "markdown",
   "metadata": {},
   "source": [
    "Write a loop to print the first 10 natural numbers (The numbers 1 through 10)."
   ]
  },
  {
   "cell_type": "code",
   "execution_count": 15,
   "metadata": {
    "collapsed": false
   },
   "outputs": [
    {
     "name": "stdout",
     "output_type": "stream",
     "text": [
      "1\n",
      "2\n",
      "3\n",
      "4\n",
      "5\n",
      "6\n",
      "7\n",
      "8\n",
      "9\n",
      "10\n"
     ]
    }
   ],
   "source": [
    "i = 1\n",
    "while i <= 10:\n",
    "    print i\n",
    "    i = i + 1"
   ]
  },
  {
   "cell_type": "markdown",
   "metadata": {},
   "source": [
    "Write a loop print the first 10 natural numbers in descending order. (Print 10, then 9, then 8...)"
   ]
  },
  {
   "cell_type": "code",
   "execution_count": 16,
   "metadata": {
    "collapsed": false
   },
   "outputs": [
    {
     "name": "stdout",
     "output_type": "stream",
     "text": [
      "10\n",
      "9\n",
      "8\n",
      "7\n",
      "6\n",
      "5\n",
      "4\n",
      "3\n",
      "2\n",
      "1\n"
     ]
    }
   ],
   "source": [
    "# Just start the dummy counter at 10\n",
    "i = 10\n",
    "\n",
    "# Use a greater than or equal to instead of a less than\n",
    "while i >= 1:\n",
    "    print i\n",
    "    \n",
    "    # And instead of adding, subtract 1 each time\n",
    "    i = i - 1"
   ]
  },
  {
   "cell_type": "markdown",
   "metadata": {},
   "source": [
    "Write a loop to print the even numbers between 20 and 50."
   ]
  },
  {
   "cell_type": "code",
   "execution_count": 17,
   "metadata": {
    "collapsed": false
   },
   "outputs": [
    {
     "name": "stdout",
     "output_type": "stream",
     "text": [
      "20\n",
      "22\n",
      "24\n",
      "26\n",
      "28\n",
      "30\n",
      "32\n",
      "34\n",
      "36\n",
      "38\n",
      "40\n",
      "42\n",
      "44\n",
      "46\n",
      "48\n",
      "50\n"
     ]
    }
   ],
   "source": [
    "# Start dummy variable at 20\n",
    "i = 20\n",
    "\n",
    "# Loop until we hit 50\n",
    "while i <= 50:\n",
    "    # Do what we need  to do\n",
    "    print i\n",
    "    \n",
    "    # Increment i by two so that it stays even\n",
    "    i = i + 2"
   ]
  },
  {
   "cell_type": "markdown",
   "metadata": {},
   "source": [
    "Write a loop to print the odd numbers between 17 and 67."
   ]
  },
  {
   "cell_type": "code",
   "execution_count": 18,
   "metadata": {
    "collapsed": false
   },
   "outputs": [
    {
     "name": "stdout",
     "output_type": "stream",
     "text": [
      "17\n",
      "19\n",
      "21\n",
      "23\n",
      "25\n",
      "27\n",
      "29\n",
      "31\n",
      "33\n",
      "35\n",
      "37\n",
      "39\n",
      "41\n",
      "43\n",
      "45\n",
      "47\n",
      "49\n",
      "51\n",
      "53\n",
      "55\n",
      "57\n",
      "59\n",
      "61\n",
      "63\n",
      "65\n",
      "67\n"
     ]
    }
   ],
   "source": [
    "# Start i at 17\n",
    "i = 17\n",
    "\n",
    "# Loop until 67\n",
    "while i <= 67:\n",
    "    # Do what we need to do\n",
    "    print i\n",
    "    \n",
    "    # Increase i by 2 so that it stays odd\n",
    "    i = i + 2\n",
    "    "
   ]
  },
  {
   "cell_type": "markdown",
   "metadata": {},
   "source": [
    "Write a loop to print the first 11 multiples of the number 3 (start with 0). So your loop should print 0, 3, 6, ..."
   ]
  },
  {
   "cell_type": "code",
   "execution_count": 19,
   "metadata": {
    "collapsed": false
   },
   "outputs": [
    {
     "name": "stdout",
     "output_type": "stream",
     "text": [
      "0\n",
      "3\n",
      "6\n",
      "9\n",
      "12\n",
      "15\n",
      "18\n",
      "21\n",
      "24\n",
      "27\n",
      "30\n"
     ]
    }
   ],
   "source": [
    "i = 0\n",
    "\n",
    "# Do this 11 times\n",
    "while i < 11:\n",
    "    # Do what we need to do\n",
    "    print i*3\n",
    "    \n",
    "    # Increment i\n",
    "    i = i + 1"
   ]
  },
  {
   "cell_type": "markdown",
   "metadata": {},
   "source": [
    "Write a loop to sum the numbers 1 through 10. (Hint: Create a variable named \"sum\" outside the loop with initial value of 0, and add to it inside the loop.) To make sure your code works: the answer is 55."
   ]
  },
  {
   "cell_type": "code",
   "execution_count": 20,
   "metadata": {
    "collapsed": false
   },
   "outputs": [
    {
     "name": "stdout",
     "output_type": "stream",
     "text": [
      "45\n"
     ]
    }
   ],
   "source": [
    "# Create a variable to hold the sum\n",
    "my_sum = 0\n",
    "\n",
    "# Dummy variable, started at 1 since sum starts at 1\n",
    "# (Could start at zero, but adding zero to something doesn't change it)\n",
    "i = 1\n",
    "\n",
    "# Loop 10 times\n",
    "while i < 10:\n",
    "    # Add to my_sum\n",
    "    my_sum = my_sum + i\n",
    "    \n",
    "    # Increment i\n",
    "    i = i + 1\n",
    "    \n",
    "# Print the answer\n",
    "print my_sum"
   ]
  },
  {
   "cell_type": "markdown",
   "metadata": {},
   "source": [
    "This pattern of summing a list of numbers (or multiplying and or dividing) is VERY common in practical programming. It is important that this pattern becomes familiar to you, as it will be used a lot."
   ]
  },
  {
   "cell_type": "markdown",
   "metadata": {},
   "source": [
    "Write a loop to calculate the product of the first 5 numbers. (Hint: The answer is 120. This is also known as the factorial function. This code should be very similar to the loop that sums the first 10 numbers.)"
   ]
  },
  {
   "cell_type": "code",
   "execution_count": 21,
   "metadata": {
    "collapsed": false
   },
   "outputs": [
    {
     "name": "stdout",
     "output_type": "stream",
     "text": [
      "120\n"
     ]
    }
   ],
   "source": [
    "# Create a variable to hold the product\n",
    "my_product = 1\n",
    "\n",
    "# Dummy variable, starts at 1\n",
    "i = 1\n",
    "\n",
    "# Loop 10 times\n",
    "while i <= 5:\n",
    "    # Multiply by next i\n",
    "    my_product = my_product * i\n",
    "    \n",
    "    # Increment i\n",
    "    i = i + 1\n",
    "    \n",
    "# Print the answer\n",
    "print my_product "
   ]
  },
  {
   "cell_type": "markdown",
   "metadata": {},
   "source": [
    "## Advanced Practice Problems"
   ]
  },
  {
   "cell_type": "markdown",
   "metadata": {},
   "source": [
    "** Divisors **  \n",
    "Write some code to print out each pair of divisors of a number."
   ]
  },
  {
   "cell_type": "code",
   "execution_count": 22,
   "metadata": {
    "collapsed": false
   },
   "outputs": [
    {
     "name": "stdout",
     "output_type": "stream",
     "text": [
      "1 * 100 = 100\n",
      "2 * 50 = 100\n",
      "4 * 25 = 100\n",
      "5 * 20 = 100\n"
     ]
    }
   ],
   "source": [
    "import math # We need this to use the sqrt() function\n",
    "\n",
    "# Number to find the divisors of\n",
    "the_number = 100\n",
    "\n",
    "# Dummy variable\n",
    "i = 1\n",
    "\n",
    "# Loop until we hit the middle value (sqrt of the_number)\n",
    "while i < math.sqrt(the_number):\n",
    "    \n",
    "    # Check if i is a divisor of the_number\n",
    "    if the_number % i == 0:\n",
    "        \n",
    "        # If we got here, then i is a divisor so print it out \n",
    "        # Made it look *pretty*\n",
    "        print i, \"*\", the_number / i, \"=\", the_number\n",
    "        \n",
    "    # Always increment i\n",
    "    i = i + 1"
   ]
  },
  {
   "cell_type": "markdown",
   "metadata": {},
   "source": [
    "**Growing Numbers**  \n",
    "Write a cell that when executed prints the numbers from 1 to n (a variable that you create), but prints each number that number of times (i.e. the number 1 gets printed once, the number 2 gets printed twice, the number 3 get printed 3 times, and so on)."
   ]
  },
  {
   "cell_type": "code",
   "execution_count": 23,
   "metadata": {
    "collapsed": false
   },
   "outputs": [
    {
     "name": "stdout",
     "output_type": "stream",
     "text": [
      "1\n",
      "2\n",
      "2\n",
      "3\n",
      "3\n",
      "3\n"
     ]
    }
   ],
   "source": [
    "# The number\n",
    "n = 3\n",
    "\n",
    "# Dummy variable\n",
    "i = 1\n",
    "\n",
    "# Loop until we hit the max number\n",
    "while i <= n:\n",
    "    \n",
    "    # Second dummy variable for second loop\n",
    "    j = 1\n",
    "    \n",
    "    # Loop until we hit the dummy variable\n",
    "    # As the dummy variable needs to be printed the \n",
    "    # dummy variable number of times\n",
    "    while j <= i:\n",
    "        # Do what you need to do\n",
    "        print i\n",
    "        \n",
    "        # Always increment j\n",
    "        j = j + 1\n",
    "        \n",
    "    # Always increment i\n",
    "    i = i + 1"
   ]
  },
  {
   "cell_type": "markdown",
   "metadata": {},
   "source": [
    "**Series**  \n",
    "\n",
    "*Part One*: One cool thing that loops will let you do is quickly calculate very long sums, especially if there's some pattern that you can follow to find each term in the sum. For example, here's a simple sum:\n",
    "\n",
    "$$ 1 + 2 + 3 + \\dots + n$$\n",
    "\n",
    "This sum simply adds up all of the natural numbers from 1 to n. In the practice problems above, you wrote a loop that can calculate this sum for n=10. Generalize this code so that it works for any positive integer n.\n",
    "\n",
    "*Part Two*: Once you have that sum working, modify your code to try these sums:\n",
    "\n",
    "$$1 + \\frac{1}{2} + \\frac{1}{4} + \\frac{1}{8} + \\dots + \\frac{1}{2^n}$$\n",
    "\n",
    "or\n",
    "\n",
    "$$1 - \\frac{1}{2} + \\frac{1}{3} - \\frac{1}{4} + \\frac{1}{5} - \\dots + \\frac{(-1)^{n+1}}{n} $$"
   ]
  },
  {
   "cell_type": "code",
   "execution_count": 24,
   "metadata": {
    "collapsed": false
   },
   "outputs": [
    {
     "name": "stdout",
     "output_type": "stream",
     "text": [
      "55\n"
     ]
    }
   ],
   "source": [
    "# PART ONE\n",
    "\n",
    "# Amount of numbers we want to add together\n",
    "number_of_terms = 10\n",
    "\n",
    "# Create a variable to hold the sum\n",
    "my_sum = 0\n",
    "\n",
    "# Dummy variable, started at 1 since sum starts at 1\n",
    "# (Could start at zero, but adding zero to something doesn't change it)\n",
    "i = 1\n",
    "\n",
    "# Loop number_of_terms times\n",
    "while i <= number_of_terms:\n",
    "    # Add to my_sum\n",
    "    my_sum = my_sum + i\n",
    "    \n",
    "    # Increment i\n",
    "    i = i + 1\n",
    "    \n",
    "# Print the answer\n",
    "print my_sum"
   ]
  },
  {
   "cell_type": "code",
   "execution_count": 25,
   "metadata": {
    "collapsed": false
   },
   "outputs": [
    {
     "name": "stdout",
     "output_type": "stream",
     "text": [
      "1.9999999702\n"
     ]
    }
   ],
   "source": [
    "# PART TWO A\n",
    "\n",
    "# Amount of numbers we want to add together\n",
    "number_of_terms = 25\n",
    "\n",
    "# Create a variable to hold the sum\n",
    "my_sum = 0\n",
    "\n",
    "# Dummy variable, started at 1 since sum starts at 1\n",
    "# (Could start at zero, but adding zero to something doesn't change it)\n",
    "i = 0\n",
    "\n",
    "# Loop number_of_terms times\n",
    "while i <= number_of_terms:\n",
    "    # Add to my_sum the next term of the series\n",
    "    my_sum = my_sum + 1.0/(2**i)\n",
    "    \n",
    "    # Increment i\n",
    "    i = i + 1\n",
    "    \n",
    "# Print the answer\n",
    "print my_sum"
   ]
  },
  {
   "cell_type": "code",
   "execution_count": 26,
   "metadata": {
    "collapsed": false
   },
   "outputs": [
    {
     "name": "stdout",
     "output_type": "stream",
     "text": [
      "1.69115118053\n"
     ]
    }
   ],
   "source": [
    "# PART TWO B\n",
    "\n",
    "# Amount of numbers we want to add together\n",
    "number_of_terms = 250\n",
    "\n",
    "# Create a variable to hold the sum\n",
    "my_sum = 1\n",
    "\n",
    "# Dummy variable, started at 1 since sum starts at 1\n",
    "# (Could start at zero, but adding zero to something doesn't change it)\n",
    "i = 1\n",
    "\n",
    "# Loop number_of_terms times\n",
    "while i <= number_of_terms:\n",
    "    # Add to my_sum the next term of the series\n",
    "    my_sum = my_sum + (-1.0)**(i+1)/i\n",
    "    \n",
    "    # Increment i\n",
    "    i = i + 1\n",
    "    \n",
    "# Print the answer\n",
    "print my_sum"
   ]
  }
 ],
 "metadata": {
  "kernelspec": {
   "display_name": "Python 2",
   "language": "python",
   "name": "python2"
  },
  "language_info": {
   "codemirror_mode": {
    "name": "ipython",
    "version": 2
   },
   "file_extension": ".py",
   "mimetype": "text/x-python",
   "name": "python",
   "nbconvert_exporter": "python",
   "pygments_lexer": "ipython2",
   "version": "2.7.11"
  }
 },
 "nbformat": 4,
 "nbformat_minor": 0
}
