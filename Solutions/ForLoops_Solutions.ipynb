{
 "cells": [
  {
   "cell_type": "markdown",
   "metadata": {},
   "source": [
    "# For Loops"
   ]
  },
  {
   "cell_type": "markdown",
   "metadata": {
    "collapsed": true
   },
   "source": [
    "## Practice Problems"
   ]
  },
  {
   "cell_type": "markdown",
   "metadata": {},
   "source": [
    "Write a function that takes a list of names (as strings), and prints \"Hello \\_\\_\\_\\_\\_\\_!\" for each name in the list."
   ]
  },
  {
   "cell_type": "code",
   "execution_count": 12,
   "metadata": {
    "collapsed": true
   },
   "outputs": [],
   "source": [
    "def hello(mylist):\n",
    "    \n",
    "    # Our loop\n",
    "    for name in mylist:\n",
    "\n",
    "        # Each time through the loop, name takes\n",
    "        # as its value the next element of mylist\n",
    "        print \"Hello\", name, \"!\""
   ]
  },
  {
   "cell_type": "code",
   "execution_count": 13,
   "metadata": {
    "collapsed": false
   },
   "outputs": [
    {
     "name": "stdout",
     "output_type": "stream",
     "text": [
      "Hello Billy !\n",
      "Hello Matthew !\n",
      "Hello Shannon !\n",
      "Hello Kristen !\n",
      "Hello Taylor !\n"
     ]
    }
   ],
   "source": [
    "# Test list of names\n",
    "namelist = [\"Billy\",\"Matthew\",\"Shannon\",\"Kristen\",\"Taylor\"]\n",
    "\n",
    "hello(namelist)"
   ]
  },
  {
   "cell_type": "markdown",
   "metadata": {},
   "source": [
    "Write a function called ChangeLetter that takes three inputs: a string of any length (named mystring, for example), and two more strings, each of length one (named a and b, for example). This function returns mystring, but with all instances of a replaced with b.\n",
    "\n",
    "For example, ChangeLetter(\"peter piper\",\"p\",\"g\") should return \"geter giger\"."
   ]
  },
  {
   "cell_type": "code",
   "execution_count": 14,
   "metadata": {
    "collapsed": true
   },
   "outputs": [],
   "source": [
    "def ChangeLetter(mystring,a,b):\n",
    "    '''\n",
    "        This is a multi-line comment. \n",
    "        \n",
    "        The goal here is to replace every instance of \n",
    "        the variable 'a' with the variable 'b' inside \n",
    "        the string called 'mystring'.\n",
    "    '''\n",
    "    \n",
    "    # Loop over each letter in mystring\n",
    "    for i in range(len(mystring)):\n",
    "        \n",
    "        # letter will be each character \n",
    "        # in mystring (one per iteration)\n",
    "        if mystring[i] == a:\n",
    "            mystring = mystring[:i] + b + mystring[i+1:]\n",
    "        \n",
    "    # Return the new string\n",
    "    return mystring"
   ]
  },
  {
   "cell_type": "code",
   "execution_count": 15,
   "metadata": {
    "collapsed": false
   },
   "outputs": [
    {
     "data": {
      "text/plain": [
       "'pgtgr pipgr'"
      ]
     },
     "execution_count": 15,
     "metadata": {},
     "output_type": "execute_result"
    }
   ],
   "source": [
    "# Test string\n",
    "the_string = \"peter piper\"\n",
    "\n",
    "# Testing ChangeLetter\n",
    "ChangeLetter(the_string, \"e\", \"g\")"
   ]
  },
  {
   "cell_type": "markdown",
   "metadata": {},
   "source": [
    "In the practice problems for the Lists module, we wrote a cell that added together all of the numbers in a list of numbers. You probably used a while loop to do this. Write a new cell that does it with a for loop."
   ]
  },
  {
   "cell_type": "code",
   "execution_count": 16,
   "metadata": {
    "collapsed": true
   },
   "outputs": [],
   "source": [
    "def sum_list(the_list):\n",
    "    \n",
    "    # Sum variable intialized outside the loop\n",
    "    my_sum = 0.0\n",
    "    \n",
    "    # Loop over every element of the_list\n",
    "    for number in the_list:\n",
    "\n",
    "        # Add the number to my_sum\n",
    "        my_sum += number\n",
    "        \n",
    "    # Return the sum\n",
    "    return my_sum"
   ]
  },
  {
   "cell_type": "code",
   "execution_count": 17,
   "metadata": {
    "collapsed": false
   },
   "outputs": [
    {
     "name": "stdout",
     "output_type": "stream",
     "text": [
      "55.0\n"
     ]
    }
   ],
   "source": [
    "# Test list\n",
    "test_list = [1,2,3,4,5,6,7,8,9,10]\n",
    "\n",
    "print sum_list(test_list)"
   ]
  },
  {
   "cell_type": "markdown",
   "metadata": {},
   "source": [
    "Write a function that takes a string as input and returns True if the string is a palindrome and False if it is not. Use a for loop."
   ]
  },
  {
   "cell_type": "code",
   "execution_count": 18,
   "metadata": {
    "collapsed": true
   },
   "outputs": [],
   "source": [
    "import string\n",
    "\n",
    "def ispalindrome(the_string):\n",
    "    '''\n",
    "        I made this handle spaces and puncutation using the string function\n",
    "        replace() (import string and check the help on replace() - its \n",
    "        basically a search and replace). I also used a common, built in\n",
    "        string from the string library - the puncutation string. You can call\n",
    "        it with string.puncutation like I do in line 16.\n",
    "    '''\n",
    "    \n",
    "    # Need to pull whitespace out of the the_string\n",
    "    the_string = the_string.replace(\" \", \"\")\n",
    "    \n",
    "    # Get rid of punctuation\n",
    "    for c in string.punctuation:\n",
    "        the_string = the_string.replace(c, \"\")\n",
    "    \n",
    "    # Get the length of the string\n",
    "    n = len(the_string)\n",
    "    \n",
    "    # Loop until we've checked everything\n",
    "    for i in range(n): \n",
    "        \n",
    "        # Check if letters match\n",
    "        if the_string[i] != the_string[n-i-1]:\n",
    "            # They don't, so we're done\n",
    "            return False\n",
    "    \n",
    "    # If we get here, we checked everything\n",
    "    # and found nothing wrong. So it is a\n",
    "    # palindrome!\n",
    "    return True"
   ]
  },
  {
   "cell_type": "code",
   "execution_count": 19,
   "metadata": {
    "collapsed": false
   },
   "outputs": [
    {
     "name": "stdout",
     "output_type": "stream",
     "text": [
      "Is ' no 'x' in nixon a palindrome? True\n",
      "Is ' seven a palindrome? False\n"
     ]
    }
   ],
   "source": [
    "# Test string\n",
    "palindrome = \"no 'x' in nixon\"\n",
    "notpalindrome = \"seven\"\n",
    "\n",
    "print \"Is \\'\", palindrome, \"a palindrome?\", ispalindrome(palindrome)\n",
    "print \"Is \\'\", notpalindrome, \"a palindrome?\", ispalindrome(notpalindrome)"
   ]
  },
  {
   "cell_type": "markdown",
   "metadata": {},
   "source": [
    "## Advanced Problems"
   ]
  },
  {
   "cell_type": "markdown",
   "metadata": {},
   "source": [
    "*Minimum*: Write a function that takes a list of numbers as input and returns the *index* of the smallest (most negative) number in the list. For example, given the list [4,7,-5,9,1,-2,6,4], the function would return 2."
   ]
  },
  {
   "cell_type": "code",
   "execution_count": 20,
   "metadata": {
    "collapsed": true
   },
   "outputs": [],
   "source": [
    "def FindMin(mylist):\n",
    "    #outputs the index of the most negative element in the list. If there \n",
    "    #are multiple occurences of the same number in the list, outputs the first occurrence.\n",
    "    min_index = 0 #assumes the list is non-empty, which may be a problem\n",
    "    for i in range(1,len(mylist)):\n",
    "        if mylist[i] < mylist[min_index]:\n",
    "            min_index = i\n",
    "    return min_index"
   ]
  },
  {
   "cell_type": "code",
   "execution_count": 21,
   "metadata": {
    "collapsed": false
   },
   "outputs": [
    {
     "data": {
      "text/plain": [
       "2"
      ]
     },
     "execution_count": 21,
     "metadata": {},
     "output_type": "execute_result"
    }
   ],
   "source": [
    "# Test list\n",
    "number_list = [4,7,-5,9,1,-2,6,4]\n",
    "\n",
    "FindMin(number_list)"
   ]
  },
  {
   "cell_type": "markdown",
   "metadata": {},
   "source": [
    "*Sorting*: Write a function that takes a list of numbers as input and returns a new list that contains the same numbers, but in increasing order (from least to greatest). If you did the problem above, then you can use that function in your solution to this problem. Otherwise, you can use the .index() and min() functions, as demonstrated in the example below:"
   ]
  },
  {
   "cell_type": "code",
   "execution_count": 22,
   "metadata": {
    "collapsed": false
   },
   "outputs": [
    {
     "data": {
      "text/plain": [
       "2"
      ]
     },
     "execution_count": 22,
     "metadata": {},
     "output_type": "execute_result"
    }
   ],
   "source": [
    "mylist = [4,7,-5,9,1,-2,6,4]\n",
    "mylist.index(min(mylist))       #min find the lowest number, and mylist.index() finds the first index of that number"
   ]
  },
  {
   "cell_type": "code",
   "execution_count": 23,
   "metadata": {
    "collapsed": true
   },
   "outputs": [],
   "source": [
    "def mysort(mylist):\n",
    "    newlist = []\n",
    "    n = len(mylist)\n",
    "    i = 0\n",
    "    while i < n: #This will fix the empty-list problem in findmin\n",
    "        j = FindMin(mylist)\n",
    "        newlist.append(mylist[j])\n",
    "        mylist = mylist[:j] + mylist[j+1:]\n",
    "        i = i + 1\n",
    "    return newlist"
   ]
  },
  {
   "cell_type": "code",
   "execution_count": 24,
   "metadata": {
    "collapsed": false
   },
   "outputs": [
    {
     "data": {
      "text/plain": [
       "[-5, -2, 1, 4, 4, 6, 7, 9]"
      ]
     },
     "execution_count": 24,
     "metadata": {},
     "output_type": "execute_result"
    }
   ],
   "source": [
    "# Test list\n",
    "number_list = [4,7,-5,9,1,-2,6,4]\n",
    "\n",
    "mysort(number_list)"
   ]
  }
 ],
 "metadata": {
  "kernelspec": {
   "display_name": "Python 2",
   "language": "python",
   "name": "python2"
  },
  "language_info": {
   "codemirror_mode": {
    "name": "ipython",
    "version": 2
   },
   "file_extension": ".py",
   "mimetype": "text/x-python",
   "name": "python",
   "nbconvert_exporter": "python",
   "pygments_lexer": "ipython2",
   "version": "2.7.11"
  }
 },
 "nbformat": 4,
 "nbformat_minor": 0
}
