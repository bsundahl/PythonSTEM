{
 "cells": [
  {
   "cell_type": "markdown",
   "metadata": {},
   "source": [
    "# For Loops"
   ]
  },
  {
   "cell_type": "markdown",
   "metadata": {},
   "source": [
    "We've already talked about one kind of loop, the while loop. These common programming structures allow us to repeat the same instructions over and over again.\n",
    "\n",
    "Now that we've talked about lists, this is a good time to introduce for loops. In real coding situations, it doesn't matter whether you use a while loop or a for loop. Anything can be done using either one. However, depending on the case, it may be easier to use one over the other.\n",
    "\n",
    "Let's review the first while loop we did, which was to print the squares of a bunch of numbers:"
   ]
  },
  {
   "cell_type": "code",
   "execution_count": 1,
   "metadata": {
    "collapsed": false
   },
   "outputs": [
    {
     "name": "stdout",
     "output_type": "stream",
     "text": [
      "1\n",
      "4\n",
      "9\n",
      "16\n",
      "25\n",
      "36\n",
      "49\n",
      "64\n",
      "81\n"
     ]
    }
   ],
   "source": [
    "i = 1\n",
    "while i < 10:\n",
    "    print i**2\n",
    "    i = i + 1"
   ]
  },
  {
   "cell_type": "markdown",
   "metadata": {},
   "source": [
    "Now let's do the same thing using for loops. First, let's make a list of the numbers that we want to find the squares of."
   ]
  },
  {
   "cell_type": "code",
   "execution_count": 2,
   "metadata": {
    "collapsed": true
   },
   "outputs": [],
   "source": [
    "numlist = [0,1,2,3,4,5,6,7,8,9]"
   ]
  },
  {
   "cell_type": "markdown",
   "metadata": {},
   "source": [
    "Now, let's make the for loop:"
   ]
  },
  {
   "cell_type": "code",
   "execution_count": 3,
   "metadata": {
    "collapsed": false
   },
   "outputs": [
    {
     "name": "stdout",
     "output_type": "stream",
     "text": [
      "0\n",
      "1\n",
      "4\n",
      "9\n",
      "16\n",
      "25\n",
      "36\n",
      "49\n",
      "64\n",
      "81\n"
     ]
    }
   ],
   "source": [
    "for number in numlist:\n",
    "    print number**2"
   ]
  },
  {
   "cell_type": "markdown",
   "metadata": {},
   "source": [
    "And we get the same result! Let's take a look at the syntax. When we write \"for number in numlist:\" we're creating a new variable called number, and inside number, we store the first value inside numlist. Then we move on to execute the indented code in the for loop. At the next iteration of the loop, the value inside number will be changed to be the next value inside numlist. And this will continue until there are no more elements left in numlist.\n",
    "\n",
    "In the code above, we made the list of numbers we wanted to square before we made the loop. We didn't have to do that. We could have done:"
   ]
  },
  {
   "cell_type": "code",
   "execution_count": 4,
   "metadata": {
    "collapsed": false
   },
   "outputs": [
    {
     "name": "stdout",
     "output_type": "stream",
     "text": [
      "0\n",
      "1\n",
      "4\n",
      "9\n",
      "16\n",
      "25\n",
      "36\n",
      "49\n",
      "64\n",
      "81\n"
     ]
    }
   ],
   "source": [
    "for number in [0,1,2,3,4,5,6,7,8,9]:\n",
    "    print number**2"
   ]
  },
  {
   "cell_type": "markdown",
   "metadata": {},
   "source": [
    "Or, by using the handy range() function, we could write it like this:"
   ]
  },
  {
   "cell_type": "code",
   "execution_count": 5,
   "metadata": {
    "collapsed": false
   },
   "outputs": [
    {
     "name": "stdout",
     "output_type": "stream",
     "text": [
      "0\n",
      "1\n",
      "4\n",
      "9\n",
      "16\n",
      "25\n",
      "36\n",
      "49\n",
      "64\n",
      "81\n"
     ]
    }
   ],
   "source": [
    "for number in range(10):\n",
    "    print (number)**2"
   ]
  },
  {
   "cell_type": "markdown",
   "metadata": {},
   "source": [
    "The range function is a very useful tool for making a quick list of integers. If I write range(n,m), the computer will give me a list of integers that starts with n and ends with m-1. If I write range(m), the computer will assume that I want to start at 0 and will give me a list of integers from 0 to m-1. Here are some examples:"
   ]
  },
  {
   "cell_type": "code",
   "execution_count": 6,
   "metadata": {
    "collapsed": false
   },
   "outputs": [
    {
     "name": "stdout",
     "output_type": "stream",
     "text": [
      "[3, 4, 5, 6, 7, 8, 9, 10, 11, 12, 13, 14, 15, 16, 17, 18, 19, 20, 21]\n"
     ]
    }
   ],
   "source": [
    "print range(3,22)"
   ]
  },
  {
   "cell_type": "code",
   "execution_count": 7,
   "metadata": {
    "collapsed": false
   },
   "outputs": [
    {
     "name": "stdout",
     "output_type": "stream",
     "text": [
      "[0, 1, 2, 3, 4, 5, 6, 7, 8, 9, 10, 11]\n"
     ]
    }
   ],
   "source": [
    "print range(12)"
   ]
  },
  {
   "cell_type": "markdown",
   "metadata": {},
   "source": [
    "Using the range function, you can see that printing our list of squares can be done quite easily using either while or for loops. But there are some cases when for loops are better. For example, what if we had the following list of numbers that we wanted to square:"
   ]
  },
  {
   "cell_type": "code",
   "execution_count": 8,
   "metadata": {
    "collapsed": true
   },
   "outputs": [],
   "source": [
    "numlist = [2,17,4,19,30,0,1,11,1,8]"
   ]
  },
  {
   "cell_type": "markdown",
   "metadata": {},
   "source": [
    "If we wanted to square all of these with a while loop, we could do it. We just need to know how long our list is. As an instructional tool, this problem solved with a while loop would look like this:"
   ]
  },
  {
   "cell_type": "code",
   "execution_count": 9,
   "metadata": {
    "collapsed": false
   },
   "outputs": [
    {
     "name": "stdout",
     "output_type": "stream",
     "text": [
      "4\n",
      "289\n",
      "16\n",
      "361\n",
      "900\n",
      "0\n",
      "1\n",
      "121\n",
      "1\n",
      "64\n"
     ]
    }
   ],
   "source": [
    "length = len(numlist)\n",
    "i = 0\n",
    "while i < length:\n",
    "    print numlist[i]**2\n",
    "    i = i+1"
   ]
  },
  {
   "cell_type": "markdown",
   "metadata": {},
   "source": [
    "Whereas with a for loop we can simply write:"
   ]
  },
  {
   "cell_type": "code",
   "execution_count": 10,
   "metadata": {
    "collapsed": false
   },
   "outputs": [
    {
     "name": "stdout",
     "output_type": "stream",
     "text": [
      "4\n",
      "289\n",
      "16\n",
      "361\n",
      "900\n",
      "0\n",
      "1\n",
      "121\n",
      "1\n",
      "64\n"
     ]
    }
   ],
   "source": [
    "for number in numlist:\n",
    "    print number**2"
   ]
  },
  {
   "cell_type": "markdown",
   "metadata": {},
   "source": [
    "Remarkably enough, this is the same code we wrote above, when numlist contained different numbers! We didn't need to know the length of numlist at all! The computer took care of it all for us."
   ]
  },
  {
   "cell_type": "markdown",
   "metadata": {},
   "source": [
    "Because Python treats strings as \"lists of characters,\" we can use the same for loop syntax to loop over the characters in a string. For example, here's a while loop that looks at a string, and prints each character in the string individually."
   ]
  },
  {
   "cell_type": "code",
   "execution_count": 11,
   "metadata": {
    "collapsed": false
   },
   "outputs": [
    {
     "name": "stdout",
     "output_type": "stream",
     "text": [
      "b\n",
      "u\n",
      "l\n",
      "l\n",
      "d\n",
      "o\n",
      "z\n",
      "e\n",
      "r\n"
     ]
    }
   ],
   "source": [
    "mystring = \"bulldozer\"\n",
    "for c in mystring:\n",
    "    print c"
   ]
  },
  {
   "cell_type": "markdown",
   "metadata": {
    "collapsed": true
   },
   "source": [
    "## Practice Problems"
   ]
  },
  {
   "cell_type": "markdown",
   "metadata": {},
   "source": [
    "Write a function that takes a list of names (as strings), and prints \"Hello \\_\\_\\_\\_\\_\\_!\" for each name in the list."
   ]
  },
  {
   "cell_type": "code",
   "execution_count": 12,
   "metadata": {
    "collapsed": true
   },
   "outputs": [],
   "source": [
    "def hello(mylist):\n",
    "    \n",
    "    # Our loop\n",
    "    for name in mylist:\n",
    "\n",
    "        # Each time through the loop, name takes\n",
    "        # as its value the next element of mylist\n",
    "        print \"Hello\", name, \"!\""
   ]
  },
  {
   "cell_type": "code",
   "execution_count": 13,
   "metadata": {
    "collapsed": false
   },
   "outputs": [
    {
     "name": "stdout",
     "output_type": "stream",
     "text": [
      "Hello Billy !\n",
      "Hello Matthew !\n",
      "Hello Shannon !\n",
      "Hello Kristen !\n",
      "Hello Taylor !\n"
     ]
    }
   ],
   "source": [
    "# Test list of names\n",
    "namelist = [\"Billy\",\"Matthew\",\"Shannon\",\"Kristen\",\"Taylor\"]\n",
    "\n",
    "hello(namelist)"
   ]
  },
  {
   "cell_type": "markdown",
   "metadata": {},
   "source": [
    "Write a function called ChangeLetter that takes three inputs: a string of any length (named mystring, for example), and two more strings, each of length one (named a and b, for example). This function returns mystring, but with all instances of a replaced with b.\n",
    "\n",
    "For example, ChangeLetter(\"peter piper\",\"p\",\"g\") should return \"geter giger\"."
   ]
  },
  {
   "cell_type": "code",
   "execution_count": 14,
   "metadata": {
    "collapsed": true
   },
   "outputs": [],
   "source": [
    "def ChangeLetter(mystring,a,b):\n",
    "    '''\n",
    "        This is a multi-line comment. \n",
    "        \n",
    "        The goal here is to replace every instance of \n",
    "        the variable 'a' with the variable 'b' inside \n",
    "        the string called 'mystring'.\n",
    "    '''\n",
    "    \n",
    "    # Loop over each letter in mystring\n",
    "    for i in range(len(mystring)):\n",
    "        \n",
    "        # letter will be each character \n",
    "        # in mystring (one per iteration)\n",
    "        if mystring[i] == a:\n",
    "            mystring = mystring[:i] + b + mystring[i+1:]\n",
    "        \n",
    "    # Return the new string\n",
    "    return mystring"
   ]
  },
  {
   "cell_type": "code",
   "execution_count": 15,
   "metadata": {
    "collapsed": false
   },
   "outputs": [
    {
     "data": {
      "text/plain": [
       "'pgtgr pipgr'"
      ]
     },
     "execution_count": 15,
     "metadata": {},
     "output_type": "execute_result"
    }
   ],
   "source": [
    "# Test string\n",
    "the_string = \"peter piper\"\n",
    "\n",
    "# Testing ChangeLetter\n",
    "ChangeLetter(the_string, \"e\", \"g\")"
   ]
  },
  {
   "cell_type": "markdown",
   "metadata": {},
   "source": [
    "In the practice problems for the Lists module, we wrote a cell that added together all of the numbers in a list of numbers. You probably used a while loop to do this. Write a new cell that does it with a for loop."
   ]
  },
  {
   "cell_type": "code",
   "execution_count": 16,
   "metadata": {
    "collapsed": true
   },
   "outputs": [],
   "source": [
    "def sum_list(the_list):\n",
    "    \n",
    "    # Sum variable intialized outside the loop\n",
    "    my_sum = 0.0\n",
    "    \n",
    "    # Loop over every element of the_list\n",
    "    for number in the_list:\n",
    "\n",
    "        # Add the number to my_sum\n",
    "        my_sum += number\n",
    "        \n",
    "    # Return the sum\n",
    "    return my_sum"
   ]
  },
  {
   "cell_type": "code",
   "execution_count": 17,
   "metadata": {
    "collapsed": false
   },
   "outputs": [
    {
     "name": "stdout",
     "output_type": "stream",
     "text": [
      "55.0\n"
     ]
    }
   ],
   "source": [
    "# Test list\n",
    "test_list = [1,2,3,4,5,6,7,8,9,10]\n",
    "\n",
    "print sum_list(test_list)"
   ]
  },
  {
   "cell_type": "markdown",
   "metadata": {},
   "source": [
    "Write a function that takes a string as input and returns True if the string is a palindrome and False if it is not. Use a for loop."
   ]
  },
  {
   "cell_type": "code",
   "execution_count": 18,
   "metadata": {
    "collapsed": true
   },
   "outputs": [],
   "source": [
    "import string\n",
    "\n",
    "def ispalindrome(the_string):\n",
    "    '''\n",
    "        I made this handle spaces and puncutation using the string function\n",
    "        replace() (import string and check the help on replace() - its \n",
    "        basically a search and replace). I also used a common, built in\n",
    "        string from the string library - the puncutation string. You can call\n",
    "        it with string.puncutation like I do in line 16.\n",
    "    '''\n",
    "    \n",
    "    # Need to pull whitespace out of the the_string\n",
    "    the_string = the_string.replace(\" \", \"\")\n",
    "    \n",
    "    # Get rid of punctuation\n",
    "    for c in string.punctuation:\n",
    "        the_string = the_string.replace(c, \"\")\n",
    "    \n",
    "    # Get the length of the string\n",
    "    n = len(the_string)\n",
    "    \n",
    "    # Loop until we've checked everything\n",
    "    for i in range(n): \n",
    "        \n",
    "        # Check if letters match\n",
    "        if the_string[i] != the_string[n-i-1]:\n",
    "            # They don't, so we're done\n",
    "            return False\n",
    "    \n",
    "    # If we get here, we checked everything\n",
    "    # and found nothing wrong. So it is a\n",
    "    # palindrome!\n",
    "    return True"
   ]
  },
  {
   "cell_type": "code",
   "execution_count": 19,
   "metadata": {
    "collapsed": false
   },
   "outputs": [
    {
     "name": "stdout",
     "output_type": "stream",
     "text": [
      "Is ' no 'x' in nixon a palindrome? True\n",
      "Is ' seven a palindrome? False\n"
     ]
    }
   ],
   "source": [
    "# Test string\n",
    "palindrome = \"no 'x' in nixon\"\n",
    "notpalindrome = \"seven\"\n",
    "\n",
    "print \"Is \\'\", palindrome, \"a palindrome?\", ispalindrome(palindrome)\n",
    "print \"Is \\'\", notpalindrome, \"a palindrome?\", ispalindrome(notpalindrome)"
   ]
  },
  {
   "cell_type": "markdown",
   "metadata": {},
   "source": [
    "## Advanced Problems"
   ]
  },
  {
   "cell_type": "markdown",
   "metadata": {},
   "source": [
    "*Minimum*: Write a function that takes a list of numbers as input and returns the *index* of the smallest (most negative) number in the list. For example, given the list [4,7,-5,9,1,-2,6,4], the function would return 2."
   ]
  },
  {
   "cell_type": "code",
   "execution_count": 20,
   "metadata": {
    "collapsed": true
   },
   "outputs": [],
   "source": [
    "def FindMin(mylist):\n",
    "    #outputs the index of the most negative element in the list. If there \n",
    "    #are multiple occurences of the same number in the list, outputs the first occurrence.\n",
    "    min_index = 0 #assumes the list is non-empty, which may be a problem\n",
    "    for i in range(1,len(mylist)):\n",
    "        if mylist[i] < mylist[min_index]:\n",
    "            min_index = i\n",
    "    return min_index"
   ]
  },
  {
   "cell_type": "code",
   "execution_count": 21,
   "metadata": {
    "collapsed": false
   },
   "outputs": [
    {
     "data": {
      "text/plain": [
       "2"
      ]
     },
     "execution_count": 21,
     "metadata": {},
     "output_type": "execute_result"
    }
   ],
   "source": [
    "# Test list\n",
    "number_list = [4,7,-5,9,1,-2,6,4]\n",
    "\n",
    "FindMin(number_list)"
   ]
  },
  {
   "cell_type": "markdown",
   "metadata": {},
   "source": [
    "*Sorting*: Write a function that takes a list of numbers as input and returns a new list that contains the same numbers, but in increasing order (from least to greatest). If you did the problem above, then you can use that function in your solution to this problem. Otherwise, you can use the .index() and min() functions, as demonstrated in the example below:"
   ]
  },
  {
   "cell_type": "code",
   "execution_count": 22,
   "metadata": {
    "collapsed": false
   },
   "outputs": [
    {
     "data": {
      "text/plain": [
       "2"
      ]
     },
     "execution_count": 22,
     "metadata": {},
     "output_type": "execute_result"
    }
   ],
   "source": [
    "mylist = [4,7,-5,9,1,-2,6,4]\n",
    "mylist.index(min(mylist))       #min find the lowest number, and mylist.index() finds the first index of that number"
   ]
  },
  {
   "cell_type": "code",
   "execution_count": 23,
   "metadata": {
    "collapsed": true
   },
   "outputs": [],
   "source": [
    "def mysort(mylist):\n",
    "    newlist = []\n",
    "    n = len(mylist)\n",
    "    i = 0\n",
    "    while i < n: #This will fix the empty-list problem in findmin\n",
    "        j = FindMin(mylist)\n",
    "        newlist.append(mylist[j])\n",
    "        mylist = mylist[:j] + mylist[j+1:]\n",
    "        i = i + 1\n",
    "    return newlist"
   ]
  },
  {
   "cell_type": "code",
   "execution_count": 24,
   "metadata": {
    "collapsed": false
   },
   "outputs": [
    {
     "data": {
      "text/plain": [
       "[-5, -2, 1, 4, 4, 6, 7, 9]"
      ]
     },
     "execution_count": 24,
     "metadata": {},
     "output_type": "execute_result"
    }
   ],
   "source": [
    "# Test list\n",
    "number_list = [4,7,-5,9,1,-2,6,4]\n",
    "\n",
    "mysort(number_list)"
   ]
  }
 ],
 "metadata": {
  "kernelspec": {
   "display_name": "Python 2",
   "language": "python",
   "name": "python2"
  },
  "language_info": {
   "codemirror_mode": {
    "name": "ipython",
    "version": 2
   },
   "file_extension": ".py",
   "mimetype": "text/x-python",
   "name": "python",
   "nbconvert_exporter": "python",
   "pygments_lexer": "ipython2",
   "version": "2.7.11"
  }
 },
 "nbformat": 4,
 "nbformat_minor": 0
}
