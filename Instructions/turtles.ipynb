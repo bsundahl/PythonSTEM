{
 "cells": [
  {
   "cell_type": "markdown",
   "metadata": {},
   "source": [
    "# Turtles"
   ]
  },
  {
   "cell_type": "markdown",
   "metadata": {},
   "source": [
    "Lets do something fun and visual. We are going to need to use a library for this. A library is basically code someone else has written. In order to use a library we must import the code. (A more in depth explanation will come later.) In python, importing is easy. Its simply:"
   ]
  },
  {
   "cell_type": "code",
   "execution_count": 1,
   "metadata": {
    "collapsed": false
   },
   "outputs": [],
   "source": [
    "import turtle"
   ]
  },
  {
   "cell_type": "markdown",
   "metadata": {},
   "source": [
    "Did it work? How would we know? Well, there was no error message, so we know python found something called \"turtle\" somewhere. Is it what we want? We can't be sure until we start using the code from the library. How do we know whats in this library we imported? In these Jupyter notebooks (former known as IPyton notebooks), if we hit shift + tab after typing anything in, we will bring up the help documentation on the thing we just typed. Lets try it here."
   ]
  },
  {
   "cell_type": "code",
   "execution_count": 2,
   "metadata": {
    "collapsed": false
   },
   "outputs": [
    {
     "data": {
      "text/plain": [
       "<module 'turtle' from '/Users/bryansundahl/anaconda/lib/python2.7/lib-tk/turtle.pyc'>"
      ]
     },
     "execution_count": 2,
     "metadata": {},
     "output_type": "execute_result"
    }
   ],
   "source": [
    "turtle"
   ]
  },
  {
   "cell_type": "markdown",
   "metadata": {},
   "source": [
    "So that was a lot of words. But it was the right words (IE this is the turtles we want to use). Do NOT worry if you didn't understand any of it. Once you start using it, you'll get the hang of it. So lets move forward."
   ]
  },
  {
   "cell_type": "code",
   "execution_count": 3,
   "metadata": {
    "collapsed": true
   },
   "outputs": [],
   "source": [
    "# First we need to create a screen for our turtle to walk around in.\n",
    "# Remember, these are comments. This is simply the programmer talking\n",
    "# to anyone who will use his/her code in the future. Python knows this,\n",
    "# and won't treat this like actual code. \n",
    "\n",
    "window = turtle.Screen()"
   ]
  },
  {
   "cell_type": "markdown",
   "metadata": {},
   "source": [
    "There are many things we can do with this window we created."
   ]
  },
  {
   "cell_type": "code",
   "execution_count": 4,
   "metadata": {
    "collapsed": false
   },
   "outputs": [
    {
     "name": "stdout",
     "output_type": "stream",
     "text": [
      "675\n",
      "720\n"
     ]
    }
   ],
   "source": [
    "print window.window_height()\n",
    "print window.window_width()"
   ]
  },
  {
   "cell_type": "code",
   "execution_count": 5,
   "metadata": {
    "collapsed": false
   },
   "outputs": [],
   "source": [
    "window.bgcolor(\"light blue\")"
   ]
  },
  {
   "cell_type": "code",
   "execution_count": 7,
   "metadata": {
    "collapsed": false,
    "scrolled": true
   },
   "outputs": [],
   "source": [
    "window.title(\"My First Turtles Window\")"
   ]
  },
  {
   "cell_type": "code",
   "execution_count": 8,
   "metadata": {
    "collapsed": true
   },
   "outputs": [],
   "source": [
    "window.clear()"
   ]
  },
  {
   "cell_type": "code",
   "execution_count": 9,
   "metadata": {
    "collapsed": true
   },
   "outputs": [],
   "source": [
    "window.bgcolor(\"light blue\")"
   ]
  },
  {
   "cell_type": "markdown",
   "metadata": {},
   "source": [
    "So that was a few of the funtions we can use with the variable we called window. Lets start drawing with turtles. To draw with turtles, we need to make a turtle!"
   ]
  },
  {
   "cell_type": "code",
   "execution_count": 10,
   "metadata": {
    "collapsed": true
   },
   "outputs": [],
   "source": [
    "ned = turtle.Turtle()"
   ]
  },
  {
   "cell_type": "markdown",
   "metadata": {},
   "source": [
    "What did that do? Well, I see a little arrow in the dead center of my window variable. Now what? \n",
    "  \n",
    "Lets get ned to start walking by telling him to go forward."
   ]
  },
  {
   "cell_type": "code",
   "execution_count": 11,
   "metadata": {
    "collapsed": true
   },
   "outputs": [],
   "source": [
    "ned.forward(50)"
   ]
  },
  {
   "cell_type": "markdown",
   "metadata": {},
   "source": [
    "This command told ned (our turtle) to move forward 50 pixels worth of distance. Cool. Lets tell ned to take a left."
   ]
  },
  {
   "cell_type": "code",
   "execution_count": 12,
   "metadata": {
    "collapsed": true
   },
   "outputs": [],
   "source": [
    "ned.left(90)"
   ]
  },
  {
   "cell_type": "code",
   "execution_count": 13,
   "metadata": {
    "collapsed": true
   },
   "outputs": [],
   "source": [
    "ned.forward(50)"
   ]
  },
  {
   "cell_type": "markdown",
   "metadata": {},
   "source": [
    "Yay, that wasn't too bad. What if I wanted to send ned back to where she started? We just need to send ned home."
   ]
  },
  {
   "cell_type": "code",
   "execution_count": 14,
   "metadata": {
    "collapsed": true
   },
   "outputs": [],
   "source": [
    "ned.home()"
   ]
  },
  {
   "cell_type": "markdown",
   "metadata": {},
   "source": [
    "What if I want to erase all ned's hard work?"
   ]
  },
  {
   "cell_type": "code",
   "execution_count": 15,
   "metadata": {
    "collapsed": true
   },
   "outputs": [],
   "source": [
    "ned.clear()"
   ]
  },
  {
   "cell_type": "markdown",
   "metadata": {},
   "source": [
    "I keep calling ned a turle, but ned isn't really a turtle right now. What if I wanted her to be a real turtle? Can we do that? Yep!"
   ]
  },
  {
   "cell_type": "code",
   "execution_count": 16,
   "metadata": {
    "collapsed": true
   },
   "outputs": [],
   "source": [
    "ned.shape('turtle')"
   ]
  },
  {
   "cell_type": "markdown",
   "metadata": {},
   "source": [
    "So lets draw some regular polygons."
   ]
  },
  {
   "cell_type": "code",
   "execution_count": 17,
   "metadata": {
    "collapsed": true
   },
   "outputs": [],
   "source": [
    "# A square\n",
    "ned.forward(100)\n",
    "ned.left(90)\n",
    "ned.forward(100)\n",
    "ned.left(90)\n",
    "ned.forward(100)\n",
    "ned.left(90)\n",
    "ned.forward(100)"
   ]
  },
  {
   "cell_type": "code",
   "execution_count": 18,
   "metadata": {
    "collapsed": true
   },
   "outputs": [],
   "source": [
    "ned.clear()\n",
    "\n",
    "# An equilateral triangle\n",
    "ned.forward(100)\n",
    "ned.left(120)\n",
    "ned.forward(100)\n",
    "ned.left(120)\n",
    "ned.forward(100)"
   ]
  },
  {
   "cell_type": "markdown",
   "metadata": {},
   "source": [
    "So that was kind of neat. But it was repetitive. What do we know of that helps us get rid of repitition? Loops! Lets rewrite the above using a while loop."
   ]
  },
  {
   "cell_type": "code",
   "execution_count": 19,
   "metadata": {
    "collapsed": false
   },
   "outputs": [],
   "source": [
    "ned.home()\n",
    "ned.clear()\n",
    "\n",
    "# A square\n",
    "for i in range(4):\n",
    "    ned.forward(100)\n",
    "    ned.left(90)"
   ]
  },
  {
   "cell_type": "code",
   "execution_count": 20,
   "metadata": {
    "collapsed": false
   },
   "outputs": [],
   "source": [
    "ned.home()\n",
    "ned.clear()\n",
    "\n",
    "# An equilateral triangle\n",
    "for i in range(3):\n",
    "    ned.forward(100)\n",
    "    ned.left(120)"
   ]
  },
  {
   "cell_type": "code",
   "execution_count": 21,
   "metadata": {
    "collapsed": true
   },
   "outputs": [],
   "source": [
    "ned.home()\n",
    "ned.clear()"
   ]
  },
  {
   "cell_type": "markdown",
   "metadata": {},
   "source": [
    "So what if we wanted to use variables to do this? We could create a variable for the number of sides, the length of a side, and the angle we are going to turn. Lets do that now."
   ]
  },
  {
   "cell_type": "code",
   "execution_count": 22,
   "metadata": {
    "collapsed": false
   },
   "outputs": [],
   "source": [
    "# The number of sides\n",
    "n = 13\n",
    "\n",
    "# The length of a side in our shape\n",
    "length = 10\n",
    "\n",
    "# The angle between sides\n",
    "angle = 360.0/n\n",
    "\n",
    "# Clean up previous shapes\n",
    "ned.home()\n",
    "ned.clear()\n",
    "\n",
    "# Our loop\n",
    "for i in range(n):\n",
    "    ned.forward(length)\n",
    "    ned.left(angle)"
   ]
  },
  {
   "cell_type": "markdown",
   "metadata": {},
   "source": [
    "We can't make the combination of n and length too big or we go outside our window size. Theoretically we can resize our window using the window.screensize(x,y) command. Here (x,y) would be integers representing the new window size in pixels. However, on my Mac atleast this  function call does not work and simply freezes the window. So I will not be using it. If you try it and it does freeze your drawing window, simply save your notebook and then close and halt it (from the File menu). Then just reopen it and execute all necessary cells to get back here."
   ]
  },
  {
   "cell_type": "markdown",
   "metadata": {},
   "source": [
    "What if we wanted to draw these n-sided polygons multiple times? Well, we can do that if we a loop inside a loop!"
   ]
  },
  {
   "cell_type": "code",
   "execution_count": 23,
   "metadata": {
    "collapsed": true
   },
   "outputs": [],
   "source": [
    "# The number of sides\n",
    "n = 13\n",
    "\n",
    "# The number of times to draw the polygon\n",
    "m = 8\n",
    "\n",
    "# The length of a side in our shape\n",
    "length = 10\n",
    "\n",
    "# The angle between sides\n",
    "angle = 360.0/n\n",
    "\n",
    "# The angle between shapes\n",
    "angle2 = 360.0/m\n",
    "\n",
    "# Clean up previous shapes\n",
    "ned.home()\n",
    "ned.clear()\n",
    "\n",
    "# Our loop\n",
    "for i in range(m):\n",
    "    \n",
    "    for j in range(n):\n",
    "        ned.forward(length)\n",
    "        ned.left(angle)\n",
    "        \n",
    "    ned.left(angle2)\n",
    "    "
   ]
  },
  {
   "cell_type": "markdown",
   "metadata": {
    "collapsed": true
   },
   "source": [
    "So all of these drawings are starting ned in the middle of the screen. What if we wanted to start somewhere else? "
   ]
  },
  {
   "cell_type": "code",
   "execution_count": 24,
   "metadata": {
    "collapsed": false
   },
   "outputs": [],
   "source": [
    "ned.setposition(100,100)"
   ]
  },
  {
   "cell_type": "markdown",
   "metadata": {},
   "source": [
    "That is almost what we want, but we still drew a line. How do we not draw a line? We use the penup() function."
   ]
  },
  {
   "cell_type": "code",
   "execution_count": 25,
   "metadata": {
    "collapsed": true
   },
   "outputs": [],
   "source": [
    "ned.penup()"
   ]
  },
  {
   "cell_type": "code",
   "execution_count": 26,
   "metadata": {
    "collapsed": true
   },
   "outputs": [],
   "source": [
    "ned.setposition(-50,-50)"
   ]
  },
  {
   "cell_type": "markdown",
   "metadata": {},
   "source": [
    "So there we go. What do we do if we want to start drawing lines again? Naturally, its simply pendown()."
   ]
  },
  {
   "cell_type": "code",
   "execution_count": 27,
   "metadata": {
    "collapsed": true
   },
   "outputs": [],
   "source": [
    "ned.pendown()\n",
    "ned.home()"
   ]
  },
  {
   "cell_type": "code",
   "execution_count": 28,
   "metadata": {
    "collapsed": true
   },
   "outputs": [],
   "source": [
    "ned.clear()"
   ]
  },
  {
   "cell_type": "markdown",
   "metadata": {},
   "source": [
    "What else can we change? We can the line thickness and color."
   ]
  },
  {
   "cell_type": "code",
   "execution_count": 29,
   "metadata": {
    "collapsed": true
   },
   "outputs": [],
   "source": [
    "ned.pencolor(\"blue\")\n",
    "ned.pensize(10)"
   ]
  },
  {
   "cell_type": "markdown",
   "metadata": {},
   "source": [
    "We can also change the size and color of the turtle itself."
   ]
  },
  {
   "cell_type": "code",
   "execution_count": 31,
   "metadata": {
    "collapsed": false
   },
   "outputs": [],
   "source": [
    "ned.color(\"red\")\n",
    "ned.shapesize(10)"
   ]
  },
  {
   "cell_type": "markdown",
   "metadata": {},
   "source": [
    "The following just draws a circle with the given radius in pixels."
   ]
  },
  {
   "cell_type": "code",
   "execution_count": 32,
   "metadata": {
    "collapsed": true
   },
   "outputs": [],
   "source": [
    "ned.circle(20)"
   ]
  },
  {
   "cell_type": "markdown",
   "metadata": {},
   "source": [
    "Lets return ned to a more managable state."
   ]
  },
  {
   "cell_type": "code",
   "execution_count": 35,
   "metadata": {
    "collapsed": true
   },
   "outputs": [],
   "source": [
    "ned.color('black')\n",
    "ned.shapesize(1)\n",
    "ned.clear()"
   ]
  },
  {
   "cell_type": "markdown",
   "metadata": {},
   "source": [
    "We can also color the pen using floating point numbers between zero and one to assign colors. These are the RGB (red,green,blue) values."
   ]
  },
  {
   "cell_type": "code",
   "execution_count": null,
   "metadata": {
    "collapsed": false
   },
   "outputs": [],
   "source": [
    "ned.pensize(1)\n",
    "ned.pencolor((0,0,1))"
   ]
  },
  {
   "cell_type": "code",
   "execution_count": null,
   "metadata": {
    "collapsed": true
   },
   "outputs": [],
   "source": [
    "ned.circle(40)"
   ]
  },
  {
   "cell_type": "code",
   "execution_count": null,
   "metadata": {
    "collapsed": true
   },
   "outputs": [],
   "source": [
    "ned.pencolor((1,0,1))"
   ]
  },
  {
   "cell_type": "code",
   "execution_count": null,
   "metadata": {
    "collapsed": true
   },
   "outputs": [],
   "source": [
    "ned.circle(50)"
   ]
  },
  {
   "cell_type": "code",
   "execution_count": null,
   "metadata": {
    "collapsed": false
   },
   "outputs": [],
   "source": [
    "ned.pencolor((1,1,1))\n",
    "ned.circle(70)"
   ]
  },
  {
   "cell_type": "code",
   "execution_count": null,
   "metadata": {
    "collapsed": true
   },
   "outputs": [],
   "source": [
    "ned.clear()"
   ]
  },
  {
   "cell_type": "markdown",
   "metadata": {},
   "source": [
    "You'll notice that ned's orientation didn't change there. She was still facing the same direction she ended the previous shape at. If you wanted to reset everything to the exact starting location, we need to send ned home and then clear."
   ]
  },
  {
   "cell_type": "markdown",
   "metadata": {},
   "source": [
    "We can also use the preprogrammed functions of the library to draw common shapes."
   ]
  },
  {
   "cell_type": "code",
   "execution_count": null,
   "metadata": {
    "collapsed": false
   },
   "outputs": [],
   "source": [
    "ned.pencolor((0,0,0))\n",
    "ned.dot()\n",
    "ned.penup()\n",
    "ned.forward(100)"
   ]
  },
  {
   "cell_type": "markdown",
   "metadata": {},
   "source": [
    "We can also change the size and color of the dot when we create it."
   ]
  },
  {
   "cell_type": "code",
   "execution_count": null,
   "metadata": {
    "collapsed": true
   },
   "outputs": [],
   "source": [
    "ned.home()\n",
    "ned.clear()\n",
    "ned.dot(50, 'blue')\n",
    "ned.penup()\n",
    "ned.forward(50)"
   ]
  },
  {
   "cell_type": "markdown",
   "metadata": {},
   "source": [
    "The number is the radius of the dot we want drawn, and the color is obviously the color of our dot. We can also use the RGB values to color the dot."
   ]
  },
  {
   "cell_type": "code",
   "execution_count": null,
   "metadata": {
    "collapsed": false
   },
   "outputs": [],
   "source": [
    "ned.home()\n",
    "ned.clear()\n",
    "ned.dot(50,(1,0,1))\n",
    "ned.penup()\n",
    "ned.forward(50)"
   ]
  },
  {
   "cell_type": "markdown",
   "metadata": {
    "collapsed": true
   },
   "source": [
    "So lets take some time and draw things! If you come up with something you're willing to share, we are more than happy to cede the floor to you!"
   ]
  },
  {
   "cell_type": "code",
   "execution_count": null,
   "metadata": {
    "collapsed": false
   },
   "outputs": [],
   "source": [
    "# My cool image\n",
    "# The number of repititons\n",
    "n = 30\n",
    "\n",
    "# The height of my shape\n",
    "length = 100\n",
    "\n",
    "# The angle between sides\n",
    "angle = 360.0/n\n",
    "\n",
    "# Our loop counter\n",
    "i = 0\n",
    "\n",
    "# Clean up previous shapes\n",
    "ned.showturtle()\n",
    "ned.shape('arrow')\n",
    "ned.home()\n",
    "ned.pendown()\n",
    "ned.clear()\n",
    "\n",
    "# Window color should be blue\n",
    "window.bgcolor((0,0.75,1))\n",
    "\n",
    "# My loop\n",
    "while i < n:\n",
    "    # Draw my shape once\n",
    "    ned.pencolor((1,.5,0))\n",
    "    ned.forward(length/2)\n",
    "    ned.pencolor((1,1,0))\n",
    "    ned.forward(length/2)\n",
    "    ned.right(90)\n",
    "    \n",
    "    # Draw an approximate semi circle (half of a 20 sided figure)\n",
    "    j = 0\n",
    "    while j <= 10: \n",
    "        ned.forward(length/12)\n",
    "        ned.right(360.0/20)\n",
    "        j = j + 1\n",
    "        \n",
    "    # Now to reset color angle for next semi-circle\n",
    "    ned.left(360.0/20)\n",
    "    ned.pencolor((1,0.5,0))\n",
    "        \n",
    "    # Draw the next semi circle\n",
    "    j = 0\n",
    "    while j <= 10: \n",
    "        ned.backward(length/12)\n",
    "        ned.right(360.0/20)\n",
    "        j = j + 1\n",
    "    \n",
    "    # Now to reset to midpoint for next iteration\n",
    "    ned.home()\n",
    "    i = i + 1\n",
    "    ned.left(angle*i)\n",
    "    \n",
    "ned.hideturtle()"
   ]
  },
  {
   "cell_type": "markdown",
   "metadata": {},
   "source": [
    "Always clean up after yourself and close things properly."
   ]
  },
  {
   "cell_type": "code",
   "execution_count": 6,
   "metadata": {
    "collapsed": true
   },
   "outputs": [],
   "source": [
    "window.bye()"
   ]
  },
  {
   "cell_type": "code",
   "execution_count": null,
   "metadata": {
    "collapsed": true
   },
   "outputs": [],
   "source": []
  }
 ],
 "metadata": {
  "kernelspec": {
   "display_name": "Python 2",
   "language": "python",
   "name": "python2"
  },
  "language_info": {
   "codemirror_mode": {
    "name": "ipython",
    "version": 2
   },
   "file_extension": ".py",
   "mimetype": "text/x-python",
   "name": "python",
   "nbconvert_exporter": "python",
   "pygments_lexer": "ipython2",
   "version": "2.7.11"
  }
 },
 "nbformat": 4,
 "nbformat_minor": 0
}
