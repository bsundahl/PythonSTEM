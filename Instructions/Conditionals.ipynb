{
 "cells": [
  {
   "cell_type": "markdown",
   "metadata": {},
   "source": [
    "# Conditionals"
   ]
  },
  {
   "cell_type": "markdown",
   "metadata": {},
   "source": [
    "## If Statements"
   ]
  },
  {
   "cell_type": "markdown",
   "metadata": {},
   "source": [
    "Up until now, we've directly told the computer what to do, and it executes those commands every time. What if we only want the computer to run code *some* of the time? This is where conditionals come in.\n",
    "\n",
    "Let's start by defining a variable a."
   ]
  },
  {
   "cell_type": "code",
   "execution_count": 1,
   "metadata": {
    "collapsed": false
   },
   "outputs": [
    {
     "name": "stdout",
     "output_type": "stream",
     "text": [
      "1\n"
     ]
    }
   ],
   "source": [
    "a=1\n",
    "print a"
   ]
  },
  {
   "cell_type": "markdown",
   "metadata": {},
   "source": [
    "Now that that cell is executed, let's look at the following piece of trivial code:"
   ]
  },
  {
   "cell_type": "code",
   "execution_count": 2,
   "metadata": {
    "collapsed": false
   },
   "outputs": [
    {
     "name": "stdout",
     "output_type": "stream",
     "text": [
      "2\n"
     ]
    }
   ],
   "source": [
    "if a < 5 :\n",
    "    a = a + 1\n",
    "print a"
   ]
  },
  {
   "cell_type": "markdown",
   "metadata": {},
   "source": [
    "The first time you run the above code, you should see the number 2 printed. This code does pretty much what you would expect. First, the computer checks to see if a is less than 5. If it is, then it adds 1 to a, then stores the result in a. Next, it prints a. Since a was 1, it met the condition of being less than 5, so the computer added 1 to a and printed it. a is now 2. If you select the cell above and hit shift+enter, it will run again. What do you think will happen? Try it out! Play with this cell until you understand what is happening."
   ]
  },
  {
   "cell_type": "markdown",
   "metadata": {},
   "source": [
    "Let's look more closely at that last piece of code. The if statement looks for a boolean (either True or False). If that boolean is True, then the indented code below will be executed. If that boolean is False, then the indented code will be skipped. From this point on in the course, pay very close attention to indentation, as it is an important part of Python syntax. Failure to do so will result in a lot of errors. Another important part of the if statement syntax is the colon (:) after the boolean expression (in this example, \"a < 5\"). Failing to put a colon (:) here will also result in an error.\n",
    "\n",
    "In our code, we used a < 5. Luckily, this evaluates to a boolean! Since that boolean is True, the next line is run. If you experiment by continuing to execute the cell, eventually a will equal 5, and executing the cell will effectively do nothing. This is because a < 5 now evaluates to False."
   ]
  },
  {
   "cell_type": "markdown",
   "metadata": {},
   "source": [
    "With this knowledge, we can see why stuff like this works:"
   ]
  },
  {
   "cell_type": "code",
   "execution_count": 3,
   "metadata": {
    "collapsed": false
   },
   "outputs": [
    {
     "name": "stdout",
     "output_type": "stream",
     "text": [
      "6\n"
     ]
    }
   ],
   "source": [
    "if True :\n",
    "    a = a*3\n",
    "\n",
    "print a"
   ]
  },
  {
   "cell_type": "markdown",
   "metadata": {},
   "source": [
    "Since the if statement expects a boolean, we could just put a boolean in there! Of course, this particular example is the same as not using an if statement at all, because this code will always run! So while you'll never see this actually used, it does demonstrate what is going on behind the scenes and some similar tricks with different keywords might be useful later."
   ]
  },
  {
   "cell_type": "markdown",
   "metadata": {},
   "source": [
    "## The Else and Elif Keywords"
   ]
  },
  {
   "cell_type": "markdown",
   "metadata": {},
   "source": [
    "If you want the computer to execute a different piece of code should the if condition fail, you use an else statement. Here's an example:"
   ]
  },
  {
   "cell_type": "code",
   "execution_count": 4,
   "metadata": {
    "collapsed": false
   },
   "outputs": [
    {
     "name": "stdout",
     "output_type": "stream",
     "text": [
      "2\n"
     ]
    }
   ],
   "source": [
    "if a < 5:\n",
    "    a = a + 1\n",
    "else:\n",
    "    a = a - 4\n",
    "\n",
    "print a"
   ]
  },
  {
   "cell_type": "markdown",
   "metadata": {},
   "source": [
    "The else statement is partnered with the preceding if statement. You will never see an else statement without an if statement before it (in fact this will give you an error). In the case that the if statement fails to execute (meaning the boolean next to the \"if\" evaluates to False), the else statement will run instead. Note that else statements are optional, but can be very useful."
   ]
  },
  {
   "cell_type": "markdown",
   "metadata": {},
   "source": [
    "What if we have a long list of conditions? We can use the elif statement, which is short for \"else if.\" An example is below."
   ]
  },
  {
   "cell_type": "code",
   "execution_count": 5,
   "metadata": {
    "collapsed": false
   },
   "outputs": [
    {
     "name": "stdout",
     "output_type": "stream",
     "text": [
      "3\n"
     ]
    }
   ],
   "source": [
    "if a < 5:\n",
    "    a = a + 1\n",
    "elif a < 10:\n",
    "    a = a + 2\n",
    "else:\n",
    "    a = a - 10\n",
    "\n",
    "print a"
   ]
  },
  {
   "cell_type": "markdown",
   "metadata": {},
   "source": [
    "Again, you will never see an elif statement that isn't paired with an if statement. Any elif statement will only run if none of the preceding statements ran (including the if statement with which it is paired and any other preceding elif statements). You can have as many elif statements as you want paired with a single if statement. The computer will check each statement from top to bottom until one of three things happens:\n",
    "\n",
    "1) a statement evaluates to true (thus running the indented code)  \n",
    "2) it hits an else statement, thus running the indented code there  \n",
    "3) It hits the bottom (in the case that there is no else statement)\n",
    "\n",
    "Note that in this if -> elif -> else construction, only one set of indented code will ever run."
   ]
  },
  {
   "cell_type": "markdown",
   "metadata": {},
   "source": [
    "Play with the above cell. Try to guess what number the computer will print before you run the cell each time. Think about how the computer goes about printing the appropriate result."
   ]
  },
  {
   "cell_type": "markdown",
   "metadata": {
    "collapsed": true
   },
   "source": [
    "## Practice Problems "
   ]
  },
  {
   "cell_type": "markdown",
   "metadata": {},
   "source": [
    "Write a cell that creates an variable containing an integer between 10 and 99. If it's less than 50, add 25 to it and print the result. Otherwise, just print the number."
   ]
  },
  {
   "cell_type": "code",
   "execution_count": null,
   "metadata": {
    "collapsed": true
   },
   "outputs": [],
   "source": []
  },
  {
   "cell_type": "markdown",
   "metadata": {},
   "source": [
    "Write a cell that creates a variable containing an integer that's either 1, 2, or 3. Write an if -> elif -> else statement that will print the word corresponding to that integer. For example, if that integer is 1, this cell should print the word \"one.\""
   ]
  },
  {
   "cell_type": "code",
   "execution_count": null,
   "metadata": {
    "collapsed": true
   },
   "outputs": [],
   "source": []
  },
  {
   "cell_type": "markdown",
   "metadata": {},
   "source": [
    "Write a cell that creates a variables and stores an integer there. Then have this cell look at the integer variable and print \"Even\" if the number is even or \"Odd\" if the number is odd. (If you want to make your program more robust, you can have it print an error message if it receives a non-integer)"
   ]
  },
  {
   "cell_type": "code",
   "execution_count": null,
   "metadata": {
    "collapsed": true
   },
   "outputs": [],
   "source": []
  },
  {
   "cell_type": "markdown",
   "metadata": {},
   "source": [
    "## Advanced Problem"
   ]
  },
  {
   "cell_type": "markdown",
   "metadata": {},
   "source": [
    "Write a cell that checks for the kind of solution a given quadratic will have (2 real solutions? 1 solution? no real solutions?). Print the solutions if there are any, and print an error message if there are no real solutions. If there is only one solution, print that solution only once. Try it on a handful of different quadratics to make sure each case works appropriately.\n",
    "\n",
    "*hint* You can use the discriminant $\\Delta$ to determine the number of real solutions a quadratic will have. Recalling the formula for a quadratic equation we saw earlier (in the variables notebook), the discriminant is given by:\n",
    "\n",
    "$$\n",
    "\\Delta = b^2-4ac\n",
    "$$\n",
    "$$\n",
    "\\begin{array}{c | c }\n",
    "   \\mbox{Condition} &  \\mbox{Number of Real Solutions}\\\\\n",
    "   \\hline\n",
    "   \\Delta > 0 & \\mbox{2 Real Solutions} \\\\\n",
    "   \\Delta = 0 & \\mbox{1 Real Solution} \\\\\n",
    "   \\Delta < 0 & \\mbox{No Real Solutions}\n",
    "\\end{array}\n",
    "$$"
   ]
  },
  {
   "cell_type": "code",
   "execution_count": null,
   "metadata": {
    "collapsed": true
   },
   "outputs": [],
   "source": []
  }
 ],
 "metadata": {
  "kernelspec": {
   "display_name": "Python 2",
   "language": "python",
   "name": "python2"
  },
  "language_info": {
   "codemirror_mode": {
    "name": "ipython",
    "version": 2
   },
   "file_extension": ".py",
   "mimetype": "text/x-python",
   "name": "python",
   "nbconvert_exporter": "python",
   "pygments_lexer": "ipython2",
   "version": "2.7.11"
  }
 },
 "nbformat": 4,
 "nbformat_minor": 0
}
