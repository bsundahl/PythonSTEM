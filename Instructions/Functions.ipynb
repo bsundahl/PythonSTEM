{
 "cells": [
  {
   "cell_type": "markdown",
   "metadata": {
    "collapsed": true
   },
   "source": [
    "# Functions"
   ]
  },
  {
   "cell_type": "markdown",
   "metadata": {},
   "source": [
    "Up until now, we've simply been writing code in cells of our notebooks and executing them. This is great if you want to perhaps change one thing and run a bunch of lines of code again with that one thing changed. But what if we want to run the same cell a whole bunch of times? Or what if we want one cell to be able to run the code that's in another cell? Functions allow us to do these things and really help with the organization (and therefore readability) of our code."
   ]
  },
  {
   "cell_type": "markdown",
   "metadata": {},
   "source": [
    "At it's most basic level, a function is something that accepts inputs, and produces outputs. Think of a function as a factory. It takes some number of raw ingredients, and spits out a finished product or products. We can give functions names just like we give variables names. The inputs that a function works with are normally written in parentheses after the name of the function. So let's say we have a function named f that takes 2 inputs, which we'll temporarily call a and b. Then we write f(a,b). f takes a and b and produces something. Let's say it produces one thing and let's call it c. Then we can write f(a,b) = c."
   ]
  },
  {
   "cell_type": "markdown",
   "metadata": {},
   "source": [
    "We've used some built-in functions already, such as len() and split(). Now it's time for us to write our own functions. Python allows us to write our own functions so that we can perform the same tasks over and over again, but with perhaps a few things changed. Let's recall our example from earlier with the quadratic equation. We used variables to solve it with a code that looked like this:"
   ]
  },
  {
   "cell_type": "code",
   "execution_count": 1,
   "metadata": {
    "collapsed": true
   },
   "outputs": [],
   "source": [
    "import math"
   ]
  },
  {
   "cell_type": "code",
   "execution_count": 2,
   "metadata": {
    "collapsed": false
   },
   "outputs": [
    {
     "name": "stdout",
     "output_type": "stream",
     "text": [
      "0.5 -1.0\n"
     ]
    }
   ],
   "source": [
    "a=2\n",
    "b=1\n",
    "c=-1\n",
    "\n",
    "x1 = (-b+math.sqrt(b**2-4*a*c))/(2*a)\n",
    "x2 = (-b-math.sqrt(b**2-4*a*c))/(2*a)\n",
    "\n",
    "print x1, x2"
   ]
  },
  {
   "cell_type": "markdown",
   "metadata": {},
   "source": [
    "If we wanted to change the quadratic equation we want to solve, we could just change the values of a, b, and c and execute the cell again. This is what we did previously. Another way to do this is to use functions. The function version of the code looks like this:"
   ]
  },
  {
   "cell_type": "code",
   "execution_count": 3,
   "metadata": {
    "collapsed": false
   },
   "outputs": [],
   "source": [
    "def solver(a,b,c):\n",
    "    x1 = (-b+math.sqrt(b**2-4*a*c))/(2*a)\n",
    "    x2 = (-b-math.sqrt(b**2-4*a*c))/(2*a)\n",
    "    print x1, x2"
   ]
  },
  {
   "cell_type": "markdown",
   "metadata": {},
   "source": [
    "Something to note here is that executing the cell didn't produce any output. This is because in the above cell we didn't actually run any code. All we did was *define* a function named solver. If this function gets used later (or, as we say in programming, get's *called* later), the computer will know to come back here and run those three lines of code inside the function.\n",
    "\n",
    "The syntax of a function is fairly simple. The def keyword let's Python know that the next name we use is going to be a function. The next part of the syntax is the list of input *arguments*, in our case a, b, and c, enclosed by parentheses. Then the standard colon (:), and then every following line of indented code is considered part of the function. \n",
    "\n",
    "We can call a function like this:"
   ]
  },
  {
   "cell_type": "code",
   "execution_count": 4,
   "metadata": {
    "collapsed": false
   },
   "outputs": [
    {
     "name": "stdout",
     "output_type": "stream",
     "text": [
      "0.5 -1.0\n"
     ]
    }
   ],
   "source": [
    "solver(2,1,-1)"
   ]
  },
  {
   "cell_type": "markdown",
   "metadata": {},
   "source": [
    "Here's another example of a function. This one takes a birth year, month, and day, and prints out the persons age:"
   ]
  },
  {
   "cell_type": "code",
   "execution_count": 5,
   "metadata": {
    "collapsed": true
   },
   "outputs": [],
   "source": [
    "def age(year, month, day):\n",
    "    today = 10\n",
    "    this_month = 9\n",
    "    this_year = 2016  #today, this_month, and this_year are the date when we'll be holding class ;)\n",
    "    if (month > this_month) or ((month == this_month) and (day >= today)): #if (person hasn't had their birthday yet this year)\n",
    "        print this_year - year - 1\n",
    "    else: #otherwise, this person has had their birthday this year\n",
    "        print this_year - year"
   ]
  },
  {
   "cell_type": "code",
   "execution_count": 6,
   "metadata": {
    "collapsed": false
   },
   "outputs": [
    {
     "name": "stdout",
     "output_type": "stream",
     "text": [
      "29\n"
     ]
    }
   ],
   "source": [
    "age(1986,9,20)"
   ]
  },
  {
   "cell_type": "markdown",
   "metadata": {},
   "source": [
    "## Return statements"
   ]
  },
  {
   "cell_type": "markdown",
   "metadata": {},
   "source": [
    "Until now we've had our cells and functions simply print output to the screen, but what if we want to do something else with this output? It's not very useful to us if it's only printed to the screen. This is where return statements come in. With this, we can actually use the result in another piece of code. Here's our age function written with a return statement:"
   ]
  },
  {
   "cell_type": "code",
   "execution_count": 7,
   "metadata": {
    "collapsed": true
   },
   "outputs": [],
   "source": [
    "def age(year, month, day):\n",
    "    today = 12\n",
    "    this_month = 7\n",
    "    this_year = 2016\n",
    "    if (month > this_month) or ((month == this_month) and (day >= today)):\n",
    "        return this_year - year - 1\n",
    "    else:\n",
    "        return this_year - year"
   ]
  },
  {
   "cell_type": "markdown",
   "metadata": {},
   "source": [
    "Now let's try calling it."
   ]
  },
  {
   "cell_type": "code",
   "execution_count": 8,
   "metadata": {
    "collapsed": false
   },
   "outputs": [
    {
     "data": {
      "text/plain": [
       "29"
      ]
     },
     "execution_count": 8,
     "metadata": {},
     "output_type": "execute_result"
    }
   ],
   "source": [
    "age(1986,9,20)"
   ]
  },
  {
   "cell_type": "markdown",
   "metadata": {},
   "source": [
    "The result looks the same, but the new structure allows us to do things like this:"
   ]
  },
  {
   "cell_type": "code",
   "execution_count": 9,
   "metadata": {
    "collapsed": false
   },
   "outputs": [
    {
     "name": "stdout",
     "output_type": "stream",
     "text": [
      "Bryan is 29 years old.\n",
      "Joel is 25 years old.\n"
     ]
    }
   ],
   "source": [
    "bryans_age = age(1986,9,20) #store Bryan's age in a variable\n",
    "joels_age = age(1990,11,1)  #store Joel's age in a variable\n",
    "\n",
    "#Now use those variables to do something\n",
    "print \"Bryan is\", bryans_age,\"years old.\"\n",
    "print \"Joel is\", joels_age,\"years old.\""
   ]
  },
  {
   "cell_type": "markdown",
   "metadata": {},
   "source": [
    "Try running the cell above with the old definition of age, and see what happens! (You can do this by going to the cell with our \"old\" definition of the age() function and hitting shift+enter, then coming back down here and running the cell above this one)."
   ]
  },
  {
   "cell_type": "markdown",
   "metadata": {},
   "source": [
    "Using return statements allows us to store the return value in a variable, print it, use it in calculations, etc."
   ]
  },
  {
   "cell_type": "markdown",
   "metadata": {},
   "source": [
    "When Python encounters a return statement in a function, it will return the value after the return, and then cease execution of the function. Any code written after the return statement will not be run. With clever use of if statements and loops, this can allow for multiple return statements in a single function."
   ]
  },
  {
   "cell_type": "markdown",
   "metadata": {},
   "source": [
    "You can also use the return statement to return multiple things. Just separate everything you want to return with commas."
   ]
  },
  {
   "cell_type": "markdown",
   "metadata": {},
   "source": [
    "## Practice Problems"
   ]
  },
  {
   "cell_type": "markdown",
   "metadata": {},
   "source": [
    "Write a function that takes an integer n and prints the first n numbers."
   ]
  },
  {
   "cell_type": "code",
   "execution_count": null,
   "metadata": {
    "collapsed": true
   },
   "outputs": [],
   "source": []
  },
  {
   "cell_type": "markdown",
   "metadata": {},
   "source": [
    "Write a function that takes a string and counts how many vowels (a,e,i,o,u) are in the string. Return the result."
   ]
  },
  {
   "cell_type": "code",
   "execution_count": null,
   "metadata": {
    "collapsed": true
   },
   "outputs": [],
   "source": []
  },
  {
   "cell_type": "markdown",
   "metadata": {},
   "source": [
    "Write a function that takes a list of strings and concatenates every string to the strings in front of it in the list. For example, the list [\"cat\", \"dog\", \"fox\",\"pig\"] would return [\"cat\",\"catdog\",\"catdogfox\",\"catdogfoxpig\"]"
   ]
  },
  {
   "cell_type": "code",
   "execution_count": null,
   "metadata": {
    "collapsed": true
   },
   "outputs": [],
   "source": []
  },
  {
   "cell_type": "markdown",
   "metadata": {},
   "source": [
    "Write a function that takes an integer and returns True if that number is prime, and False if it isn't. Recall that a number is prime if it can only be divided by 1 and itself. 1 is not considered a prime number, but 2 is."
   ]
  },
  {
   "cell_type": "code",
   "execution_count": null,
   "metadata": {
    "collapsed": true
   },
   "outputs": [],
   "source": []
  },
  {
   "cell_type": "markdown",
   "metadata": {},
   "source": [
    "Write a function that takes an integer and returns a list of all integers that divide that number evenly. In other words, it finds all the possible factors of the input number."
   ]
  },
  {
   "cell_type": "code",
   "execution_count": null,
   "metadata": {
    "collapsed": true
   },
   "outputs": [],
   "source": []
  },
  {
   "cell_type": "markdown",
   "metadata": {},
   "source": [
    "## Advanced Problems"
   ]
  },
  {
   "cell_type": "markdown",
   "metadata": {},
   "source": [
    "Write a function that takes a starting point a (a float), and ending point b (a float), and a number of points n (an int). This function outputs a list of n points on the real line starting with a and ending with b. For example, given the inputs 0,1,11, the output is [0, 0.1, 0.2, 0.3, 0.4, 0.5, 0.6, 0.7, 0.8, 0.9, 1.0]"
   ]
  },
  {
   "cell_type": "code",
   "execution_count": null,
   "metadata": {
    "collapsed": true
   },
   "outputs": [],
   "source": []
  },
  {
   "cell_type": "markdown",
   "metadata": {},
   "source": [
    "Write a function that takes an integer and returns a list containing the prime factorization of that number. (hint: You can use some of the functions you wrote above in this function to make life easier)"
   ]
  },
  {
   "cell_type": "code",
   "execution_count": null,
   "metadata": {
    "collapsed": true
   },
   "outputs": [],
   "source": []
  }
 ],
 "metadata": {
  "kernelspec": {
   "display_name": "Python 2",
   "language": "python",
   "name": "python2"
  },
  "language_info": {
   "codemirror_mode": {
    "name": "ipython",
    "version": 2
   },
   "file_extension": ".py",
   "mimetype": "text/x-python",
   "name": "python",
   "nbconvert_exporter": "python",
   "pygments_lexer": "ipython2",
   "version": "2.7.11"
  }
 },
 "nbformat": 4,
 "nbformat_minor": 0
}
