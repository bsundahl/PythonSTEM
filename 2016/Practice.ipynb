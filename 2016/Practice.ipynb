{
 "cells": [
  {
   "cell_type": "markdown",
   "metadata": {},
   "source": [
    "**Series**  \n",
    "\n",
    "*Part One*: One cool thing that loops will let you do is quickly calculate very long sums, especially if there's some pattern that you can follow to find each term in the sum. For example, here's a simple sum:\n",
    "\n",
    "$$ 1 + 2 + 3 + \\dots + n$$\n",
    "\n",
    "This sum simply adds up all of the natural numbers from 1 to n. A worked example this sum for n=10. Generalize this code so that it works for any positive integer n.\n",
    "\n",
    "*Part Two*: Once you have that sum working, modify your code to try these sums:\n",
    "\n",
    "$$1 + \\frac{1}{2} + \\frac{1}{4} + \\frac{1}{8} + \\dots + \\frac{1}{2^n}$$\n",
    "\n",
    "or\n",
    "\n",
    "$$1 - \\frac{1}{2} + \\frac{1}{3} - \\frac{1}{4} + \\frac{1}{5} - \\dots + \\frac{(-1)^{n+1}}{n} $$"
   ]
  },
  {
   "cell_type": "code",
   "execution_count": 33,
   "metadata": {
    "collapsed": false
   },
   "outputs": [
    {
     "name": "stdout",
     "output_type": "stream",
     "text": [
      "0.69314708056\n"
     ]
    }
   ],
   "source": [
    "mysum = 1\n",
    "i = 2\n",
    "n=5000000\n",
    "while i<=n:\n",
    "    mysum = mysum + (-1.0)**(i+1)/i\n",
    "    i = i + 1\n",
    "print mysum"
   ]
  },
  {
   "cell_type": "code",
   "execution_count": 35,
   "metadata": {
    "collapsed": false
   },
   "outputs": [
    {
     "data": {
      "text/plain": [
       "0.6931471805599453"
      ]
     },
     "execution_count": 35,
     "metadata": {},
     "output_type": "execute_result"
    }
   ],
   "source": [
    "import math\n",
    "math.log(2)"
   ]
  },
  {
   "cell_type": "code",
   "execution_count": null,
   "metadata": {
    "collapsed": true
   },
   "outputs": [],
   "source": []
  }
 ],
 "metadata": {
  "kernelspec": {
   "display_name": "Python 2",
   "language": "python",
   "name": "python2"
  },
  "language_info": {
   "codemirror_mode": {
    "name": "ipython",
    "version": 2
   },
   "file_extension": ".py",
   "mimetype": "text/x-python",
   "name": "python",
   "nbconvert_exporter": "python",
   "pygments_lexer": "ipython2",
   "version": "2.7.11"
  }
 },
 "nbformat": 4,
 "nbformat_minor": 0
}
