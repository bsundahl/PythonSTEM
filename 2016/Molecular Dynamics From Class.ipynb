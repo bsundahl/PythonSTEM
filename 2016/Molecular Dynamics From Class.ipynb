{
 "cells": [
  {
   "cell_type": "markdown",
   "metadata": {},
   "source": [
    "# Molecular Dynamics "
   ]
  },
  {
   "cell_type": "code",
   "execution_count": 1,
   "metadata": {
    "collapsed": false
   },
   "outputs": [],
   "source": [
    "import turtle"
   ]
  },
  {
   "cell_type": "code",
   "execution_count": 2,
   "metadata": {
    "collapsed": false
   },
   "outputs": [],
   "source": [
    "def initialize_window():\n",
    "    # Create the object with desired properties\n",
    "    window = turtle.Screen()\n",
    "    window.title(\"Molecular Dynamics\")\n",
    "    window.clear()\n",
    "    \n",
    "    # All done creating our window\n",
    "    # So we need to return the window\n",
    "    return window"
   ]
  },
  {
   "cell_type": "code",
   "execution_count": 3,
   "metadata": {
    "collapsed": true
   },
   "outputs": [],
   "source": [
    "def clean_up(clean_up_object):\n",
    "    clean_up_object.bye()"
   ]
  },
  {
   "cell_type": "code",
   "execution_count": 4,
   "metadata": {
    "collapsed": true
   },
   "outputs": [],
   "source": [
    "def initialize_atom():\n",
    "    # Variables to hold things we want to be constant\n",
    "    atom_radius = 50\n",
    "    atom_color = \"red\"\n",
    "    \n",
    "    # Use turtle to create the atom\n",
    "    atom = turtle.Turtle()\n",
    "    \n",
    "    # Apply the shpae and color to our atom\n",
    "    atom.shape(\"circle\")\n",
    "    atom.shapesize(atom_radius/10.0)\n",
    "    atom.color(atom_color)\n",
    "    atom.penup()\n",
    "    \n",
    "    # All done! Return our new atom\n",
    "    return atom"
   ]
  },
  {
   "cell_type": "code",
   "execution_count": 5,
   "metadata": {
    "collapsed": false
   },
   "outputs": [],
   "source": [
    "window = initialize_window()"
   ]
  },
  {
   "cell_type": "code",
   "execution_count": 6,
   "metadata": {
    "collapsed": true
   },
   "outputs": [],
   "source": [
    "steve = initialize_atom()"
   ]
  },
  {
   "cell_type": "code",
   "execution_count": 15,
   "metadata": {
    "collapsed": true
   },
   "outputs": [],
   "source": [
    "steve.goto(100,-100)"
   ]
  },
  {
   "cell_type": "code",
   "execution_count": 16,
   "metadata": {
    "collapsed": true
   },
   "outputs": [],
   "source": [
    "steve.home()"
   ]
  },
  {
   "cell_type": "code",
   "execution_count": 24,
   "metadata": {
    "collapsed": true
   },
   "outputs": [],
   "source": [
    "def motion(atom, window):\n",
    "    # This function will move our atom around\n",
    "    \n",
    "    # First lets reset the atom to home\n",
    "    atom.home()\n",
    "    \n",
    "    # Lets set a velocity for the atom\n",
    "    x_vel = 10\n",
    "    y_vel = -20\n",
    "    \n",
    "    # The amount of time each iteration moves us\n",
    "    # forward\n",
    "    dt = 1\n",
    "    \n",
    "    for i in range(100):\n",
    "        \n",
    "        # Get the current (x,y) position of\n",
    "        # our atom\n",
    "        (x,y) = atom.pos()\n",
    "        \n",
    "        # We need these variables to keep\n",
    "        # our atom in the window\n",
    "        height = window.window_height()\n",
    "        width = window.window_width()\n",
    "        \n",
    "        # Lets print to see them\n",
    "        print x, y\n",
    "        \n",
    "        # We need to check if our atom will \n",
    "        # leave the window\n",
    "        if abs(x + dt * x_vel) >= width/2.0:\n",
    "            x_vel = -x_vel\n",
    "        if abs(y + dt * y_vel) >= height/2.0:\n",
    "            y_vel = -y_vel\n",
    "        \n",
    "        # Now move the atom\n",
    "        atom.goto(x + x_vel * dt, y + y_vel * dt)"
   ]
  },
  {
   "cell_type": "code",
   "execution_count": 25,
   "metadata": {
    "collapsed": true
   },
   "outputs": [
    {
     "name": "stdout",
     "output_type": "stream",
     "text": [
      "0 0\n",
      "10 -20\n",
      "20 -40\n",
      "30 -60\n",
      "40 -80\n",
      "50 -100\n",
      "60 -120\n",
      "70 -140\n",
      "80 -160\n",
      "90 -180\n",
      "100 -200\n",
      "110 -220\n",
      "120 -240\n",
      "130 -260\n",
      "140 -280\n",
      "150 -260\n",
      "160 -240\n",
      "170 -220\n",
      "180 -200\n",
      "190 -180\n",
      "200 -160\n",
      "210 -140\n",
      "220 -120\n",
      "230 -100\n",
      "240 -80\n",
      "250 -60\n",
      "260 -40\n",
      "270 -20\n",
      "280 0\n",
      "290 20\n",
      "300 40\n",
      "310 60\n",
      "300 80\n",
      "290 100\n",
      "280 120\n",
      "270 140\n",
      "260 160\n",
      "250 180\n",
      "240 200\n",
      "230 220\n",
      "220 240\n",
      "210 260\n",
      "200 280\n",
      "190 260\n",
      "180 240\n",
      "170 220\n",
      "160 200\n",
      "150 180\n",
      "140 160\n",
      "130 140\n",
      "120 120\n",
      "110 100\n",
      "100 80\n",
      "90 60\n",
      "80 40\n",
      "70 20\n",
      "60 0\n",
      "50 -20\n",
      "40 -40\n",
      "30 -60\n",
      "20 -80\n",
      "10 -100\n",
      "0 -120\n",
      "-10 -140\n",
      "-20 -160\n",
      "-30 -180\n",
      "-40 -200\n",
      "-50 -220\n",
      "-60 -240\n",
      "-70 -260\n",
      "-80 -280\n",
      "-90 -260\n",
      "-100 -240\n",
      "-110 -220\n",
      "-120 -200\n",
      "-130 -180\n",
      "-140 -160\n",
      "-150 -140\n",
      "-160 -120\n",
      "-170 -100\n",
      "-180 -80\n",
      "-190 -60\n",
      "-200 -40\n",
      "-210 -20\n",
      "-220 0\n",
      "-230 20\n",
      "-240 40\n",
      "-250 60\n",
      "-260 80\n",
      "-270 100\n",
      "-280 120\n",
      "-290 140\n",
      "-300 160\n",
      "-310 180\n",
      "-300 200\n",
      "-290 220\n",
      "-280 240\n",
      "-270 260\n",
      "-260 280\n",
      "-250 260\n"
     ]
    }
   ],
   "source": [
    "motion(steve, window)"
   ]
  },
  {
   "cell_type": "code",
   "execution_count": 26,
   "metadata": {
    "collapsed": true
   },
   "outputs": [],
   "source": [
    "import random\n",
    "\n",
    "def initialize_atoms(num_atoms, window):\n",
    "    \n",
    "    # Create an empty list of atoms\n",
    "    atom_list = []\n",
    "        \n",
    "    # Now we will use a loop to create a new\n",
    "    # atom and do it num_atoms number of times\n",
    "    for i in range(num_atoms):\n",
    "        atom_list.append(turtle.Turtle())\n",
    "        \n",
    "    atom_radius = 20 # Atom radius, like from above\n",
    "    \n",
    "    scaling_factor = 0.8\n",
    "    \n",
    "    # We need to get our window sizes\n",
    "    height = window.window_height()\n",
    "    width = window.window_width()\n",
    "    \n",
    "    # Ready to color and place our atoms\n",
    "    for i in range(num_atoms):\n",
    "        \n",
    "        # Draw the atom in the proper shape\n",
    "        # and color\n",
    "        atom_list[i].shape(\"circle\")\n",
    "        atom_list[i].shapesize(atom_radius/10.0)\n",
    "        atom_list[i].color((random.random(),random.random(),random.random()))\n",
    "        atom_list[i].penup()\n",
    "        atom_list[i].goto(random.uniform(-1,1)*width/2.0*scaling_factor, random.uniform(-1,1)*height/2.0*scaling_factor)\n",
    "        \n",
    "        atom_list[i].tracer(0,0)\n",
    "        turtle.update()\n",
    "        \n",
    "    return atom_list\n",
    "        "
   ]
  },
  {
   "cell_type": "code",
   "execution_count": 27,
   "metadata": {
    "collapsed": true
   },
   "outputs": [],
   "source": [
    "window.clear()"
   ]
  },
  {
   "cell_type": "code",
   "execution_count": 28,
   "metadata": {
    "collapsed": true
   },
   "outputs": [],
   "source": [
    "mylist = initialize_atoms(5, window)"
   ]
  },
  {
   "cell_type": "code",
   "execution_count": 32,
   "metadata": {
    "collapsed": true
   },
   "outputs": [],
   "source": [
    "def motion2(atom_list, window):\n",
    "    \n",
    "    # Lets get the number of atoms\n",
    "    num_atoms = len(atom_list)\n",
    "    \n",
    "    # Lets set a velocity for the atom\n",
    "    vel_x_list = []\n",
    "    vel_y_list = []\n",
    "    for i in range(num_atoms):\n",
    "        vel_x_list.append(10)\n",
    "        vel_y_list.append(-20)\n",
    "    \n",
    "    # The amount of time each iteration moves us\n",
    "    # forward\n",
    "    dt = 1\n",
    "    \n",
    "    # We need these variables to keep\n",
    "    # our atom in the window\n",
    "    height = window.window_height()\n",
    "    width = window.window_width()\n",
    "    \n",
    "    for i in range(10000):\n",
    "        \n",
    "        for j in range(num_atoms):\n",
    "        \n",
    "            # Get the current (x,y) position of\n",
    "            # our atom\n",
    "            (x,y) = atom_list[j].pos()\n",
    "\n",
    "        \n",
    "            # Lets print to see them\n",
    "            #print x, y\n",
    "        \n",
    "            # We need to check if our atom will \n",
    "            # leave the window\n",
    "            if abs(x + dt * vel_x_list[j]) >= width/2.0:\n",
    "                vel_x_list[j] = -vel_x_list[j]\n",
    "            if abs(y + dt * vel_y_list[j]) >= height/2.0:\n",
    "                vel_y_list[j] = -vel_y_list[j]\n",
    "        \n",
    "            # Now move the atom\n",
    "            atom_list[j].goto(x + vel_x_list[j] * dt, y + vel_y_list[j] * dt)\n",
    "        \n",
    "        turtle.update()"
   ]
  },
  {
   "cell_type": "code",
   "execution_count": 38,
   "metadata": {
    "collapsed": true
   },
   "outputs": [],
   "source": [
    "motion2(mylist,window)"
   ]
  },
  {
   "cell_type": "code",
   "execution_count": null,
   "metadata": {
    "collapsed": true
   },
   "outputs": [],
   "source": []
  }
 ],
 "metadata": {
  "kernelspec": {
   "display_name": "Python 2",
   "language": "python",
   "name": "python2"
  },
  "language_info": {
   "codemirror_mode": {
    "name": "ipython",
    "version": 2
   },
   "file_extension": ".py",
   "mimetype": "text/x-python",
   "name": "python",
   "nbconvert_exporter": "python",
   "pygments_lexer": "ipython2",
   "version": "2.7.11"
  }
 },
 "nbformat": 4,
 "nbformat_minor": 0
}
