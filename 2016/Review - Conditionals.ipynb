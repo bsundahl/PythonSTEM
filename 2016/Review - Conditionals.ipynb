{
 "cells": [
  {
   "cell_type": "markdown",
   "metadata": {},
   "source": [
    "Write a cell that checks for the kind of solution a given quadratic will have (2 real solutions? 1 solution? no real solutions?). Print the solutions if there are any, and print an error message if there are no real solutions. If there is only one solution, print that solution only once. Try it on a handful of different quadratics to make sure each case works appropriately.\n",
    "\n",
    "*hint* You can use the discriminant $\\Delta$ to determine the number of real solutions a quadratic will have. Recalling the formula for a quadratic equation we saw earlier (in the variables notebook), the discriminant is given by:\n",
    "\n",
    "$$\n",
    "\\Delta = b^2-4ac\n",
    "$$  \n",
    "$$\n",
    "\\begin{array}{c | c }\n",
    "   \\mbox{Condition} &  \\mbox{Number of Real Solutions}\\\\\n",
    "   \\hline\n",
    "   \\Delta > 0 & \\mbox{2 Real Solutions} \\\\\n",
    "   \\Delta = 0 & \\mbox{1 Real Solution} \\\\\n",
    "   \\Delta < 0 & \\mbox{No Real Solutions}\n",
    "\\end{array}\n",
    "$$"
   ]
  },
  {
   "cell_type": "code",
   "execution_count": 5,
   "metadata": {
    "collapsed": false
   },
   "outputs": [
    {
     "name": "stdout",
     "output_type": "stream",
     "text": [
      "Two real solutions\n",
      "-0.346688068541\n",
      "-8.65331193146\n"
     ]
    }
   ],
   "source": [
    "import math\n",
    "a=1\n",
    "b=9\n",
    "c=3\n",
    "delta = b**2-4*a*c\n",
    "if delta > 0.0:\n",
    "    print \"Two real solutions\"\n",
    "    print (-b+math.sqrt(delta))/(2*a)\n",
    "    print (-b-math.sqrt(delta))/(2*a)\n",
    "elif delta < 0.0:\n",
    "    print \"No real solutions\"\n",
    "else:\n",
    "    print \"One real solution\"\n",
    "    print (-b)/(2*a)"
   ]
  },
  {
   "cell_type": "code",
   "execution_count": null,
   "metadata": {
    "collapsed": true
   },
   "outputs": [],
   "source": []
  }
 ],
 "metadata": {
  "kernelspec": {
   "display_name": "Python 2",
   "language": "python",
   "name": "python2"
  },
  "language_info": {
   "codemirror_mode": {
    "name": "ipython",
    "version": 2
   },
   "file_extension": ".py",
   "mimetype": "text/x-python",
   "name": "python",
   "nbconvert_exporter": "python",
   "pygments_lexer": "ipython2",
   "version": "2.7.11"
  }
 },
 "nbformat": 4,
 "nbformat_minor": 0
}
