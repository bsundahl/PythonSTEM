{
 "cells": [
  {
   "cell_type": "markdown",
   "metadata": {},
   "source": [
    "# Molecular Dynamics 3 "
   ]
  },
  {
   "cell_type": "markdown",
   "metadata": {},
   "source": [
    "Ok, now we want to have multiple atoms.  \n",
    "  \n",
    "So lets restart all of our previous turtle things to get window set up."
   ]
  },
  {
   "cell_type": "code",
   "execution_count": 1,
   "metadata": {
    "collapsed": true
   },
   "outputs": [],
   "source": [
    "import turtle\n",
    "import random"
   ]
  },
  {
   "cell_type": "markdown",
   "metadata": {},
   "source": [
    "When using random numbers, it is important to start a seed to insure that you actually are getting random numbers."
   ]
  },
  {
   "cell_type": "code",
   "execution_count": 2,
   "metadata": {
    "collapsed": true
   },
   "outputs": [],
   "source": [
    "random.seed(90)"
   ]
  },
  {
   "cell_type": "markdown",
   "metadata": {},
   "source": [
    "Now lets get our back drop set up."
   ]
  },
  {
   "cell_type": "code",
   "execution_count": 3,
   "metadata": {
    "collapsed": false
   },
   "outputs": [],
   "source": [
    "window = turtle.Screen()\n",
    "window.title('Molecular Dynamics 3')\n",
    "window.clear()"
   ]
  },
  {
   "cell_type": "markdown",
   "metadata": {},
   "source": [
    "Lets see how big our window is, which will tell us where the boundaries are."
   ]
  },
  {
   "cell_type": "code",
   "execution_count": 4,
   "metadata": {
    "collapsed": false
   },
   "outputs": [],
   "source": [
    "# We will want to store these numbers in a variable\n",
    "height = window.window_height()\n",
    "width = window.window_width()"
   ]
  },
  {
   "cell_type": "markdown",
   "metadata": {},
   "source": [
    "Lets check and see what we have here."
   ]
  },
  {
   "cell_type": "code",
   "execution_count": null,
   "metadata": {
    "collapsed": false
   },
   "outputs": [],
   "source": [
    "print height\n",
    "print width"
   ]
  },
  {
   "cell_type": "markdown",
   "metadata": {},
   "source": [
    "Now we have our window, lets make a turtles to draw our atoms. We are going to make a list of atoms and then populate it."
   ]
  },
  {
   "cell_type": "code",
   "execution_count": 5,
   "metadata": {
    "collapsed": false
   },
   "outputs": [],
   "source": [
    "# Number of atoms we want\n",
    "num_atoms = 5\n",
    "\n",
    "# This initializes an empty list\n",
    "atom_list = []\n",
    "\n",
    "# Now use a loop to initialize a new atom\n",
    "# and do it num_atoms times.\n",
    "for i in range(num_atoms):\n",
    "    atom_list.append(turtle.Turtle())"
   ]
  },
  {
   "cell_type": "markdown",
   "metadata": {},
   "source": [
    "We should now have two atoms stored in atom_list. We can check various aspects of this new list using print."
   ]
  },
  {
   "cell_type": "code",
   "execution_count": null,
   "metadata": {
    "collapsed": false
   },
   "outputs": [],
   "source": [
    "print len(atom_list)"
   ]
  },
  {
   "cell_type": "code",
   "execution_count": null,
   "metadata": {
    "collapsed": false
   },
   "outputs": [],
   "source": [
    "print atom_list"
   ]
  },
  {
   "cell_type": "markdown",
   "metadata": {},
   "source": [
    "Everything looks good. Now lets draw our atoms as spheres with a fixed radius and random color and place them at random locations."
   ]
  },
  {
   "cell_type": "code",
   "execution_count": 6,
   "metadata": {
    "collapsed": false
   },
   "outputs": [],
   "source": [
    "# Variables to hold things we want to be constant\n",
    "atom_radius = 20\n",
    "\n",
    "# Scaling factor here is so we don't get our \n",
    "# initial positions stuck on the edge.\n",
    "scaling_factor = 0.8\n",
    "\n",
    "# We need to loop over each atom.\n",
    "for i in range(num_atoms):\n",
    "   \n",
    "    # Draw the atom in the proper shape\n",
    "    atom_list[i].shape('circle')\n",
    "    atom_list[i].shapesize(atom_radius/10.0)\n",
    "    atom_list[i].color((random.random(),random.random(),random.random()))\n",
    "    atom_list[i].penup()\n",
    "    atom_list[i].goto(random.uniform(-1,1)*width/2.0 * scaling_factor, random.uniform(-1,1)*height/2.0 * scaling_factor)\n",
    "  \n",
    "    # Turtles can be very slow. This is a semi-fix to tell\n",
    "    # turtles not to update the screen with every change,\n",
    "    # but rather wait till a set of updates are done and \n",
    "    # then update the screen.\n",
    "    atom_list[i].tracer(0,0)\n",
    "    turtle.update()"
   ]
  },
  {
   "cell_type": "markdown",
   "metadata": {},
   "source": [
    "Alright, now lets make a vector with random velocities for each atom. Our velocity vector will have one line per atom, and each line will have a pair of floating point numbers that represent (velocity_x, velocity_y)."
   ]
  },
  {
   "cell_type": "code",
   "execution_count": 7,
   "metadata": {
    "collapsed": true
   },
   "outputs": [],
   "source": [
    "# Max velocity we want\n",
    "max_velocity = 20.0\n",
    "\n",
    "# Initailize an empty list\n",
    "velocity_list = []\n",
    "\n",
    "# Now loop over the number of atoms\n",
    "for i in range(num_atoms):\n",
    "    velocity_list.append([random.uniform(-1,1)*max_velocity, random.uniform(-1,1)*max_velocity])"
   ]
  },
  {
   "cell_type": "markdown",
   "metadata": {},
   "source": [
    "Lets check to make sure this worked."
   ]
  },
  {
   "cell_type": "code",
   "execution_count": null,
   "metadata": {
    "collapsed": false
   },
   "outputs": [],
   "source": [
    "print len(velocity_list)"
   ]
  },
  {
   "cell_type": "code",
   "execution_count": 8,
   "metadata": {
    "collapsed": false
   },
   "outputs": [
    {
     "name": "stdout",
     "output_type": "stream",
     "text": [
      "[[17.093708148561475, -11.487478576960761], [-15.887234609961203, -3.0358919278594865], [-19.679764210054035, -16.677375363204654], [6.047579097898339, 19.388495025094798], [18.898891516896935, 12.397913202260117]]\n"
     ]
    }
   ],
   "source": [
    "print velocity_list"
   ]
  },
  {
   "cell_type": "markdown",
   "metadata": {},
   "source": [
    "Now how would we access only 1 element? We use square brackets []!"
   ]
  },
  {
   "cell_type": "code",
   "execution_count": 9,
   "metadata": {
    "collapsed": false
   },
   "outputs": [
    {
     "name": "stdout",
     "output_type": "stream",
     "text": [
      "[17.093708148561475, -11.487478576960761]\n"
     ]
    }
   ],
   "source": [
    "print velocity_list[0]"
   ]
  },
  {
   "cell_type": "markdown",
   "metadata": {},
   "source": [
    "Now how would we access the x_velocity component here? We'd use another set of square brackets!"
   ]
  },
  {
   "cell_type": "code",
   "execution_count": 10,
   "metadata": {
    "collapsed": false
   },
   "outputs": [
    {
     "name": "stdout",
     "output_type": "stream",
     "text": [
      "17.0937081486\n"
     ]
    }
   ],
   "source": [
    "print velocity_list[0][0] #accessing a single element, the first 0 means it's the first atom in the list\n",
    "                          #the second 0 means it's the X coordinate (1 would be y coordinate)"
   ]
  },
  {
   "cell_type": "markdown",
   "metadata": {},
   "source": [
    "Now to start moving our atoms."
   ]
  },
  {
   "cell_type": "code",
   "execution_count": 12,
   "metadata": {
    "collapsed": false
   },
   "outputs": [],
   "source": [
    "# The amount of time each iteration moves us forward\n",
    "dt = 0.1\n",
    "\n",
    "max_steps=1000\n",
    "\n",
    "for i in range(max_steps):  #Just controls how long the simulation runs\n",
    "\n",
    "    # We want to move each atom\n",
    "    for j in range(num_atoms):\n",
    "    \n",
    "        # Get the current position of the atom\n",
    "        (x,y) = atom_list[j].pos()\n",
    "    \n",
    "        # Check if moving left or right will put our atom beyond the wall\n",
    "        if abs(x + dt * velocity_list[j][0]) >= width/2.0 - atom_radius:\n",
    "        \n",
    "            # We have moved too far right or left, so flip the x_vel\n",
    "            velocity_list[j][0] = -velocity_list[j][0]           \n",
    "    \n",
    "        # Check if moving up or down will put our atom beyond the wall\n",
    "        if abs(y + dt * velocity_list[j][1]) >= height/2.0 - atom_radius:\n",
    "        \n",
    "            # We have moved too far up or down, so flip the y_vel\n",
    "            velocity_list[j][1] = -velocity_list[j][1]\n",
    "        \n",
    "        # We won't move out of the box, so update the new position\n",
    "        atom_list[j].goto(x + dt*velocity_list[j][0], y + dt*velocity_list[j][1])\n",
    "        \n",
    "    # Tell turtles we are done updating and to redraw\n",
    "    # Only redraw every 10 steps to make it smoother\n",
    "    if i % 10 == 0:\n",
    "        turtle.update()\n",
    "    "
   ]
  },
  {
   "cell_type": "markdown",
   "metadata": {},
   "source": [
    "It works!"
   ]
  },
  {
   "cell_type": "markdown",
   "metadata": {
    "collapsed": true
   },
   "source": [
    "Always clean up."
   ]
  },
  {
   "cell_type": "code",
   "execution_count": 13,
   "metadata": {
    "collapsed": true
   },
   "outputs": [],
   "source": [
    "window.bye()"
   ]
  },
  {
   "cell_type": "code",
   "execution_count": null,
   "metadata": {
    "collapsed": true
   },
   "outputs": [],
   "source": []
  }
 ],
 "metadata": {
  "kernelspec": {
   "display_name": "Python 2",
   "language": "python",
   "name": "python2"
  },
  "language_info": {
   "codemirror_mode": {
    "name": "ipython",
    "version": 2
   },
   "file_extension": ".py",
   "mimetype": "text/x-python",
   "name": "python",
   "nbconvert_exporter": "python",
   "pygments_lexer": "ipython2",
   "version": "2.7.11"
  }
 },
 "nbformat": 4,
 "nbformat_minor": 0
}
