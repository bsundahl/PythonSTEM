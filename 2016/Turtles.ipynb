{
 "cells": [
  {
   "cell_type": "code",
   "execution_count": 1,
   "metadata": {
    "collapsed": true
   },
   "outputs": [],
   "source": [
    "import turtle"
   ]
  },
  {
   "cell_type": "code",
   "execution_count": 2,
   "metadata": {
    "collapsed": true
   },
   "outputs": [],
   "source": [
    "window = turtle.Screen()"
   ]
  },
  {
   "cell_type": "code",
   "execution_count": 3,
   "metadata": {
    "collapsed": true
   },
   "outputs": [],
   "source": [
    "ned = turtle.Turtle()"
   ]
  },
  {
   "cell_type": "code",
   "execution_count": 4,
   "metadata": {
    "collapsed": true
   },
   "outputs": [],
   "source": [
    "ned.forward(90)"
   ]
  },
  {
   "cell_type": "code",
   "execution_count": 5,
   "metadata": {
    "collapsed": true
   },
   "outputs": [],
   "source": [
    "ned.left(90)"
   ]
  },
  {
   "cell_type": "code",
   "execution_count": 7,
   "metadata": {
    "collapsed": false
   },
   "outputs": [],
   "source": [
    "ned.forward(90)"
   ]
  },
  {
   "cell_type": "code",
   "execution_count": 8,
   "metadata": {
    "collapsed": true
   },
   "outputs": [],
   "source": [
    "ned.left(90)"
   ]
  },
  {
   "cell_type": "code",
   "execution_count": 9,
   "metadata": {
    "collapsed": true
   },
   "outputs": [],
   "source": [
    "ned.forward(90)"
   ]
  },
  {
   "cell_type": "code",
   "execution_count": 10,
   "metadata": {
    "collapsed": true
   },
   "outputs": [],
   "source": [
    "ned.left(90)"
   ]
  },
  {
   "cell_type": "code",
   "execution_count": 11,
   "metadata": {
    "collapsed": true
   },
   "outputs": [],
   "source": [
    "ned.forward(90*2)"
   ]
  },
  {
   "cell_type": "code",
   "execution_count": 12,
   "metadata": {
    "collapsed": true
   },
   "outputs": [],
   "source": [
    "ned.forward(270)"
   ]
  },
  {
   "cell_type": "code",
   "execution_count": 13,
   "metadata": {
    "collapsed": true
   },
   "outputs": [],
   "source": [
    "ned.home()"
   ]
  },
  {
   "cell_type": "code",
   "execution_count": 14,
   "metadata": {
    "collapsed": true
   },
   "outputs": [],
   "source": [
    "ned.goto(270,270)"
   ]
  },
  {
   "cell_type": "code",
   "execution_count": 15,
   "metadata": {
    "collapsed": true
   },
   "outputs": [],
   "source": [
    "ned.home()"
   ]
  },
  {
   "cell_type": "code",
   "execution_count": 16,
   "metadata": {
    "collapsed": true
   },
   "outputs": [],
   "source": [
    "ned.clear()"
   ]
  },
  {
   "cell_type": "code",
   "execution_count": 20,
   "metadata": {
    "collapsed": true
   },
   "outputs": [],
   "source": [
    "ned.home()\n",
    "ned.clear()\n",
    "\n",
    "# A square\n",
    "ned.forward(90)\n",
    "ned.left(90)\n",
    "ned.forward(90)\n",
    "ned.left(90)\n",
    "ned.forward(90)\n",
    "ned.left(90)\n",
    "ned.forward(90)\n",
    "ned.left(90)"
   ]
  },
  {
   "cell_type": "code",
   "execution_count": 22,
   "metadata": {
    "collapsed": true
   },
   "outputs": [],
   "source": [
    "ned.home()\n",
    "ned.clear()\n",
    "\n",
    "# A triangle\n",
    "ned.forward(90)\n",
    "ned.left(120)\n",
    "ned.forward(90)\n",
    "ned.left(120)\n",
    "ned.forward(90)\n",
    "ned.left(120)"
   ]
  },
  {
   "cell_type": "code",
   "execution_count": 28,
   "metadata": {
    "collapsed": false
   },
   "outputs": [],
   "source": [
    "ned.home()\n",
    "ned.clear()\n",
    "\n",
    "# loop variable\n",
    "a = 0\n",
    "\n",
    "while a < 4:\n",
    "    # A square\n",
    "    ned.forward(90)\n",
    "    ned.left(90)\n",
    "    a = a + 1\n",
    "    "
   ]
  },
  {
   "cell_type": "code",
   "execution_count": 32,
   "metadata": {
    "collapsed": true
   },
   "outputs": [],
   "source": [
    "# Draw an \"n\" sided regular polygon\n",
    "\n",
    "# Number of sides\n",
    "n = 7\n",
    "\n",
    "# The angle between sides\n",
    "angle = 360.0/n\n",
    "\n",
    "# The length of each side\n",
    "length = 30\n",
    "\n",
    "# Clean up ned's dirty stuff from before\n",
    "ned.home()\n",
    "ned.clear()\n",
    "\n",
    "# Loop variable\n",
    "i = 0\n",
    "\n",
    "while i < n:\n",
    "    ned.forward(length)\n",
    "    ned.left(angle)\n",
    "    i = i + 1\n"
   ]
  },
  {
   "cell_type": "code",
   "execution_count": 58,
   "metadata": {
    "collapsed": false
   },
   "outputs": [],
   "source": [
    "# The number of sides\n",
    "n = 6\n",
    "\n",
    "# The number of shapes to be drawn\n",
    "m = 30\n",
    "\n",
    "# The length of a side\n",
    "length = 30\n",
    "\n",
    "# The angle ned needs to turn inside each shape\n",
    "angle = 360.0/n\n",
    "\n",
    "# The angle ned needs to turn between each shape\n",
    "angle2 = 360.0/m\n",
    "\n",
    "# Clean up old ned stuff\n",
    "ned.home()\n",
    "ned.clear()\n",
    "ned.showturtle()\n",
    "\n",
    "window.bgcolor(\"blue\")\n",
    "ned.pensize(1)\n",
    "ned.pencolor(\"red\")\n",
    "\n",
    "# Our loop\n",
    "i = 0\n",
    "while i < m:\n",
    "    \n",
    "    # Second loop variable\n",
    "    j = 0\n",
    "    \n",
    "    while j < n:\n",
    "        ned.forward(length)\n",
    "        ned.left(angle)\n",
    "        j = j + 1\n",
    "        \n",
    "    ned.left(angle2)\n",
    "    i = i + 1\n",
    "    \n",
    "ned.hideturtle()"
   ]
  },
  {
   "cell_type": "code",
   "execution_count": 61,
   "metadata": {
    "collapsed": true
   },
   "outputs": [],
   "source": [
    "ned.home()\n",
    "ned.clear()\n",
    "window.bgcolor(\"white\")\n",
    "ned.showturtle()\n",
    "ned.pencolor(\"black\")"
   ]
  },
  {
   "cell_type": "code",
   "execution_count": 62,
   "metadata": {
    "collapsed": true
   },
   "outputs": [],
   "source": [
    "ned.penup()"
   ]
  },
  {
   "cell_type": "code",
   "execution_count": 63,
   "metadata": {
    "collapsed": true
   },
   "outputs": [],
   "source": [
    "ned.forward(90)"
   ]
  },
  {
   "cell_type": "code",
   "execution_count": 64,
   "metadata": {
    "collapsed": true
   },
   "outputs": [],
   "source": [
    "ned.pendown()"
   ]
  },
  {
   "cell_type": "code",
   "execution_count": 65,
   "metadata": {
    "collapsed": true
   },
   "outputs": [],
   "source": [
    "ned.left(90)\n",
    "ned.forward(90)"
   ]
  },
  {
   "cell_type": "code",
   "execution_count": 66,
   "metadata": {
    "collapsed": true
   },
   "outputs": [],
   "source": [
    "ned.forward (90)"
   ]
  },
  {
   "cell_type": "code",
   "execution_count": 67,
   "metadata": {
    "collapsed": true
   },
   "outputs": [],
   "source": [
    "window.bye()"
   ]
  },
  {
   "cell_type": "code",
   "execution_count": null,
   "metadata": {
    "collapsed": true
   },
   "outputs": [],
   "source": []
  }
 ],
 "metadata": {
  "kernelspec": {
   "display_name": "Python 2",
   "language": "python",
   "name": "python2"
  },
  "language_info": {
   "codemirror_mode": {
    "name": "ipython",
    "version": 2
   },
   "file_extension": ".py",
   "mimetype": "text/x-python",
   "name": "python",
   "nbconvert_exporter": "python",
   "pygments_lexer": "ipython2",
   "version": "2.7.11"
  }
 },
 "nbformat": 4,
 "nbformat_minor": 0
}
