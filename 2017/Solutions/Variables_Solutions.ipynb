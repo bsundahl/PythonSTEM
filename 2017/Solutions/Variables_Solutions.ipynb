{
 "cells": [
  {
   "cell_type": "markdown",
   "metadata": {},
   "source": [
    "# Variables"
   ]
  },
  {
   "cell_type": "markdown",
   "metadata": {
    "collapsed": true
   },
   "source": [
    "## Practice Problems"
   ]
  },
  {
   "cell_type": "markdown",
   "metadata": {},
   "source": [
    "Write a cell that creates an integer variable with value between 10 and 99. Then add 10 to the variable. Then print the variable"
   ]
  },
  {
   "cell_type": "code",
   "execution_count": 14,
   "metadata": {
    "collapsed": false
   },
   "outputs": [
    {
     "name": "stdout",
     "output_type": "stream",
     "text": [
      "67\n"
     ]
    }
   ],
   "source": [
    "a = 57\n",
    "a = a + 10\n",
    "print a"
   ]
  },
  {
   "cell_type": "markdown",
   "metadata": {},
   "source": [
    "Write a cell that creates an integer variable with value between 10 and 99. Then have that cell print the quotient and remainder of that integer resulting from division by 7."
   ]
  },
  {
   "cell_type": "code",
   "execution_count": 15,
   "metadata": {
    "collapsed": false
   },
   "outputs": [
    {
     "name": "stdout",
     "output_type": "stream",
     "text": [
      "quotient:  6\n",
      "remainder:  2\n"
     ]
    }
   ],
   "source": [
    "b = 44\n",
    "print \"quotient: \", b/7\n",
    "print \"remainder: \", b%7"
   ]
  },
  {
   "cell_type": "markdown",
   "metadata": {},
   "source": [
    "Write a cell that creates a variable and assign to it a string containing your name (e.g. \"Joel\"). Print this string twice."
   ]
  },
  {
   "cell_type": "code",
   "execution_count": 16,
   "metadata": {
    "collapsed": false
   },
   "outputs": [
    {
     "name": "stdout",
     "output_type": "stream",
     "text": [
      "Nick\n",
      "Nick\n"
     ]
    }
   ],
   "source": [
    "c = \"Nick\"\n",
    "print c\n",
    "print c"
   ]
  },
  {
   "cell_type": "markdown",
   "metadata": {},
   "source": [
    "Write a cell that creates two variables, and assign each variable to a string containing an animal (e.g. \"cat\" or \"dog\"). Add these two strings together and print the result."
   ]
  },
  {
   "cell_type": "code",
   "execution_count": 17,
   "metadata": {
    "collapsed": false
   },
   "outputs": [
    {
     "name": "stdout",
     "output_type": "stream",
     "text": [
      "catdog\n"
     ]
    }
   ],
   "source": [
    "one = \"cat\"\n",
    "two = \"dog\"\n",
    "\n",
    "print one+two"
   ]
  },
  {
   "cell_type": "markdown",
   "metadata": {},
   "source": [
    "## Advanced Problems "
   ]
  },
  {
   "cell_type": "markdown",
   "metadata": {},
   "source": [
    "Write a notebook cell that has two variables A and B (booleans). Write a print statement that returns the \"exclusive or\" for these two variables.\n",
    "\n",
    "An \"exclusive or\" returns true if only one of A and B is true, and false if A and B are either both true and both false. The following table summarizes this.\n",
    "\n",
    "$$\n",
    "\\begin{array}{c | c | c}\n",
    "   A & B & Answer \\\\\n",
    "   \\hline\n",
    "   T & T & F \\\\\n",
    "   T & F & T \\\\\n",
    "   F & T & T \\\\\n",
    "   F & F & F\n",
    "\\end{array}\n",
    "$$"
   ]
  },
  {
   "cell_type": "code",
   "execution_count": 18,
   "metadata": {
    "collapsed": false
   },
   "outputs": [
    {
     "name": "stdout",
     "output_type": "stream",
     "text": [
      "False\n"
     ]
    }
   ],
   "source": [
    "A = True\n",
    "B = True\n",
    "\n",
    "print (A or B) and not (A and B)"
   ]
  },
  {
   "cell_type": "markdown",
   "metadata": {},
   "source": [
    "Write a cell that saves a number to a variable num_minutes. Then convert that number to be read in days:hours:minutes and print this to the screen. The following table gives you some inputs with the correct outputs so you can test your code's accuracy.\n",
    "\n",
    "$$\n",
    "\\begin{array}{c | c}\n",
    "   Input & Answer \\\\\n",
    "   \\hline\n",
    "   43 & 0 : 0 : 43 \\\\\n",
    "   432 & 0 : 7 : 12 \\\\\n",
    "   4321 & 3 : 0 : 1 \\\\\n",
    "   43219 & 30 : 0 : 19\n",
    "\\end{array}\n",
    "$$"
   ]
  },
  {
   "cell_type": "code",
   "execution_count": 19,
   "metadata": {
    "collapsed": false
   },
   "outputs": [
    {
     "name": "stdout",
     "output_type": "stream",
     "text": [
      "30 : 0 : 19\n"
     ]
    }
   ],
   "source": [
    "num_minutes = 43219\n",
    "\n",
    "#create variables to hold the number of days and hours\n",
    "#leftover minutes will be contained in num_minutes at the end of this\n",
    "#so there's no need for a minutes variable\n",
    "days = 0\n",
    "hours = 0\n",
    "\n",
    "\n",
    "days = num_minutes/(60*24) #find out how many days it is\n",
    "num_minutes = num_minutes % (60*24) #find out how many minutes remain\n",
    "\n",
    "hours = num_minutes/(60)\n",
    "num_minutes = num_minutes % 60\n",
    "    \n",
    "print days, \":\", hours , \":\" , num_minutes"
   ]
  }
 ],
 "metadata": {
  "kernelspec": {
   "display_name": "Python 2",
   "language": "python",
   "name": "python2"
  },
  "language_info": {
   "codemirror_mode": {
    "name": "ipython",
    "version": 2
   },
   "file_extension": ".py",
   "mimetype": "text/x-python",
   "name": "python",
   "nbconvert_exporter": "python",
   "pygments_lexer": "ipython2",
   "version": "2.7.11"
  }
 },
 "nbformat": 4,
 "nbformat_minor": 0
}
