{
 "cells": [
  {
   "cell_type": "markdown",
   "metadata": {},
   "source": [
    "# Molecular Dynamics with Tkinter "
   ]
  },
  {
   "cell_type": "code",
   "execution_count": 1,
   "metadata": {
    "collapsed": true
   },
   "outputs": [],
   "source": [
    "import Tkinter as tk\n",
    "import random\n",
    "import math"
   ]
  },
  {
   "cell_type": "code",
   "execution_count": 2,
   "metadata": {
    "collapsed": true
   },
   "outputs": [],
   "source": [
    "# This adds in a way to draw a circle in a much more\n",
    "# intuitive way\n",
    "def _create_circle(self, x, y, r, **kwargs):\n",
    "    return self.create_oval(x-r, y-r, x+r, y+r, **kwargs)\n",
    "tk.Canvas.create_circle = _create_circle"
   ]
  },
  {
   "cell_type": "code",
   "execution_count": 3,
   "metadata": {
    "collapsed": true
   },
   "outputs": [],
   "source": [
    "def distance(atom1, atom2):   \n",
    "    '''\n",
    "        Inputs are the positions of each atom, \n",
    "        which contain (x,y) coordinate pairs.\n",
    "           \n",
    "        Distance formula is:\n",
    "        distance = sqrt((x1-x2)^2 + (y1-y2)^2)\n",
    "    '''\n",
    "    # Lets get the coordinates of atom1\n",
    "    x1 = atom1[0]\n",
    "    y1 = atom1[1]\n",
    "        \n",
    "    # Lets get the coordinates of atom2\n",
    "    x2 = atom2[0]\n",
    "    y2 = atom2[1]\n",
    "        \n",
    "    # Lets calculate the distance\n",
    "    d = math.sqrt((x1-x2)**2 + (y1-y2)**2)\n",
    "    \n",
    "    # And lets return our distance\n",
    "    return d"
   ]
  },
  {
   "cell_type": "code",
   "execution_count": null,
   "metadata": {
    "collapsed": true
   },
   "outputs": [],
   "source": [
    "def initialize_atoms(num_atoms,\n",
    "                     atom_radius,\n",
    "                     width,\n",
    "                     height,\n",
    "                     positions,\n",
    "                     canvas):\n",
    "    '''\n",
    "        Function to initialize all of our atoms in a smart way \n",
    "        (not on top of each other). \n",
    "    '''\n",
    "    # Loop over each atom\n",
    "    for i in range(num_atoms):\n",
    "        # Creating a random location for the atom\n",
    "        # We are using the 0.2-0.8 to make sure we're not on the edge\n",
    "        x = random.uniform(0.2,0.8) * width\n",
    "        y = random.uniform(0.2,0.8) * height\n",
    "            \n",
    "        # Creating a random color for the atom\n",
    "        color = random.randint(0, 68719476736)\n",
    "        color = \"#\" + hex(color)[2:].zfill(9)\n",
    "            \n",
    "        # Save locations inside the list of atoms\n",
    "        positions.append([x,y])\n",
    "            \n",
    "        # Lets make sure this atom isn't on top of another atom\n",
    "        # Lets get the minimum distance to all other atoms\n",
    "        d = 1000000.0\n",
    "        for j in range(0,i):\n",
    "            d = min(d, distance(positions[i],positions[j]))\n",
    "            \n",
    "        # Check if we're too close\n",
    "        while d < 2.0*atom_radius:    \n",
    "            # Reset d\n",
    "            d = 1000000.0\n",
    "        \n",
    "            # Choose a new random spot and remeasure\n",
    "            x = random.uniform(0.2,0.8) * width \n",
    "            y = random.uniform(0.2,0.8) * height\n",
    "                \n",
    "            # Move the atom\n",
    "            positions[i] = [x,y]\n",
    "                \n",
    "            # Recalculate the distance\n",
    "            for j in range(0,i):\n",
    "                d = min(d, distance(positions[i],positions[j]))\n",
    "                    \n",
    "        # We now know that the location is safe,\n",
    "        # so lets draw the atom\n",
    "        atoms.append(canvas.create_circle(x,\n",
    "                                          y,\n",
    "                                          atom_radius,\n",
    "                                          fill=color,\n",
    "                                          outline=\"\"))\n",
    "\n"
   ]
  },
  {
   "cell_type": "code",
   "execution_count": null,
   "metadata": {
    "collapsed": true
   },
   "outputs": [],
   "source": [
    "    def initialize_velocities(self):\n",
    "        '''\n",
    "           Intializes a list with num_atoms number of \n",
    "           velocities, chosen uniformly from the range\n",
    "           of [-20, 20].\n",
    "        '''\n",
    "        # Max velocity we want\n",
    "        max_velocity = 20.0\n",
    "\n",
    "        # Now loop over the number of atoms\n",
    "        for i in range(self.num_atoms):\n",
    "            # Stored as [x_vel, y_vel] pair\n",
    "            self.velocities.append([random.uniform(-1,1)*max_velocity, \n",
    "                                    random.uniform(-1,1)*max_velocity])"
   ]
  },
  {
   "cell_type": "code",
   "execution_count": 4,
   "metadata": {
    "collapsed": true
   },
   "outputs": [],
   "source": [
    "# Window size we want\n",
    "width = 500\n",
    "height = 500\n",
    "\n",
    "# Boiler plate stuff we need to initialize a window\n",
    "root = tk.Tk()\n",
    "root.wm_title(\"Molecular Dynamics with Tkinter\")\n",
    "canvas = tk.Canvas(root, width=width, height=height)\n",
    "canvas.pack()\n",
    "        \n",
    "# Variables we want everyone to have\n",
    "num_atoms = 10\n",
    "atom_radius = 20\n",
    "atoms = []\n",
    "positions = []\n",
    "positions = []\n",
    "velocities = []\n",
    "num_steps = 10000\n",
    "dt = 0.1"
   ]
  },
  {
   "cell_type": "code",
   "execution_count": null,
   "metadata": {
    "collapsed": true
   },
   "outputs": [],
   "source": []
  }
 ],
 "metadata": {
  "kernelspec": {
   "display_name": "Python 2",
   "language": "python",
   "name": "python2"
  },
  "language_info": {
   "codemirror_mode": {
    "name": "ipython",
    "version": 2
   },
   "file_extension": ".py",
   "mimetype": "text/x-python",
   "name": "python",
   "nbconvert_exporter": "python",
   "pygments_lexer": "ipython2",
   "version": "2.7.13"
  }
 },
 "nbformat": 4,
 "nbformat_minor": 0
}
