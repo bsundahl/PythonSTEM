{
 "cells": [
  {
   "cell_type": "markdown",
   "metadata": {},
   "source": [
    "# Molecular Dynamics 2 "
   ]
  },
  {
   "cell_type": "markdown",
   "metadata": {},
   "source": [
    "Ok, now we want to enforce a boundary, and have the atom \"bounce off\" our bondary wall. So we need to know the size of our window, and do handle the event of the atom hitting the wall.  \n",
    "  \n",
    "So lets restart all of our previous turtle things to get window set up."
   ]
  },
  {
   "cell_type": "code",
   "execution_count": 1,
   "metadata": {
    "collapsed": true
   },
   "outputs": [],
   "source": [
    "import turtle"
   ]
  },
  {
   "cell_type": "markdown",
   "metadata": {},
   "source": [
    "Now lets get our back drop set up."
   ]
  },
  {
   "cell_type": "code",
   "execution_count": 2,
   "metadata": {
    "collapsed": false
   },
   "outputs": [],
   "source": [
    "window = turtle.Screen()\n",
    "window.title('Molecular Dynamics 2')\n",
    "window.clear()"
   ]
  },
  {
   "cell_type": "markdown",
   "metadata": {},
   "source": [
    "Lets see how big our window is, which will tell us where the boundaries are."
   ]
  },
  {
   "cell_type": "code",
   "execution_count": 3,
   "metadata": {
    "collapsed": false
   },
   "outputs": [],
   "source": [
    "# We will want to store these numbers in a variable\n",
    "height = window.window_height()\n",
    "width = window.window_width()"
   ]
  },
  {
   "cell_type": "markdown",
   "metadata": {},
   "source": [
    "Lets check and see what we have here."
   ]
  },
  {
   "cell_type": "code",
   "execution_count": 4,
   "metadata": {
    "collapsed": false
   },
   "outputs": [
    {
     "name": "stdout",
     "output_type": "stream",
     "text": [
      "810\n",
      "960\n"
     ]
    }
   ],
   "source": [
    "print height\n",
    "print width"
   ]
  },
  {
   "cell_type": "markdown",
   "metadata": {},
   "source": [
    "Now we have our window, lets make a turtle to draw our atoms."
   ]
  },
  {
   "cell_type": "code",
   "execution_count": 5,
   "metadata": {
    "collapsed": false
   },
   "outputs": [],
   "source": [
    "atom = turtle.Turtle()"
   ]
  },
  {
   "cell_type": "markdown",
   "metadata": {},
   "source": [
    "Now lets draw our atom as a sphere with a fixed radius and color."
   ]
  },
  {
   "cell_type": "code",
   "execution_count": 6,
   "metadata": {
    "collapsed": false
   },
   "outputs": [],
   "source": [
    "# Variables to hold things we want to be constant\n",
    "atom_radius = 50\n",
    "atom_color = \"red\"\n",
    "\n",
    "# The actual turtle to draw, in the proper shape\n",
    "atom.shape('circle')\n",
    "atom.shapesize(atom_radius/10.0)\n",
    "atom.color(atom_color)\n",
    "atom.penup()"
   ]
  },
  {
   "cell_type": "markdown",
   "metadata": {},
   "source": [
    "Alright, now lets reuse the same loop we used last time, but with some modifications."
   ]
  },
  {
   "cell_type": "code",
   "execution_count": 7,
   "metadata": {
    "collapsed": false
   },
   "outputs": [],
   "source": [
    "# First reset it\n",
    "atom.home()\n",
    "atom.clear()\n",
    "\n",
    "# Initial velocities in x and y diretions\n",
    "x_vel = 20\n",
    "y_vel = -10\n",
    "\n",
    "# The amount of time each iteration moves us forward\n",
    "dt = 1\n",
    "\n",
    "# Max number of steps\n",
    "max_steps = 1000\n",
    "\n",
    "for i in range(max_steps):\n",
    "    \n",
    "    # Get the current position of the atom\n",
    "    (x,y) = atom.pos()\n",
    "    \n",
    "    #print x, y\n",
    "    \n",
    "    # Check if moving left or right will put our atom beyond the wall\n",
    "    if abs(x + dt * x_vel) >= width/2.0 - atom_radius:\n",
    "        \n",
    "        # We have moved too far right or left, so flip the x_vel\n",
    "        x_vel = -x_vel           \n",
    "    \n",
    "    # Check if moving up or down will put our atom beyond the wall\n",
    "    if abs(y + dt * y_vel) >= height/2.0 - atom_radius:\n",
    "        \n",
    "        # We have moved too far up or down, so flip the y_vel\n",
    "        y_vel = -y_vel\n",
    "        \n",
    "    # We won't move out of the box, so update the new position\n",
    "    atom.goto(x + dt*x_vel, y + dt*y_vel)\n",
    "    "
   ]
  },
  {
   "cell_type": "markdown",
   "metadata": {},
   "source": [
    "It works!"
   ]
  },
  {
   "cell_type": "code",
   "execution_count": 8,
   "metadata": {
    "collapsed": true
   },
   "outputs": [],
   "source": [
    "window.bye()"
   ]
  },
  {
   "cell_type": "code",
   "execution_count": null,
   "metadata": {
    "collapsed": true
   },
   "outputs": [],
   "source": []
  }
 ],
 "metadata": {
  "kernelspec": {
   "display_name": "Python 2",
   "language": "python",
   "name": "python2"
  },
  "language_info": {
   "codemirror_mode": {
    "name": "ipython",
    "version": 2
   },
   "file_extension": ".py",
   "mimetype": "text/x-python",
   "name": "python",
   "nbconvert_exporter": "python",
   "pygments_lexer": "ipython2",
   "version": "2.7.11"
  }
 },
 "nbformat": 4,
 "nbformat_minor": 0
}
