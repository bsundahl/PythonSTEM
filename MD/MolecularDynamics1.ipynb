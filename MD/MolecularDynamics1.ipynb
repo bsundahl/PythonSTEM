{
 "cells": [
  {
   "cell_type": "markdown",
   "metadata": {},
   "source": [
    "# Molecular Dynamics 1 "
   ]
  },
  {
   "cell_type": "markdown",
   "metadata": {},
   "source": [
    "Believe it or not, we now know enough to do some really cool things. Science-y things. Things like molecular dynamics!\n",
    "\n",
    "So we're all going to spend some time creating a working molecular dynamics code, in 2 dimensions. We'll even animate it using Turtles so we can see our molecules bounce around and interact!  \n",
    "  \n",
    "But we need to take baby steps, not because you're new to programming but because its a good problem solving strategy. So our first step will be to take a atom (IE: a ball) and move it. We will animate this using the Turtle library we introduced in Day 1. So we need to import the turtles library."
   ]
  },
  {
   "cell_type": "code",
   "execution_count": 1,
   "metadata": {
    "collapsed": true
   },
   "outputs": [],
   "source": [
    "import turtle"
   ]
  },
  {
   "cell_type": "markdown",
   "metadata": {},
   "source": [
    "Now lets write a function to get our back drop set up."
   ]
  },
  {
   "cell_type": "code",
   "execution_count": 2,
   "metadata": {
    "collapsed": false
   },
   "outputs": [],
   "source": [
    "def initialize_window():\n",
    "    # Create the object with desired properties\n",
    "    window = turtle.Screen()\n",
    "    window.title('Molecular Dynamics 1')\n",
    "    window.clear()\n",
    "    \n",
    "    # All done! So return our new window\n",
    "    return window"
   ]
  },
  {
   "cell_type": "markdown",
   "metadata": {},
   "source": [
    "Now we can create our window. Lets write a function clean up our window (since we're all responsible programmers.)"
   ]
  },
  {
   "cell_type": "code",
   "execution_count": 3,
   "metadata": {
    "collapsed": true
   },
   "outputs": [],
   "source": [
    "# We need to specify which window to close, so lets\n",
    "# pass the window we want to close to this function\n",
    "# as an input parameter\n",
    "def clean_up(window):\n",
    "    window.bye()"
   ]
  },
  {
   "cell_type": "code",
   "execution_count": 4,
   "metadata": {
    "collapsed": false
   },
   "outputs": [],
   "source": [
    "def initialize_atom():\n",
    "    # Variables to hold things we want to be constant\n",
    "    atom_radius = 50\n",
    "    atom_color = \"red\"\n",
    "    \n",
    "    # We need to use the turtle library to create the atom\n",
    "    atom = turtle.Turtle()\n",
    "\n",
    "    # The actual turtle to draw, in the proper shape\n",
    "    atom.shape('circle')\n",
    "    atom.shapesize(atom_radius/10.0) # We do this to correct for a unit \n",
    "                                     # mismatch. This makes thing act\n",
    "                                     # more like you expect\n",
    "    atom.color(atom_color)\n",
    "    atom.penup()\n",
    "    \n",
    "    # All done! So return our new atom\n",
    "    return atom\n",
    "    \n",
    "    "
   ]
  },
  {
   "cell_type": "markdown",
   "metadata": {},
   "source": [
    "Awesome, we can now make an atom on our screen. And now we need a clean up function for the atom."
   ]
  },
  {
   "cell_type": "code",
   "execution_count": 5,
   "metadata": {
    "collapsed": true
   },
   "outputs": [],
   "source": [
    "# We need to specify which atom to delete, so lets\n",
    "# pass the atom we want to delete to this function\n",
    "# as an input parameter\n",
    "def clean_up(atom):\n",
    "    del atom"
   ]
  },
  {
   "cell_type": "markdown",
   "metadata": {},
   "source": [
    "Now lets test our functions!"
   ]
  },
  {
   "cell_type": "code",
   "execution_count": 6,
   "metadata": {
    "collapsed": false
   },
   "outputs": [],
   "source": [
    "# Need the window created first\n",
    "window = initialize_window()"
   ]
  },
  {
   "cell_type": "code",
   "execution_count": 7,
   "metadata": {
    "collapsed": true
   },
   "outputs": [],
   "source": [
    "# Now to draw an atom\n",
    "atom = initialize_atom()"
   ]
  },
  {
   "cell_type": "markdown",
   "metadata": {},
   "source": [
    "Cool. We have a window and an atom in it. So how do we start to simulate the atom moving? Lets start with some basic movements. Lets start with some basic movement using the \"goto\" command."
   ]
  },
  {
   "cell_type": "code",
   "execution_count": 8,
   "metadata": {
    "collapsed": false
   },
   "outputs": [],
   "source": [
    "atom.goto(50,0)"
   ]
  },
  {
   "cell_type": "code",
   "execution_count": 9,
   "metadata": {
    "collapsed": true
   },
   "outputs": [],
   "source": [
    "atom.goto(100,50)"
   ]
  },
  {
   "cell_type": "code",
   "execution_count": 10,
   "metadata": {
    "collapsed": true
   },
   "outputs": [],
   "source": [
    "# Lets delete the atom\n",
    "clean_up(atom)\n",
    "\n",
    "# Now lets test our clean up function\n",
    "clean_up(window)"
   ]
  },
  {
   "cell_type": "markdown",
   "metadata": {},
   "source": [
    "Ok, we seem to be able to move it with single commands. Lets write a function to move it in a loop."
   ]
  },
  {
   "cell_type": "code",
   "execution_count": 11,
   "metadata": {
    "collapsed": false
   },
   "outputs": [],
   "source": [
    "def motion(atom, window):\n",
    "    #\n",
    "    # Input parameters:\n",
    "    #\n",
    "    #   atom - the turtle object to be moved\n",
    "    #   window - the window to move the turtle object in\n",
    "    #     \n",
    "    \n",
    "    # First reset it\n",
    "    atom.home()\n",
    "\n",
    "    # Lets set our initial velocity with\n",
    "    # the understanding that positive velocity\n",
    "    # moves the atom in the right or up \n",
    "    # directions.\n",
    "    velocity = 10\n",
    "\n",
    "    # The amount of time each iteration moves us forward\n",
    "    dt = 1\n",
    "\n",
    "    for i in range(100):\n",
    "    \n",
    "        # Get the current position of the atom\n",
    "        (x,y) = atom.pos()\n",
    "    \n",
    "        # Just to see whats going on\n",
    "        print x, y\n",
    "    \n",
    "        # Move our atom\n",
    "        atom.goto(x + dt*velocity, 0)"
   ]
  },
  {
   "cell_type": "markdown",
   "metadata": {},
   "source": [
    "And now lets test everthing!"
   ]
  },
  {
   "cell_type": "code",
   "execution_count": 12,
   "metadata": {
    "collapsed": false
   },
   "outputs": [],
   "source": [
    "window = initialize_window()\n",
    "atom = initialize_atom()"
   ]
  },
  {
   "cell_type": "code",
   "execution_count": 13,
   "metadata": {
    "collapsed": false,
    "scrolled": true
   },
   "outputs": [
    {
     "name": "stdout",
     "output_type": "stream",
     "text": [
      "0 0\n",
      "10 0\n",
      "20 0\n",
      "30 0\n",
      "40 0\n",
      "50 0\n",
      "60 0\n",
      "70 0\n",
      "80 0\n",
      "90 0\n",
      "100 0\n",
      "110 0\n",
      "120 0\n",
      "130 0\n",
      "140 0\n",
      "150 0\n",
      "160 0\n",
      "170 0\n",
      "180 0\n",
      "190 0\n",
      "200 0\n",
      "210 0\n",
      "220 0\n",
      "230 0\n",
      "240 0\n",
      "250 0\n",
      "260 0\n",
      "270 0\n",
      "280 0\n",
      "290 0\n",
      "300 0\n",
      "310 0\n",
      "320 0\n",
      "330 0\n",
      "340 0\n",
      "350 0\n",
      "360 0\n",
      "370 0\n",
      "380 0\n",
      "390 0\n",
      "400 0\n",
      "410 0\n",
      "420 0\n",
      "430 0\n",
      "440 0\n",
      "450 0\n",
      "460 0\n",
      "470 0\n",
      "480 0\n",
      "490 0\n",
      "500 0\n",
      "510 0\n",
      "520 0\n",
      "530 0\n",
      "540 0\n",
      "550 0\n",
      "560 0\n",
      "570 0\n",
      "580 0\n",
      "590 0\n",
      "600 0\n",
      "610 0\n",
      "620 0\n",
      "630 0\n",
      "640 0\n",
      "650 0\n",
      "660 0\n",
      "670 0\n",
      "680 0\n",
      "690 0\n",
      "700 0\n",
      "710 0\n",
      "720 0\n",
      "730 0\n",
      "740 0\n",
      "750 0\n",
      "760 0\n",
      "770 0\n",
      "780 0\n",
      "790 0\n",
      "800 0\n",
      "810 0\n",
      "820 0\n",
      "830 0\n",
      "840 0\n",
      "850 0\n",
      "860 0\n",
      "870 0\n",
      "880 0\n",
      "890 0\n",
      "900 0\n",
      "910 0\n",
      "920 0\n",
      "930 0\n",
      "940 0\n",
      "950 0\n",
      "960 0\n",
      "970 0\n",
      "980 0\n",
      "990 0\n"
     ]
    }
   ],
   "source": [
    "motion(atom, window)"
   ]
  },
  {
   "cell_type": "markdown",
   "metadata": {},
   "source": [
    "It works! But we quickly lost our atom. Thats because we didn't force our atom to interact with out screen, so he just floated off."
   ]
  },
  {
   "cell_type": "code",
   "execution_count": null,
   "metadata": {
    "collapsed": true
   },
   "outputs": [],
   "source": []
  }
 ],
 "metadata": {
  "kernelspec": {
   "display_name": "Python 2",
   "language": "python",
   "name": "python2"
  },
  "language_info": {
   "codemirror_mode": {
    "name": "ipython",
    "version": 2
   },
   "file_extension": ".py",
   "mimetype": "text/x-python",
   "name": "python",
   "nbconvert_exporter": "python",
   "pygments_lexer": "ipython2",
   "version": "2.7.11"
  }
 },
 "nbformat": 4,
 "nbformat_minor": 0
}
