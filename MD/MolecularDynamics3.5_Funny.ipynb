{
 "cells": [
  {
   "cell_type": "markdown",
   "metadata": {},
   "source": [
    "# Molecular Dynamics 3.5 "
   ]
  },
  {
   "cell_type": "markdown",
   "metadata": {},
   "source": [
    "Now that we have a code with multiple \"atoms,\" let's have them interact with each other. One simple and intuitive interaction is a hard-sphere (perfectly elastic) collision. Let's do this."
   ]
  },
  {
   "cell_type": "markdown",
   "metadata": {},
   "source": [
    "The initial set-up is the same as before:"
   ]
  },
  {
   "cell_type": "code",
   "execution_count": 1,
   "metadata": {
    "collapsed": true
   },
   "outputs": [],
   "source": [
    "import turtle\n",
    "import random\n",
    "import math"
   ]
  },
  {
   "cell_type": "code",
   "execution_count": 2,
   "metadata": {
    "collapsed": true
   },
   "outputs": [],
   "source": [
    "random.seed()"
   ]
  },
  {
   "cell_type": "code",
   "execution_count": 3,
   "metadata": {
    "collapsed": false
   },
   "outputs": [],
   "source": [
    "window = turtle.Screen()\n",
    "window.title('Molecular Dynamics 3.5')\n",
    "window.clear()"
   ]
  },
  {
   "cell_type": "code",
   "execution_count": 4,
   "metadata": {
    "collapsed": false
   },
   "outputs": [],
   "source": [
    "# We will want to store these numbers in a variable\n",
    "height = window.window_height()\n",
    "width = window.window_width()"
   ]
  },
  {
   "cell_type": "code",
   "execution_count": 5,
   "metadata": {
    "collapsed": false
   },
   "outputs": [],
   "source": [
    "# Number of atoms we want\n",
    "num_atoms = 20\n",
    "\n",
    "# This initializes an empty list\n",
    "atoms = []\n",
    "\n",
    "# Now use a loop to initialize a new atom\n",
    "# and do it num_atoms times.\n",
    "for i in range(num_atoms):\n",
    "    atoms.append(turtle.Turtle())"
   ]
  },
  {
   "cell_type": "code",
   "execution_count": 6,
   "metadata": {
    "collapsed": true
   },
   "outputs": [],
   "source": [
    "# Max velocity we want\n",
    "max_velocity = 80.0\n",
    "\n",
    "# Initailize an empty list\n",
    "vel = []\n",
    "\n",
    "# Now loop over the number of atoms\n",
    "for i in range(num_atoms):\n",
    "    vel.append([random.uniform(-1,1)*max_velocity, random.uniform(-1,1)*max_velocity])"
   ]
  },
  {
   "cell_type": "markdown",
   "metadata": {},
   "source": [
    "OK, now that that's out of the way, let's put in some new stuff that allows us to have our atoms interact. First, we need a function that calculates the distance between our two atoms. We'll use the well-known distance formula and the positions of the center of each atom.\n",
    "\n",
    "Below is a function that takes two atoms as inputs and returns the distance between the two centers."
   ]
  },
  {
   "cell_type": "code",
   "execution_count": 7,
   "metadata": {
    "collapsed": true
   },
   "outputs": [],
   "source": [
    "# Lets name our function\n",
    "def distance(atom1, atom2):\n",
    "    \n",
    "    # Inputs are the atoms, which contain\n",
    "    # (x,y) coordinate pairs.\n",
    "    # Distance is sqrt((x1-x2)^2 + (y1-y2)^2)\n",
    "    \n",
    "    # Lets get the coordinates of atom1\n",
    "    (x1,y1) = atom1.pos()\n",
    "    \n",
    "    # Lets get the coordinates of atom2\n",
    "    (x2,y2) = atom2.pos()\n",
    "\n",
    "    # Lets calculate the distance\n",
    "    d = math.sqrt((x1-x2)**2 + (y1-y2)**2)\n",
    "    \n",
    "    # And lets return our distance\n",
    "    return d\n",
    "    "
   ]
  },
  {
   "cell_type": "markdown",
   "metadata": {},
   "source": [
    "The cell below is similar to one we've seen before. It gives the atoms random positions on the screen. However, there's an important modification we've had to make. If the atoms are hard spheres, it doesn't make sense for them to be on top of each other. Therefore, as we position the atoms, we need to check to make sure they don't \"stack.\" Fortunately, we just wrote a distance function that we can use to check this."
   ]
  },
  {
   "cell_type": "code",
   "execution_count": 8,
   "metadata": {
    "collapsed": false
   },
   "outputs": [],
   "source": [
    "# Variables to hold things we want to be constant\n",
    "atom_radius = 20\n",
    "\n",
    "# Scaling factor here is so we don't get our \n",
    "# initial positions stuck on the edge.\n",
    "scaling_factor = 0.8\n",
    "\n",
    "# We need to loop over each atom.\n",
    "for i in range(num_atoms):\n",
    "   \n",
    "    # Draw the atom in the proper shape\n",
    "    atoms[i].shape('circle')\n",
    "    atoms[i].shapesize(atom_radius/10.0)\n",
    "    atoms[i].color((random.random(),random.random(),random.random()))\n",
    "    atoms[i].penup()\n",
    "    #The following line moves the atom to a random position on the screen.\n",
    "    atoms[i].goto(random.uniform(-1,1)*width/2.0 * scaling_factor, random.uniform(-1,1)*height/2.0 * scaling_factor)\n",
    "  \n",
    "    # Lets make sure this atom isn't on top of another atom\n",
    "    # Lets get the minimum distance to all other atoms\n",
    "    # It suffices to look at the distance to the closest atom.\n",
    "    # Let's call this distance d.\n",
    "    \n",
    "    d = 1000000.0 #Just initialize d to some big number\n",
    "    for j in range(0,i):\n",
    "        d = min(d, distance(atoms[i],atoms[j]))\n",
    "    \n",
    "    #Now, keep redrawing the atom until it's sufficiently far\n",
    "    #away from all other atoms. If it's already non-overlapping,\n",
    "    #this loop will never execute.\n",
    "    while d < 2.0*atom_radius:\n",
    "        # Reset d\n",
    "        d = 1000000.0\n",
    "        # Choose a new random spot\n",
    "        atoms[i].goto(random.uniform(-1,1)*width/2.0 * scaling_factor, \n",
    "                      random.uniform(-1,1)*height/2.0 * scaling_factor)\n",
    "        #recalculate d\n",
    "        for j in range(0,i):\n",
    "            d = min(d, distance(atoms[i],atoms[j]))\n",
    "        \n",
    "    # Turtles can be very slow. This is a semi-fix to tell\n",
    "    # turtles not to update the screen with every change,\n",
    "    # but rather wait till a set of updates are done and \n",
    "    # then update the screen.\n",
    "    atoms[i].tracer(0,0)\n",
    "    turtle.update()\n",
    "    "
   ]
  },
  {
   "cell_type": "markdown",
   "metadata": {},
   "source": [
    "Checking for a bounce is something that we're going to do a lot, so let's write a function that can do it for us. There are many ways to go about doing this. The one we wrote takes the lists of atoms (positions) and velocities. Using the position list, this first checks to see if any atoms have collided. If they have, it updates the velocities of the two colliding atoms."
   ]
  },
  {
   "cell_type": "code",
   "execution_count": 9,
   "metadata": {
    "collapsed": true
   },
   "outputs": [],
   "source": [
    "# Lets name our function\n",
    "def bounce_check(a_list, v_list):\n",
    "  \n",
    "    # This will help us not double count atoms\n",
    "    # We need to keep track of this index by hand\n",
    "    # because we are using a for loop later.\n",
    "    i = 1\n",
    "\n",
    "    # We need to check for every atom\n",
    "    # Using a for loop here isn't required, but it \n",
    "    # makes the code easier.\n",
    "    for atom1 in a_list:\n",
    "        \n",
    "        # This will help us not double count\n",
    "        # (same argument as above)\n",
    "        j = i\n",
    "        \n",
    "        # Compute the distance to every atom ahead of the current one\n",
    "        for atom2 in a_list[i:]:\n",
    "            \n",
    "            # We will need the distance, so store it\n",
    "            d = distance(atom1,atom2)\n",
    "            \n",
    "            # Check if a bounce should occur\n",
    "            if d < 2.0*atom_radius:\n",
    "                #print \"BOUNCE FOUND: Atom %d hit Atom %d\" % (i-1,j)\n",
    "                # We need positions of atoms\n",
    "                (x1,y1) = atom1.pos()\n",
    "                (x2,y2) = atom2.pos()\n",
    "                \n",
    "                # Now calculate the new velocities\n",
    "                # First, calculate the intermediate quantity (v2-v1).R (dot product)\n",
    "                inter = ((v_list[j][0]-v_list[i-1][0])*(x2-x1) + (v_list[j][1]-v_list[i-1][1])*(y2-y1))/(d**2)\n",
    "                #v1R = v_list[i-1][0]*(x1-x2) + v_list[i-1][1]*(y1-y2) #projection of first atom velocity onto R\n",
    "                #v2R = v_list[j][0]*(x1-x2) + v_list[j][1]*(y1-y2) #projection of 2nd atom velocity onto R\n",
    "                \n",
    "                # Update new velocities\n",
    "                v_list[i-1][0] = v_list[i-1][0] + inter * (x2-x1)\n",
    "                v_list[i-1][1] = v_list[i-1][1] + inter * (y2-y1)\n",
    "                v_list[j][0] = v_list[j][0] - inter * (x2-x1)\n",
    "                v_list[j][1] = v_list[j][1] - inter * (y2-y1)\n",
    "\n",
    "            # Update second counter\n",
    "            j = j + 1\n",
    "            \n",
    "        # Update counter\n",
    "        i = i + 1\n",
    "    \n",
    "    #return the list of new velocities\n",
    "    return v_list"
   ]
  },
  {
   "cell_type": "markdown",
   "metadata": {},
   "source": [
    "Now we're ready to simulate."
   ]
  },
  {
   "cell_type": "code",
   "execution_count": 10,
   "metadata": {
    "collapsed": false
   },
   "outputs": [],
   "source": [
    "# The amount of time each iteration moves us forward\n",
    "dt = 0.05\n",
    "\n",
    "# Max number of steps we want to take\n",
    "max_steps = 10000\n",
    "\n",
    "\n",
    "for step in range(max_steps):\n",
    "\n",
    "    # This for loop checks if we've hit a wall\n",
    "    for j in range(num_atoms):\n",
    "    \n",
    "        # Get the current position and velocity of the atom\n",
    "        vx,vy = vel[j]    \n",
    "        x,y = atoms[j].pos()\n",
    "    \n",
    "        # Check if moving left or right will put our atom beyond the wall\n",
    "        if abs(x + dt * vel[j][0]) >= width/2.0 - atom_radius:\n",
    "        \n",
    "            # We have moved too far right or left, so flip the x_vel\n",
    "            vel[j][0] = -vel[j][0]           \n",
    "    \n",
    "        # Check if moving up or down will put our atom beyond the wall\n",
    "        if abs(y + dt * vel[j][1]) >= height/2.0 - atom_radius:\n",
    "        \n",
    "            # We have moved too far up or down, so flip the y_vel\n",
    "            vel[j][1] = -vel[j][1]\n",
    "        \n",
    "    #Use our bounce_check function to update the velocities, if needed.\n",
    "    vel = bounce_check(atoms,vel)\n",
    "    \n",
    "    #Now that everything checks out, go ahead and move our atoms\n",
    "    for j in range(num_atoms):\n",
    "        x,y = atoms[j].pos()\n",
    "        atoms[j].goto(x + dt*vel[j][0], y + dt*vel[j][1])\n",
    "        \n",
    "        \n",
    "    # Tell turtles we are done updating and to redraw\n",
    "    turtle.update()\n",
    "    "
   ]
  },
  {
   "cell_type": "markdown",
   "metadata": {},
   "source": [
    "It works!"
   ]
  },
  {
   "cell_type": "markdown",
   "metadata": {
    "collapsed": true
   },
   "source": [
    "Always clean up."
   ]
  },
  {
   "cell_type": "code",
   "execution_count": 11,
   "metadata": {
    "collapsed": true
   },
   "outputs": [],
   "source": [
    "window.bye()"
   ]
  },
  {
   "cell_type": "code",
   "execution_count": null,
   "metadata": {
    "collapsed": true
   },
   "outputs": [],
   "source": []
  }
 ],
 "metadata": {
  "kernelspec": {
   "display_name": "Python 2",
   "language": "python",
   "name": "python2"
  },
  "language_info": {
   "codemirror_mode": {
    "name": "ipython",
    "version": 2
   },
   "file_extension": ".py",
   "mimetype": "text/x-python",
   "name": "python",
   "nbconvert_exporter": "python",
   "pygments_lexer": "ipython2",
   "version": "2.7.11"
  }
 },
 "nbformat": 4,
 "nbformat_minor": 0
}
