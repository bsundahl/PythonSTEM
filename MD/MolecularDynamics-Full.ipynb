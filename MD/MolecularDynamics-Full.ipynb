{
 "cells": [
  {
   "cell_type": "markdown",
   "metadata": {},
   "source": [
    "# Molecular Dynamics 1 "
   ]
  },
  {
   "cell_type": "markdown",
   "metadata": {},
   "source": [
    "Believe it or not, we now know enough to do some really cool things. Science-y things. Things like molecular dynamics!\n",
    "\n",
    "So we're all going to spend some time creating a working molecular dynamics code, in 2 dimensions. We'll even animate it using Turtles so we can see our molecules bounce around and interact!  \n",
    "  \n",
    "But we need to take baby steps, not because you're new to programming but because its a good problem solving strategy. So our first step will be to take a atom (IE: a ball) and move it. We will animate this using the Turtle library we introduced in Day 1. So we need to import the turtles library."
   ]
  },
  {
   "cell_type": "code",
   "execution_count": 1,
   "metadata": {
    "collapsed": true
   },
   "outputs": [],
   "source": [
    "import turtle"
   ]
  },
  {
   "cell_type": "markdown",
   "metadata": {},
   "source": [
    "Now lets write a function to get our back drop set up."
   ]
  },
  {
   "cell_type": "code",
   "execution_count": 2,
   "metadata": {
    "collapsed": false
   },
   "outputs": [],
   "source": [
    "def initialize_window():\n",
    "    # Create the object with desired properties\n",
    "    window = turtle.Screen()\n",
    "    window.title('Molecular Dynamics')\n",
    "    window.clear()\n",
    "    \n",
    "    # All done! So return our new window\n",
    "    return window"
   ]
  },
  {
   "cell_type": "markdown",
   "metadata": {},
   "source": [
    "Now we can create our window. Lets write a function clean up our window (since we're all responsible programmers.)"
   ]
  },
  {
   "cell_type": "code",
   "execution_count": 3,
   "metadata": {
    "collapsed": true
   },
   "outputs": [],
   "source": [
    "# We need to specify which window to close, so lets\n",
    "# pass the window we want to close to this function\n",
    "# as an input parameter\n",
    "def clean_up(window):\n",
    "    window.bye()"
   ]
  },
  {
   "cell_type": "code",
   "execution_count": 4,
   "metadata": {
    "collapsed": false
   },
   "outputs": [],
   "source": [
    "def initialize_atom():\n",
    "    # Variables to hold things we want to be constant\n",
    "    atom_radius = 50\n",
    "    atom_color = \"red\"\n",
    "    \n",
    "    # We need to use the turtle library to create the atom\n",
    "    atom = turtle.Turtle()\n",
    "\n",
    "    # The actual turtle to draw, in the proper shape\n",
    "    atom.shape('circle')\n",
    "    atom.shapesize(atom_radius/10.0) # We do this to correct for a unit \n",
    "                                     # mismatch. This makes thing act\n",
    "                                     # more like you expect\n",
    "    atom.color(atom_color)\n",
    "    atom.penup()\n",
    "    \n",
    "    # All done! So return our new atom\n",
    "    return atom\n",
    "    \n",
    "    "
   ]
  },
  {
   "cell_type": "markdown",
   "metadata": {},
   "source": [
    "Awesome, we can now make an atom on our screen. And now we need a clean up function for the atom."
   ]
  },
  {
   "cell_type": "code",
   "execution_count": 5,
   "metadata": {
    "collapsed": true
   },
   "outputs": [],
   "source": [
    "# We need to specify which atom to delete, so lets\n",
    "# pass the atom we want to delete to this function\n",
    "# as an input parameter\n",
    "def clean_up(atom):\n",
    "    del atom"
   ]
  },
  {
   "cell_type": "markdown",
   "metadata": {},
   "source": [
    "Now lets test our functions!"
   ]
  },
  {
   "cell_type": "code",
   "execution_count": null,
   "metadata": {
    "collapsed": false
   },
   "outputs": [],
   "source": [
    "# Need the window created first\n",
    "window = initialize_window()"
   ]
  },
  {
   "cell_type": "code",
   "execution_count": null,
   "metadata": {
    "collapsed": true
   },
   "outputs": [],
   "source": [
    "# Now to draw an atom\n",
    "atom = initialize_atom()"
   ]
  },
  {
   "cell_type": "markdown",
   "metadata": {},
   "source": [
    "Cool. We have a window and an atom in it. So how do we start to simulate the atom moving? Lets start with some basic movements. Lets start with some basic movement using the \"goto\" command."
   ]
  },
  {
   "cell_type": "code",
   "execution_count": null,
   "metadata": {
    "collapsed": false
   },
   "outputs": [],
   "source": [
    "atom.goto(50,0)"
   ]
  },
  {
   "cell_type": "code",
   "execution_count": null,
   "metadata": {
    "collapsed": true
   },
   "outputs": [],
   "source": [
    "atom.goto(100,50)"
   ]
  },
  {
   "cell_type": "code",
   "execution_count": null,
   "metadata": {
    "collapsed": true
   },
   "outputs": [],
   "source": [
    "# Lets delete the atom\n",
    "clean_up(atom)\n",
    "\n",
    "# Now lets test our clean up function\n",
    "clean_up(window)"
   ]
  },
  {
   "cell_type": "markdown",
   "metadata": {},
   "source": [
    "Ok, we seem to be able to move it with single commands. Lets write a function to move it in a loop."
   ]
  },
  {
   "cell_type": "code",
   "execution_count": 6,
   "metadata": {
    "collapsed": false
   },
   "outputs": [],
   "source": [
    "def motion(atom, window):\n",
    "    #\n",
    "    # Input parameters:\n",
    "    #\n",
    "    #   atom - the turtle object to be moved\n",
    "    #   window - the window to move the turtle object in\n",
    "    #     \n",
    "    \n",
    "    # First reset it\n",
    "    atom.home()\n",
    "\n",
    "    # Lets set our initial velocity with\n",
    "    # the understanding that positive velocity\n",
    "    # moves the atom in the right or up \n",
    "    # directions.\n",
    "    velocity = 10\n",
    "\n",
    "    # The amount of time each iteration moves us forward\n",
    "    dt = 1\n",
    "\n",
    "    for i in range(100):\n",
    "    \n",
    "        # Get the current position of the atom\n",
    "        (x,y) = atom.pos()\n",
    "    \n",
    "        # Just to see whats going on\n",
    "        print x, y\n",
    "    \n",
    "        # Move our atom\n",
    "        atom.goto(x + dt*velocity, 0)"
   ]
  },
  {
   "cell_type": "markdown",
   "metadata": {},
   "source": [
    "And now lets test everthing!"
   ]
  },
  {
   "cell_type": "code",
   "execution_count": null,
   "metadata": {
    "collapsed": false
   },
   "outputs": [],
   "source": [
    "window = initialize_window()\n",
    "atom = initialize_atom()"
   ]
  },
  {
   "cell_type": "code",
   "execution_count": null,
   "metadata": {
    "collapsed": false,
    "scrolled": true
   },
   "outputs": [],
   "source": [
    "motion(atom, window)"
   ]
  },
  {
   "cell_type": "markdown",
   "metadata": {},
   "source": [
    "It works! But we quickly lost our atom. Thats because we didn't force our atom to interact with out screen, so he just floated off."
   ]
  },
  {
   "cell_type": "code",
   "execution_count": null,
   "metadata": {
    "collapsed": true
   },
   "outputs": [],
   "source": [
    "# Clean up\n",
    "clean_up(atom)\n",
    "clean_up(window)"
   ]
  },
  {
   "cell_type": "markdown",
   "metadata": {},
   "source": [
    "So how do we make our atom interact with the walls? We know the position of the atom at each step (it was printed out in our motion() function. So how do we know when our atom has passed the wall? Well, when the coordinates are greater than the location of the wall, thats a good indication the atom has passed beyond the wall. So how can we modify our motion function to account for this?"
   ]
  },
  {
   "cell_type": "markdown",
   "metadata": {},
   "source": [
    "Lets write a new motion function that handles the wall collisions."
   ]
  },
  {
   "cell_type": "code",
   "execution_count": 7,
   "metadata": {
    "collapsed": true
   },
   "outputs": [],
   "source": [
    "def motion2(atom, window):\n",
    "    #\n",
    "    # Input parameters:\n",
    "    #\n",
    "    #   atom - the turtle object to be moved\n",
    "    #   window - the window to move the turtle object in\n",
    "    #     \n",
    "    \n",
    "    # First reset it\n",
    "    atom.home()\n",
    "    atom.clear()\n",
    "\n",
    "    # Initial velocities in x and y diretions\n",
    "    x_vel = 20\n",
    "    y_vel = -10\n",
    "    \n",
    "    # Atom radius, its constant and defined above\n",
    "    # in atom creation. This is just hack =(\n",
    "    atom_radius = 50\n",
    "    \n",
    "    # We will want to store these numbers in a variable\n",
    "    height = window.window_height()\n",
    "    width = window.window_width()\n",
    "\n",
    "    # The amount of time each iteration moves us forward\n",
    "    dt = 1\n",
    "\n",
    "    # Max number of steps\n",
    "    max_steps = 1000\n",
    "\n",
    "    for i in range(max_steps):\n",
    "    \n",
    "        # Get the current position of the atom\n",
    "        (x,y) = atom.pos()\n",
    "    \n",
    "        print x, y\n",
    "    \n",
    "        # Check if moving left or right will put our atom beyond the wall\n",
    "        if abs(x + dt * x_vel) >= width/2.0 - atom_radius:\n",
    "        \n",
    "            # We have moved too far right or left, so flip the x_vel\n",
    "            x_vel = -x_vel           \n",
    "    \n",
    "        # Check if moving up or down will put our atom beyond the wall\n",
    "        if abs(y + dt * y_vel) >= height/2.0 - atom_radius:\n",
    "        \n",
    "            # We have moved too far up or down, so flip the y_vel\n",
    "            y_vel = -y_vel\n",
    "        \n",
    "        # We won't move out of the box, so update the new position\n",
    "        atom.goto(x + dt*x_vel, y + dt*y_vel)\n",
    "    "
   ]
  },
  {
   "cell_type": "markdown",
   "metadata": {},
   "source": [
    "Lets test out our new function and see if it works. But first, lets clean up the last one."
   ]
  },
  {
   "cell_type": "code",
   "execution_count": null,
   "metadata": {
    "collapsed": false
   },
   "outputs": [],
   "source": [
    "window = initialize_window()\n",
    "atom = initialize_atom()"
   ]
  },
  {
   "cell_type": "code",
   "execution_count": null,
   "metadata": {
    "collapsed": false,
    "scrolled": true
   },
   "outputs": [],
   "source": [
    "motion2(atom,window)"
   ]
  },
  {
   "cell_type": "markdown",
   "metadata": {},
   "source": [
    "Cool, thats working! Lets clean up first before moving on."
   ]
  },
  {
   "cell_type": "code",
   "execution_count": null,
   "metadata": {
    "collapsed": true
   },
   "outputs": [],
   "source": [
    "clean_up(atom)\n",
    "clean_up(window)"
   ]
  },
  {
   "cell_type": "markdown",
   "metadata": {},
   "source": [
    "So now lets do the exact same thing with a bunch of atoms! How do we maintain a bunch of atoms at the same time? I recommend we use lists. So how do we rewrite some of our functions to incorperate lists?\n",
    "  \n",
    "So lets write a new atom creation function that uses lists."
   ]
  },
  {
   "cell_type": "code",
   "execution_count": 9,
   "metadata": {
    "collapsed": true
   },
   "outputs": [],
   "source": [
    "# We will need this library to start our atoms in random spots\n",
    "# with random velocities\n",
    "import random\n",
    "\n",
    "def initialize_atoms( num_atoms, window):\n",
    "    \n",
    "    # Empty list we will add to\n",
    "    atom_list = []\n",
    "    \n",
    "    # Now use a loop to initialize a new atom\n",
    "    # and do it num_atoms times.\n",
    "    for i in range(num_atoms):\n",
    "        atom_list.append(turtle.Turtle())\n",
    "    \n",
    "    # Variables to hold things we want to be constant\n",
    "    atom_radius = 20\n",
    "\n",
    "    # Scaling factor here is so we don't get our \n",
    "    # initial positions stuck on the edge.\n",
    "    scaling_factor = 0.8\n",
    "         \n",
    "    # We will want to store these numbers in a variable\n",
    "    height = window.window_height()\n",
    "    width = window.window_width()\n",
    "\n",
    "    # We need to loop over each atom.\n",
    "    for i in range(num_atoms):\n",
    "   \n",
    "        # Draw the atom in the proper shape\n",
    "        atom_list[i].shape('circle')\n",
    "        atom_list[i].shapesize(atom_radius/10.0)\n",
    "        atom_list[i].color((random.random(),random.random(),random.random()))\n",
    "        atom_list[i].penup()\n",
    "        atom_list[i].goto(random.uniform(-1,1)*width/2.0 * scaling_factor, random.uniform(-1,1)*height/2.0 * scaling_factor)\n",
    "  \n",
    "        # Turtles can be very slow. This is a semi-fix to tell\n",
    "        # turtles not to update the screen with every change,\n",
    "        # but rather wait till a set of updates are done and \n",
    "        # then update the screen.\n",
    "        atom_list[i].tracer(0,0)\n",
    "        turtle.update()\n",
    "        \n",
    "    # All done, so return our atom_list\n",
    "    return atom_list"
   ]
  },
  {
   "cell_type": "markdown",
   "metadata": {},
   "source": [
    "Alright, lets test."
   ]
  },
  {
   "cell_type": "code",
   "execution_count": 11,
   "metadata": {
    "collapsed": false
   },
   "outputs": [],
   "source": [
    "window = initialize_window()\n",
    "atoms = initialize_atoms(5, window)"
   ]
  },
  {
   "cell_type": "markdown",
   "metadata": {},
   "source": [
    "Everything seems to be in order. Now lets rewrite our motion function to handle a list of atoms."
   ]
  },
  {
   "cell_type": "code",
   "execution_count": 18,
   "metadata": {
    "collapsed": true
   },
   "outputs": [],
   "source": [
    "# This is needed for velocity creation\n",
    "import random\n",
    "\n",
    "def motion3(atom_list, window):\n",
    "    #\n",
    "    # Input parameters:\n",
    "    #\n",
    "    #   atom_list - the turtle objects to be moved (default call sets up 5)\n",
    "    #   window - the window to move the turtle object in (default call is a blank window)\n",
    "    #     \n",
    "    \n",
    "    # The number of atoms is equal to the length of atom_list\n",
    "    num_atoms = len(atom_list)\n",
    "    \n",
    "    # Variables to hold things we want to be constant\n",
    "    atom_radius = 20\n",
    "    \n",
    "    # Now lets create a list of random velocities for our atoms\n",
    "    # Max velocity we want\n",
    "    max_velocity = 20.0\n",
    "\n",
    "    # Initailize an empty list\n",
    "    velocity_list = []\n",
    "\n",
    "    # Now loop over the number of atoms\n",
    "    for i in range(num_atoms):\n",
    "        velocity_list.append([random.uniform(-1,1)*max_velocity, random.uniform(-1,1)*max_velocity])\n",
    "    \n",
    "    # The amount of time each iteration moves us forward\n",
    "    dt = 0.1\n",
    "    \n",
    "    # We will want to store these numbers in a variable\n",
    "    height = window.window_height()\n",
    "    width = window.window_width()\n",
    "    \n",
    "    # Max number of steps\n",
    "    max_steps=10000\n",
    "    \n",
    "    for i in range(max_steps):  #Just controls how long the simulation runs\n",
    "\n",
    "        # We want to move each atom\n",
    "        for j in range(num_atoms):\n",
    "    \n",
    "            # Get the current position of the atom\n",
    "            (x,y) = atom_list[j].pos()\n",
    "    \n",
    "            # Check if moving left or right will put our atom beyond the wall\n",
    "            if abs(x + dt * velocity_list[j][0]) >= width/2.0 - atom_radius:\n",
    "        \n",
    "                # We have moved too far right or left, so flip the x_vel\n",
    "                velocity_list[j][0] = -velocity_list[j][0]           \n",
    "    \n",
    "            # Check if moving up or down will put our atom beyond the wall\n",
    "            if abs(y + dt * velocity_list[j][1]) >= height/2.0 - atom_radius:\n",
    "        \n",
    "                # We have moved too far up or down, so flip the y_vel\n",
    "                velocity_list[j][1] = -velocity_list[j][1]\n",
    "        \n",
    "            # We won't move out of the box, so update the new position\n",
    "            atom_list[j].goto(x + dt*velocity_list[j][0], y + dt*velocity_list[j][1])\n",
    "        \n",
    "        # Tell turtles we are done updating and to redraw\n",
    "        # Only redraw every 10 steps to make it smoother\n",
    "        if i % 10 == 0:\n",
    "            turtle.update()\n",
    "    \n",
    "    "
   ]
  },
  {
   "cell_type": "code",
   "execution_count": 22,
   "metadata": {
    "collapsed": false
   },
   "outputs": [],
   "source": [
    "motion3(atoms, window)"
   ]
  },
  {
   "cell_type": "markdown",
   "metadata": {},
   "source": [
    "And it works!  \n",
    "  \n",
    "And lets clean up."
   ]
  },
  {
   "cell_type": "code",
   "execution_count": 23,
   "metadata": {
    "collapsed": true
   },
   "outputs": [],
   "source": [
    "clean_up(atoms)\n",
    "clean_up(window)"
   ]
  },
  {
   "cell_type": "code",
   "execution_count": null,
   "metadata": {
    "collapsed": true
   },
   "outputs": [],
   "source": []
  }
 ],
 "metadata": {
  "kernelspec": {
   "display_name": "Python 2",
   "language": "python",
   "name": "python2"
  },
  "language_info": {
   "codemirror_mode": {
    "name": "ipython",
    "version": 2
   },
   "file_extension": ".py",
   "mimetype": "text/x-python",
   "name": "python",
   "nbconvert_exporter": "python",
   "pygments_lexer": "ipython2",
   "version": "2.7.11"
  }
 },
 "nbformat": 4,
 "nbformat_minor": 0
}
